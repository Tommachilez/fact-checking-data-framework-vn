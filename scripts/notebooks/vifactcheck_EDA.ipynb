{
 "cells": [
  {
   "cell_type": "code",
   "execution_count": 1,
   "id": "6aa2b0bc",
   "metadata": {},
   "outputs": [
    {
     "name": "stderr",
     "output_type": "stream",
     "text": [
      "d:\\Projects\\enhancing-data-for-fact-checking-automation-leveraging-contrastive-learning\\.venv\\Lib\\site-packages\\tqdm\\auto.py:21: TqdmWarning: IProgress not found. Please update jupyter and ipywidgets. See https://ipywidgets.readthedocs.io/en/stable/user_install.html\n",
      "  from .autonotebook import tqdm as notebook_tqdm\n"
     ]
    }
   ],
   "source": [
    "# Imports\n",
    "from datasets import load_dataset\n",
    "import pandas as pd\n",
    "import seaborn as sns\n",
    "import matplotlib.pyplot as plt"
   ]
  },
  {
   "cell_type": "markdown",
   "id": "b6b2b477",
   "metadata": {},
   "source": [
    "# Load ViFactCheck"
   ]
  },
  {
   "cell_type": "code",
   "execution_count": 2,
   "id": "ec0275ac",
   "metadata": {},
   "outputs": [
    {
     "data": {
      "text/plain": [
       "DatasetDict({\n",
       "    train: Dataset({\n",
       "        features: ['Unnamed: 0', 'index', 'Statement', 'Context', 'annotation_id', 'Topic', 'Author', 'Url', 'labels', 'Evidence'],\n",
       "        num_rows: 5062\n",
       "    })\n",
       "    dev: Dataset({\n",
       "        features: ['Unnamed: 0', 'index', 'Statement', 'Context', 'annotation_id', 'Topic', 'Author', 'Url', 'labels', 'Evidence'],\n",
       "        num_rows: 723\n",
       "    })\n",
       "    test: Dataset({\n",
       "        features: ['Unnamed: 0', 'index', 'Statement', 'Context', 'annotation_id', 'Topic', 'Author', 'Url', 'labels', 'Evidence'],\n",
       "        num_rows: 1447\n",
       "    })\n",
       "})"
      ]
     },
     "execution_count": 2,
     "metadata": {},
     "output_type": "execute_result"
    }
   ],
   "source": [
    "# Load ViFactCheck\n",
    "dataset = load_dataset(\"tranthaihoa/vifactcheck\")\n",
    "\n",
    "# Explore available splits\n",
    "dataset"
   ]
  },
  {
   "cell_type": "markdown",
   "id": "c2d7463c",
   "metadata": {},
   "source": [
    "# Data Overview"
   ]
  },
  {
   "cell_type": "code",
   "execution_count": 3,
   "id": "2a609ecf",
   "metadata": {},
   "outputs": [
    {
     "data": {
      "application/vnd.microsoft.datawrangler.viewer.v0+json": {
       "columns": [
        {
         "name": "index",
         "rawType": "int64",
         "type": "integer"
        },
        {
         "name": "Unnamed: 0",
         "rawType": "int64",
         "type": "integer"
        },
        {
         "name": "index",
         "rawType": "int64",
         "type": "integer"
        },
        {
         "name": "Statement",
         "rawType": "object",
         "type": "string"
        },
        {
         "name": "Context",
         "rawType": "object",
         "type": "string"
        },
        {
         "name": "annotation_id",
         "rawType": "int64",
         "type": "integer"
        },
        {
         "name": "Topic",
         "rawType": "object",
         "type": "string"
        },
        {
         "name": "Author",
         "rawType": "object",
         "type": "string"
        },
        {
         "name": "Url",
         "rawType": "object",
         "type": "string"
        },
        {
         "name": "labels",
         "rawType": "int64",
         "type": "integer"
        },
        {
         "name": "Evidence",
         "rawType": "object",
         "type": "string"
        }
       ],
       "conversionMethod": "pd.DataFrame",
       "ref": "78e5f8cb-4412-41a1-9978-a60ed8ad778f",
       "rows": [
        [
         "1779",
         "1779",
         "4577",
         "Việt Nam khẳng định lập trường nguyên tắc của ASEAN về Biển Đông, yêu cầu các nước trong khối nên tôn trọng chủ quyền của Việt Nam ở Hoàng Sa và Trường Sa.",
         "(Chinhphu.vn) - Ngày 6/3, Đại sứ Vũ Hồ, Quyền Trưởng SOM ASEAN Việt Nam dự Hội nghị quan chức cao cấp ASEAN và cuộc họp lần thứ 15 Nhóm công tác Hội đồng Điều phối ASEAN về việc Timor Leste gia nhập ASEAN. Các quan chức cấp cao ASEAN dự hội nghị - Ảnh: BNG Các hội nghị này là bước chuẩn bị cho Hội nghị Cấp cao ASEAN lần thứ 42 và các Hội nghị Bộ trưởng Ngoại giao diễn ra trong tháng 5/2023 tại Indonesia, nước Chủ tịch ASEAN. Tại Hội nghị quan chức cao cấp ASEAN (SOM), các đại biểu cơ bản thống nhất hướng triển khai các nội dung ưu tiên của ASEAN trong năm 2023, bao gồm: Thúc đẩy tăng trưởng và phục hồi; nâng cao năng lực và hiệu quả thể chế của ASEAN; ứng phó với các thách thức an ninh phi truyền thống, đặc biệt là an ninh lương thực, an ninh năng lượng, an ninh mạng, tội phạm xuyên quốc gia, tự cường y tế, ổn định tài chính-kinh tế… Theo đó, các nước ủng hộ đề xuất của Indonesia đẩy mạnh triển khai Tầm nhìn ASEAN về Ấn Độ Dương-Thái Bình Dương với các sự kiện lớn sẽ được tổ chức trong năm nay như tăng cường vai trò của thanh niên trong phát triển số, thúc đẩy kinh doanh và đầu tư ASEAN, tăng cường hợp tác kết nối và phát triển cơ sở hạ tầng, phát triển kinh tế sáng tạo. Trao đổi về quan hệ đối ngoại của ASEAN, các đại biểu rà soát, cập nhật tình hình và trao đổi các biện pháp nhằm thúc đẩy hợp tác thực chất, cùng có lợi giữa ASEAN với các đối tác đối thoại trên cơ sở phát huy vai trò trung tâm của ASEAN cũng như giá trị của các cơ chế do Hiệp hội dẫn dắt, đặc biệt là thúc đẩy văn hóa tham vấn, đối thoại và định hình cấu trúc khu vực mở, minh bạch, bao trùm và dựa trên luật lệ. Bên cạnh đó, các nước cũng thảo luận và thống nhất hướng tiếp cận với đề xuất hợp tác mới với ASEAN của một số đối tác và tổ chức khu vực. Về các vấn đề quốc tế và khu vực, các nước ASEAN nhấn mạnh cần duy trì đoàn kết, thống nhất, phát huy vai trò và tiếng nói trách nhiệm của ASEAN, nhất là trong bối cảnh khu vực và thế giới vẫn tiếp tục chứng kiến những biến động nhanh chóng, phức tạp và khó đoán định. Trên tinh thần đó, các nước nhất trí tiếp tục phát huy vai trò của ASEAN trong nỗ lực hỗ trợ Myanmar tìm giải pháp khả thi, bền vững cho cuộc khủng hoảng hiện nay thông qua thúc đẩy thực hiện Đồng thuận 5 điểm; đề cao lập trường nguyên tắc của ASEAN trong vấn đề Biển Đông, quyết tâm xây dựng Biển Đông thành vùng biển hòa bình, hợp tác và phát triển. Cùng ngày, tại cuộc họp lần thứ 15 Nhóm công tác Hội đồng Điều phối ASEAN về việc Timor Leste xin gia nhập ASEAN, các nước nhất trí tiếp tục hỗ trợ Timor Leste nâng cao năng lực, từng bước đáp ứng các tiêu chí thành viên của Hiệp hội các quốc gia Đông Nam Á, nhất là thông qua xây dựng một lộ trình với các tiêu chí cụ thể, đồng thời khuyến khích Timor Leste tích cực tham gia các chương trình, hoạt động phi chính sách hỗ trợ nâng cao năng lực hiện có của ASEAN. Tại các hội nghị này, Đại sứ Vũ Hồ khẳng định sự ủng hộ và tinh thần sẵn sàng hợp tác của Việt Nam nhằm hiện thực hóa các nội dung hợp tác ưu tiên của nước Chủ tịch Indonesia nói riêng và ASEAN nói chung trong năm 2023; đề nghị ASEAN duy trì cách tiếp cận khách quan, cân bằng và khả năng tự chủ chiến lược để xử lý hài hòa, hiệu quả các vấn đề trong quan hệ với các đối tác cũng như các vấn đề quốc tế, khu vực phức tạp, có khả năng tác động tới tiến trình hợp tác và sự phát triển chung của ASEAN cũng như hoà bình, an ninh và ổn định khu vực. Đại sứ cũng đề xuất ASEAN cần xây dựng một lộ trình thực tế và phù hợp để hỗ trợ Timor Leste chuẩn bị kỹ lưỡng cho việc gia nhập ASEAN; khẳng định Việt Nam sẵn sàng phối hợp với các nước giúp Timor Leste nâng cao năng lực đáp ứng nghĩa vụ của một thành viên ASEAN. Về Biển Đông, Đại sứ Vũ Hồ tái khẳng định lập trường nguyên tắc của ASEAN, đặc biệt nhấn mạnh tầm quan trọng của tuân thủ luật pháp quốc tế và Công ước Luật Biển 1982 của LHQ; ủng hộ thực hiện đầy đủ và hiệu quả Tuyên bố về ứng xử của các bên ở Biển Đông (DOC), thúc đẩy đàm phán xây dựng Bộ quy tắc ứng xử Biển Đông (COC) hiệu quả, thực chất, phù hợp với luật pháp quốc tế và UNCLOS 1982. Bên cạnh đó, các nước cũng cần xây dựng cách tiếp cận mới, phù hợp với tình hình hiện tại trong quá trình xây dựng COC./. BNG",
         "19185936",
         "Quốc tế",
         "Chính Phủ",
         "https://baochinhphu.vn/cac-nuoc-asean-nhat-tri-ho-tro-timor-leste-tro-thanh-thanh-vien-hiep-hoi-102230307082511512.htm",
         "2",
         "Về Biển Đông, Đại sứ Vũ Hồ tái khẳng định lập trường nguyên tắc của ASEAN, đặc biệt nhấn mạnh tầm quan trọng của tuân thủ luật pháp quốc tế và Công ước Luật Biển 1982 của LHQ; ủng hộ thực hiện đầy đủ và hiệu quả Tuyên bố về ứng xử của các bên ở Biển Đông (DOC), thúc đẩy đàm phán xây dựng Bộ quy tắc ứng xử Biển Đông (COC) hiệu quả, thực chất, phù hợp với luật pháp quốc tế và UNCLOS 1982."
        ],
        [
         "3776",
         "3776",
         "147",
         "Kì thi tuyển sinh vào 10 diễn ra vào 6-7/6/2023 với bài thi gồm 3 môn cơ bản và một bài thi môn chuyên nếu vào lớp chuyên.",
         "Các trường THPT chuyên tại TP HCM vẫn được tuyển sinh lớp không chuyên cho năm học tới, số lượng học sinh được tuyển tương tự năm ngoái. Trong phương án tuyển sinh đầu cấp trình UBND thành phố, Sở Giáo dục và Đào tạo TP HCM đề xuất cho hai trường chuyên được giữ nguyên chỉ tiêu tuyển sinh như năm trước. Trong đó, trường THPT chuyên Lê Hồng Phong tuyển 525 học sinh, THPT chuyên Trần Đại Nghĩa tuyển 315 học sinh lớp 10. Chỉ tiêu các lớp không chuyên của hai trường lần lượt là 180 và 90. Một cán bộ Sở Giáo dục và Đào tạo TP HCM chiều 17/3 cho biết quy chế mới nhất về tổ chức và hoạt động trường chuyên của Bộ Giáo dục và Đào tạo yêu cầu không tổ chức lớp không chuyên trong trường chuyên. Tuy nhiên, việc này áp dụng từ năm học 2024-2025. Năm nay, học sinh kỳ thi tuyển sinh vào lớp 10 ở TP HCM dự kiến diễn ra vào ngày 6-7/6. Các em làm bài thi ba môn cơ bản Ngữ văn, Ngoại ngữ, Toán, thí sinh có nguyện vọng vào trường chuyên thì làm thêm bài thi môn chuyên. Các môn thi chuyên gồm Ngữ văn, Toán, Vật lý, Hoá học, Sinh học, Lịch sử, Địa lý, Tiếng Anh, Tiếng Trung, Tiếng Nhật, Tin học. Học sinh đăng ký thi chuyên Tin học có thể đăng ký môn chuyên là Tin học hoặc Toán. Điểm xét tuyển vào lớp 10 chuyên là tổng điểm bài thi ba môn cơ bản (hệ số 1) cộng điểm bài thi chuyên (hệ số 2). Học sinh sẽ làm hồ sơ dự tuyển cùng đợt đăng ký thi tuyển vào lớp 10 đại trà. Riêng trường THPT chuyên Lê Hồng Phong được tuyển thí sinh ở các tỉnh, thành khác. Năm trước, lớp 10 chuyên Hóa của trường THPT chuyên Lê Hồng Phong có điểm chuẩn cao nhất là 38,5 điểm với nguyện vọng một và 39 điểm với nguyện vọng hai. Nhật Lệ",
         "19051088",
         "Giáo dục",
         "VnExpress",
         "https://vnexpress.net/hai-truong-chuyen-cua-tp-hcm-tuyen-hon-1-100-hoc-sinh-lop-10-4582629.html",
         "0",
         "Năm nay, học sinh kỳ thi tuyển sinh vào lớp 10 ở TP HCM dự kiến diễn ra vào ngày 6-7/6. Các em làm bài thi ba môn cơ bản Ngữ văn, Ngoại ngữ, Toán, thí sinh có nguyện vọng vào trường chuyên thì làm thêm bài thi môn chuyên."
        ],
        [
         "2675",
         "2675",
         "4824",
         "Ông Trần Bảo Lâm được Ban Thường vụ Tỉnh ủy Bình Dương giới thiệu để HĐND TP Thủ Dầu Một xem xét, bầu giữ chức Chủ tịch UBND thành phố.",
         "TPO - Tỉnh ủy Bình Dương chuẩn y chức danh Chủ nhiệm UBKT Thành ủy Thủ Dầu Một đối với ông Phạm Minh Thiện, và điều động, chỉ định ông Trần Bảo Lâm, Phó Bí thư Tỉnh Đoàn, tham gia Ban Chấp hành Đảng bộ TP Thủ Dầu Một, để giới thiệu HĐND bầu làm Phó Chủ tịch UBND thành phố. Ngày 27/3, Tỉnh ủy Bình Dương tổ chức hội nghị công bố Quyết định của Ban Thường vụ Tỉnh ủy về việc chuẩn y chức danh Chủ nhiệm Ủy ban Kiểm tra Thành ủy Thủ Dầu Một đối với ông Phạm Minh Thiện - Ủy viên Ban Thường vụ Thành ủy, Bí thư Đảng ủy phường Phú Lợi. Ngoài ra, Ban Thường vụ Tỉnh ủy Bình Dương cũng có quyết định về việc điều động và chỉ định ông Trần Bảo Lâm, Phó Bí thư Tỉnh Đoàn, tham gia Ban Chấp hành Đảng bộ TP Thủ Dầu Một nhiệm kỳ 2020-2025. Đồng thời, Ban Thường vụ Tỉnh ủy Bình Dương giới thiệu ông Trần Bảo Lâm để HĐND TP Thủ Dầu Một xem xét, bầu giữ chức Phó Chủ tịch UBND thành phố. Dự kiến vào ngày 30/3 tới, HĐND TP Thủ Dầu Một sẽ tổ chức phiên họp để bầu chức danh Phó Chủ tịch UBND thành phố.",
         "18594553",
         "XÃ HỘI",
         "Tiền Phong",
         "https://tienphong.vn/cong-bo-quyet-dinh-cua-ban-thuong-vu-tinh-uy-binh-duong-ve-cong-tac-can-bo-post1520981.tpo",
         "1",
         "Ban Thường vụ Tỉnh ủy Bình Dương giới thiệu ông Trần Bảo Lâm để HĐND TP Thủ Dầu Một xem xét, bầu giữ chức Phó Chủ tịch UBND thành phố."
        ],
        [
         "4109",
         "4109",
         "6193",
         "Do bé không hợp tác nên các bác sĩ đã gây mê và lấy pin ra ngoài qua đường nội soi mũi.",
         "Bệnh viện Nhi đồng 1 vừa tiếp nhận một bệnh nhi nhét pin điện tử vào mũi. Kết quả kiểm tra cho thấy pin đã ăn mòn làm hoại tử một phần niêm mạc vách ngăn, cuốn mũi dưới và sàn mũi nơi pin tiếp xúc. Ngày 30.3, tin từ Bệnh viện Nhi đồng 1 (TP.HCM) cho biết, bệnh viện vừa tiếp nhận bé gái 3 tuổi (ngụ Long An) do nhét pin điện tử vào mũi. Trước đó, bé gái vào Bệnh viện Nhi đồng 1 trong tình trạng quấy khóc, đau nhức mũi, chảy dịch vàng lẫn máu bên mũi phải. Cục pin điện tử được lấy ra từ mũi bệnh nhi BVCC Gia đình bệnh nhi cho biết, bé đang chơi một mình thì bất ngờ chạy vào nhà báo với người thân vừa nhét đồ chơi vào mũi. Sau đó bé than đau, người nhà lo lắng đưa đến phòng khám gần nhà nhưng do bé không hợp tác nên không lấy được dị vật. Bé được chuyển đến Bệnh viện Nhi đồng 1. Bác sĩ trực khoa Tai mũi họng nhanh chóng thăm khám, chỉ định chụp X-quang để xác định vị trí dị vật. Qua phim X-quang, bác sĩ xác định đây là dị vật mũi nghi pin điện tử dạng cúc áo. Bác sĩ nhận định pin điện tử là dị vật nguy hiểm. Do đó, cần phải nhanh chóng lấy dị vật ra khỏi hốc mũi vì nguy cơ pin điện tử gây thủng vách ngăn, ăn mòn các cấu trúc quan trọng của hốc mũi. Nếu xử trí không phù hợp có thể gây ra dị vật đường thở hoặc đường ăn. Bệnh nhi được làm xét nghiệm tiền mê khẩn, sau đó tiến hành gây mê để lấy pin điện tử. Sau hơn 20 phút, các y bác sĩ đã lấy được pin điện tử qua đường nội soi mũi. Kết quả kiểm tra cho thấy pin đã ăn mòn làm hoại tử một phần niêm mạc vách ngăn, cuốn mũi dưới và sàn mũi nơi pin tiếp xúc. Bệnh nhi được bơm rửa hốc mũi nhiều lần, lấy bớt phần niêm mạc bị hoại tử, soi kiểm tra hốc mũi 2 bên đảm bảo trống thoáng trước khi kết thúc. Nhờ khẩn trương can thiệp kịp thời nên qua hơn 1 tuần theo dõi chưa thấy có cấu trúc quan trọng nào bị hoại tử, không có tai biến hay biến chứng nguy hiểm nào xảy ra. Bác sĩ Nguyễn Minh Trung, Bệnh viện Nhi đồng 1, cho biết ở độ tuổi khám phá thế giới xung quanh, trẻ nhỏ có thể nuốt hay sặc vào đường thở hoặc nhét bất cứ dị vật nào vào các hốc tự nhiên của cơ thể. Không ít lần những biến chứng nguy hiểm và chuyện đáng tiếc nhất đã xảy ra từ những sự cố đó. Do đó, bác sĩ Trung khuyến cáo hãy trông trẻ cẩn thận, tránh để trẻ chơi với những vật nhỏ, gọn vừa tầm tay. Đặc biệt không nên cho trẻ chơi những đồ chơi sử dụng pin điện tử dạng cúc áo.",
         "18199706",
         "Sức khoẻ",
         "Thanh Niên",
         "https://thanhnien.vn/nhet-pin-dien-tu-vao-mui-be-gai-3-tuoi-bi-hoai-tu-mui-185230330105043308.htm",
         "0",
         "do bé không hợp tác nên không lấy được dị vật Bệnh nhi được làm xét nghiệm tiền mê khẩn, sau đó tiến hành gây mê để lấy pin điện tử. Sau hơn 20 phút, các y bác sĩ đã lấy được pin điện tử qua đường nội soi mũi."
        ],
        [
         "3906",
         "3906",
         "2955",
         "Ủy ban điều tra quốc gia Nga quyết định đưa tàu Soyuz MS-22 trở về Trái Đất theo chế độ không người lái và sẽ về tới vào ngày 3/5/2023.",
         "Ngày 28/3, tàu Soyuz MS-22 không người lái của Nga đã trở về Trái đất từ Trạm Vũ trụ quốc tế (ISS) sau 3 tháng gặp sự cố rò rỉ chất làm mát. Hình ảnh truyền dẫn trực tiếp từ Cơ quan Vũ trụ Liên bang Nga (Roscosmos) cho thấy tàu hạ cánh lúc 17h46 ngày 28/3, giờ địa phương (18h46 giờ Việt Nam) gần thị trấn Zhezkazgan của Kazakhstan. Tàu mang theo 218 kg hàng hóa, là kết quả thí nghiệm khoa học trên ISS. Tháng 9/2022, Soyuz MS-22 đã đưa 2 phi hành gia của Nga và 1 phi hành gia của Cơ quan hàng không vũ trụ Mỹ (NASA) lên ISS và dự kiến đưa các phi hành gia này về Trái Đất. Tuy nhiên, giữa tháng 12/2022, tàu gặp sự cố hở mặt ngoài bộ tản nhiệt hệ thống điều khiển nhiệt. Các nhà khoa học cho rằng nguyên nhân là do tàu va chạm với thiên thạch nhỏ và sự cố này có thể ảnh hưởng đến các vấn đề khi tàu quay trở lại Trái Đất, khi tàu sẽ phải chịu nhiều tác động nhiệt. Do đó, Ủy ban điều tra quốc gia Nga quyết định đưa tàu Soyuz MS-22 trở về Trái Đất theo chế độ không người lái.",
         "19465855",
         "KHOA HỌC CÔNG NGHỆ",
         "Tin Tức",
         "https://baotintuc.vn/khoa-hoc-cong-nghe/tausoyuz-ms22-da-tro-ve-trai-dat-20230328220258152.htm",
         "2",
         "Ủy ban điều tra quốc gia Nga quyết định đưa tàu Soyuz MS-22 trở về Trái Đất theo chế độ không người lái"
        ]
       ],
       "shape": {
        "columns": 10,
        "rows": 5
       }
      },
      "text/html": [
       "<div>\n",
       "<style scoped>\n",
       "    .dataframe tbody tr th:only-of-type {\n",
       "        vertical-align: middle;\n",
       "    }\n",
       "\n",
       "    .dataframe tbody tr th {\n",
       "        vertical-align: top;\n",
       "    }\n",
       "\n",
       "    .dataframe thead th {\n",
       "        text-align: right;\n",
       "    }\n",
       "</style>\n",
       "<table border=\"1\" class=\"dataframe\">\n",
       "  <thead>\n",
       "    <tr style=\"text-align: right;\">\n",
       "      <th></th>\n",
       "      <th>Unnamed: 0</th>\n",
       "      <th>index</th>\n",
       "      <th>Statement</th>\n",
       "      <th>Context</th>\n",
       "      <th>annotation_id</th>\n",
       "      <th>Topic</th>\n",
       "      <th>Author</th>\n",
       "      <th>Url</th>\n",
       "      <th>labels</th>\n",
       "      <th>Evidence</th>\n",
       "    </tr>\n",
       "  </thead>\n",
       "  <tbody>\n",
       "    <tr>\n",
       "      <th>1779</th>\n",
       "      <td>1779</td>\n",
       "      <td>4577</td>\n",
       "      <td>Việt Nam khẳng định lập trường nguyên tắc của ...</td>\n",
       "      <td>(Chinhphu.vn) - Ngày 6/3, Đại sứ Vũ Hồ, Quyền ...</td>\n",
       "      <td>19185936</td>\n",
       "      <td>Quốc tế</td>\n",
       "      <td>Chính Phủ</td>\n",
       "      <td>https://baochinhphu.vn/cac-nuoc-asean-nhat-tri...</td>\n",
       "      <td>2</td>\n",
       "      <td>Về Biển Đông, Đại sứ Vũ Hồ tái khẳng định lập ...</td>\n",
       "    </tr>\n",
       "    <tr>\n",
       "      <th>3776</th>\n",
       "      <td>3776</td>\n",
       "      <td>147</td>\n",
       "      <td>Kì thi tuyển sinh vào 10 diễn ra vào 6-7/6/202...</td>\n",
       "      <td>Các trường THPT chuyên tại TP HCM vẫn được tuy...</td>\n",
       "      <td>19051088</td>\n",
       "      <td>Giáo dục</td>\n",
       "      <td>VnExpress</td>\n",
       "      <td>https://vnexpress.net/hai-truong-chuyen-cua-tp...</td>\n",
       "      <td>0</td>\n",
       "      <td>Năm nay, học sinh kỳ thi tuyển sinh vào lớp 10...</td>\n",
       "    </tr>\n",
       "    <tr>\n",
       "      <th>2675</th>\n",
       "      <td>2675</td>\n",
       "      <td>4824</td>\n",
       "      <td>Ông Trần Bảo Lâm được Ban Thường vụ Tỉnh ủy Bì...</td>\n",
       "      <td>TPO - Tỉnh ủy Bình Dương chuẩn y chức danh Chủ...</td>\n",
       "      <td>18594553</td>\n",
       "      <td>XÃ HỘI</td>\n",
       "      <td>Tiền Phong</td>\n",
       "      <td>https://tienphong.vn/cong-bo-quyet-dinh-cua-ba...</td>\n",
       "      <td>1</td>\n",
       "      <td>Ban Thường vụ Tỉnh ủy Bình Dương giới thiệu ôn...</td>\n",
       "    </tr>\n",
       "    <tr>\n",
       "      <th>4109</th>\n",
       "      <td>4109</td>\n",
       "      <td>6193</td>\n",
       "      <td>Do bé không hợp tác nên các bác sĩ đã gây mê v...</td>\n",
       "      <td>Bệnh viện Nhi đồng 1 vừa tiếp nhận một bệnh nh...</td>\n",
       "      <td>18199706</td>\n",
       "      <td>Sức khoẻ</td>\n",
       "      <td>Thanh Niên</td>\n",
       "      <td>https://thanhnien.vn/nhet-pin-dien-tu-vao-mui-...</td>\n",
       "      <td>0</td>\n",
       "      <td>do bé không hợp tác nên không lấy được dị vật ...</td>\n",
       "    </tr>\n",
       "    <tr>\n",
       "      <th>3906</th>\n",
       "      <td>3906</td>\n",
       "      <td>2955</td>\n",
       "      <td>Ủy ban điều tra quốc gia Nga quyết định đưa tà...</td>\n",
       "      <td>Ngày 28/3, tàu Soyuz MS-22 không người lái của...</td>\n",
       "      <td>19465855</td>\n",
       "      <td>KHOA HỌC CÔNG NGHỆ</td>\n",
       "      <td>Tin Tức</td>\n",
       "      <td>https://baotintuc.vn/khoa-hoc-cong-nghe/tausoy...</td>\n",
       "      <td>2</td>\n",
       "      <td>Ủy ban điều tra quốc gia Nga quyết định đưa tà...</td>\n",
       "    </tr>\n",
       "  </tbody>\n",
       "</table>\n",
       "</div>"
      ],
      "text/plain": [
       "      Unnamed: 0  index                                          Statement  \\\n",
       "1779        1779   4577  Việt Nam khẳng định lập trường nguyên tắc của ...   \n",
       "3776        3776    147  Kì thi tuyển sinh vào 10 diễn ra vào 6-7/6/202...   \n",
       "2675        2675   4824  Ông Trần Bảo Lâm được Ban Thường vụ Tỉnh ủy Bì...   \n",
       "4109        4109   6193  Do bé không hợp tác nên các bác sĩ đã gây mê v...   \n",
       "3906        3906   2955  Ủy ban điều tra quốc gia Nga quyết định đưa tà...   \n",
       "\n",
       "                                                Context  annotation_id  \\\n",
       "1779  (Chinhphu.vn) - Ngày 6/3, Đại sứ Vũ Hồ, Quyền ...       19185936   \n",
       "3776  Các trường THPT chuyên tại TP HCM vẫn được tuy...       19051088   \n",
       "2675  TPO - Tỉnh ủy Bình Dương chuẩn y chức danh Chủ...       18594553   \n",
       "4109  Bệnh viện Nhi đồng 1 vừa tiếp nhận một bệnh nh...       18199706   \n",
       "3906  Ngày 28/3, tàu Soyuz MS-22 không người lái của...       19465855   \n",
       "\n",
       "                     Topic      Author  \\\n",
       "1779               Quốc tế   Chính Phủ   \n",
       "3776              Giáo dục   VnExpress   \n",
       "2675                XÃ HỘI  Tiền Phong   \n",
       "4109              Sức khoẻ  Thanh Niên   \n",
       "3906  KHOA HỌC CÔNG NGHỆ     Tin Tức   \n",
       "\n",
       "                                                    Url  labels  \\\n",
       "1779  https://baochinhphu.vn/cac-nuoc-asean-nhat-tri...       2   \n",
       "3776  https://vnexpress.net/hai-truong-chuyen-cua-tp...       0   \n",
       "2675  https://tienphong.vn/cong-bo-quyet-dinh-cua-ba...       1   \n",
       "4109  https://thanhnien.vn/nhet-pin-dien-tu-vao-mui-...       0   \n",
       "3906  https://baotintuc.vn/khoa-hoc-cong-nghe/tausoy...       2   \n",
       "\n",
       "                                               Evidence  \n",
       "1779  Về Biển Đông, Đại sứ Vũ Hồ tái khẳng định lập ...  \n",
       "3776  Năm nay, học sinh kỳ thi tuyển sinh vào lớp 10...  \n",
       "2675  Ban Thường vụ Tỉnh ủy Bình Dương giới thiệu ôn...  \n",
       "4109  do bé không hợp tác nên không lấy được dị vật ...  \n",
       "3906  Ủy ban điều tra quốc gia Nga quyết định đưa tà...  "
      ]
     },
     "execution_count": 3,
     "metadata": {},
     "output_type": "execute_result"
    }
   ],
   "source": [
    "# Convert to pandas DataFrame for analysis\n",
    "df = dataset['train'].to_pandas()\n",
    "\n",
    "# Preview the data\n",
    "df.sample(5)"
   ]
  },
  {
   "cell_type": "code",
   "execution_count": 4,
   "id": "ebbb36a9",
   "metadata": {},
   "outputs": [
    {
     "name": "stdout",
     "output_type": "stream",
     "text": [
      "{\n",
      "    \"Unnamed: 0\": 0,\n",
      "    \"index\": 3049,\n",
      "    \"Statement\": \"Phó Thủ tướng Trần Hồng Hà thay mặt Chính phủ, Thủ tướng Chính phủ chúc mừng Đài Truyền hình Việt Nam, Đài truyền hình các tỉnh, thành phố trên cả nước, các đơn vị sản xuất truyền hình và TP. Hải Phòng sau 2 năm gián đoạn do đại dịch COVID-19  đã tổ chức rất thành công sự kiện quan trọng này.\",\n",
      "    \"Context\": \"(Chinhphu.vn) - Đây là mong muốn, gửi gắm của Phó Thủ tướng Trần Hồng Hà đến những người làm truyền hình tại lễ bế mạc Liên hoan Truyền hình toàn quốc lần thứ 41, tối 18/3, tại TP. Hải Phòng. Phó Thủ tướng Trần Hồng Hà: Các tác phẩm truyền hình đã vun đắp, làm giàu cho nền văn hóa Việt Nam tiên tiến, đậm đà bản sắc dân tộc, góp phần tạo dựng môi trường văn hóa lành mạnh và xây dựng con người Việt Nam nhân cách, trách nhiệm, hội nhập - Ảnh: VGP/Minh Khôi Tham dự lễ bế mạc còn có Bí thư Trung ương Đảng, Trưởng Ban Tuyên giáo Trung ương Nguyễn Trọng Nghĩa, lãnh đạo các bộ, ngành Trung ương, địa phương, đại diện các đài truyền hình, đơn vị sản xuất chương trình truyền hình, cùng đông đảo cán bộ, phóng viên, biên tập viên, nghệ sĩ, diễn viên hoạt động trong lĩnh vực truyền hình… Thay mặt Chính phủ, Thủ tướng Chính phủ, Phó Thủ tướng Trần Hồng Hà chúc mừng Đài Truyền hình Việt Nam, Đài truyền hình các tỉnh, thành phố trên cả nước, các đơn vị sản xuất truyền hình và TP. Hải Phòng đã tổ chức rất thành công sự kiện quan trọng này sau 2 năm gián đoạn do đại dịch COVID-19. Phó Thủ tướng nhấn mạnh, với lợi thế kết hợp cả hình ảnh và âm thanh, truyền hình tiếp tục là một trong các loại hình truyền thông có sức ảnh hưởng trực tiếp và lan tỏa rộng rãi nhất. Từng bản tin, chương trình và các tác phẩm truyền hình đã mang đến cho khán giả trong nước và quốc tế nhịp đập, hơi thở của đời sống xã hội Việt Nam; khơi dậy mạnh mẽ tinh thần đoàn kết, anh dũng cho toàn quân, toàn dân trong công cuộc kháng chiến; tạo nguồn cảm hứng đổi mới, sáng tạo cho sự nghiệp dựng xây đất nước phồn vinh, hạnh phúc. Đồng thời, trên mặt trận văn hóa, tư tưởng, các tác phẩm truyền hình đã vun đắp, làm giàu cho nền văn hóa Việt Nam tiên tiến, đậm đà bản sắc dân tộc, góp phần tạo dựng môi trường văn hóa lành mạnh và xây dựng con người Việt Nam nhân cách, trách nhiệm, hội nhập. Với lòng yêu nghề, nhiệt huyết, trong nhiều năm qua, những người làm truyền hình trên cả nước đã mang đến các tác phẩm truyền hình chất lượng cao, giá trị tốt, là món ăn tinh thần không thể thiếu đối với khán giả trong và ngoài nước. Bí thư Trung ương Đảng, Trưởng Ban Tuyên giáo Trung ương Nguyễn Trọng Nghĩa, Phó Thủ tướng Trần Hồng Hà và lãnh đạo các bộ, ngành Trung ương, địa phương dự lễ bế mạc Liên hoan Truyền hình toàn quốc lần thứ 41 - Ảnh: VGP/Minh Khôi Trải qua 41 kỳ, Liên hoan Truyền hình toàn quốc đã trở thành ngày hội của những người làm truyền hình trên cả nước, là diễn đàn hữu ích dành cho những người làm báo hình nói riêng và báo chí nói chung cùng trao đổi, học hỏi, chia sẻ, tăng cường tình đoàn kết, đồng thời được khán giả cả nước mong đợi. Sau thời gian gián đoạn do đại dịch COVID-19, Liên hoan truyền hình toàn quốc đã trở lại với nhiều ấn tượng to lớn, quy tụ số lượng tác phẩm tham gia tranh giải cao kỷ lục, gồm 714 tác phẩm với 11 thể loại và được thể hiện đa dạng, phong phú trên nhiều nền tảng, phù hợp với xu thế phát triển mạnh mẽ của công nghệ số. Đây là minh chứng sống động cho thấy ngành truyền hình Việt Nam đang vươn mình mạnh mẽ, bắt kịp với xu thế toàn cầu nhưng vẫn giữ được nét độc đáo. Phó Thủ tướng Trần Hồng Hà, Bộ trưởng Bộ TT&TT Nguyễn Mạnh Hùng trao giải Vàng cho phim truyền hình xuất sắc nhất; nam, nữ diễn viên phim truyền hình xuất sắc nhất - Ảnh: VGP/Minh Khôi Các tác phẩm tham gia Liên hoan đã bám sát các vấn đề thời sự, phản ánh sâu sắc, sinh động hơi thở cuộc sống, mang đậm bản sắc vùng miền, được xây dựng công phu, chất lượng, có tính chiến đấu cao, giá trị nhân văn sâu sắc, có sức lan tỏa, tác động tích cực trong đời sống xã hội. Những hình ảnh, âm thanh trong các tác phẩm để lại nhiều ấn tượng sâu sắc, chân thực, chạm tới cảm xúc của khán giả, từ đó định hướng dư luận xã hội, phản biện xã hội, tăng cường niềm tin của nhân dân vào Đảng, Nhà nước; tuyên truyền về đấu tranh, phản bác quan điểm sai trái, thông tin xấu độc, bảo vệ nền tảng tư tưởng của Đảng; đóng góp quan trọng vào sự nghiệp xây dựng và bảo vệ Tổ quốc. Những người làm báo hình có bản lĩnh, ý chí, quyết tâm rất cao, dám dấn thân trong điều kiện tác nghiệp ngặt nghèo, khó khăn, thậm chí nguy hiểm. \\\"Có những tác giả, tác phẩm được lựa chọn để vinh danh, nhưng còn rất nhiều tác giả, tác phẩm truyền hình khác vẫn đang làm công việc thầm lặng để đóng góp chung cho đất nước trong giai đoạn khó khăn thời kỳ dịch COVID-19\\\", Phó Thủ tướng nói và trân trọng cảm ơn những nỗ lực, cố gắng của đội ngũ những người làm báo hình, các tổ chức, cơ quan báo chí trên cả nước đã đồng hành, cổ vũ, tạo đồng thuận xã hội, cùng đất nước, nhân dân vượt qua khó khăn, phục hồi và phát triển kinh tế - xã hội. Các tác phẩm tham dự liên hoan sẽ tạo sức lan tỏa trong toàn xã hội và động lực sáng tạo cho đội ngũ làm báo chí, đặc biệt là báo hình. Bí thư Trung ương Đảng, Trưởng ban Tuyên giáo Trung ương Nguyễn Trọng Nghĩa và Tổng Giám đốc Đài Truyền hình Việt Nam Lê Ngọc Quang trao giải Vàng thể loại Phim tài liệu Phó Thủ tướng cũng trao đổi về những cơ hội, thuận lợi và cả khó khăn, thách thức của truyền hình trong kỷ nguyên toàn cầu hóa và hội nhập quốc tế sâu rộng; sự phát triển mạnh mẽ của khoa học công nghệ; sự chuyển động nhanh của thế giới; thực tiễn đổi mới, phát triển năng động của đất nước hiện nay. Điều đó đặt ra yêu cầu cần phải phát huy hơn nữa tinh thần đổi mới, sáng tạo và hội nhập của đội ngũ người làm báo hình của Việt Nam để khẳng định vị thế, đáp ứng được yêu cầu phát triển của đất nước và thị hiếu ngày càng cao của khán giả trong bối cảnh cạnh tranh gay gắt của các loại hình thông tin, truyền thông, đặc biệt là từ nước ngoài. Kinh nghiệm thành công trong thúc đẩy thương mại và đầu tư toàn cầu của các nền kinh tế lớn trong khu vực và thế giới chính là phát huy đầy đủ vai trò quan trọng và ưu thế của truyền hình trong việc tăng cường sức mạnh mềm của quốc gia. Phó Thủ tướng nêu rõ: Hơn bao giờ hết, những người làm báo hình Việt Nam cần ý thức được trách nhiệm của mình với tư cách là những sứ giả cho sức mạnh mềm của Việt Nam; mang những giá trị văn hóa tốt đẹp \\\"chân - thiện - mỹ\\\" của dân tộc đến với khán giả trong nước và quốc tế, góp phần nâng cao sức mạnh tổng hợp quốc gia. Một mặt, góp phần giữ gìn và bồi đắp nền văn hóa dân tộc, xây dựng con người Việt Nam mới trong kỷ nguyên số, xã hội số và văn hóa số, mặt khác thúc đẩy văn hóa, thương hiệu và sản phẩm Việt Nam ra với thế giới. Tổng Biên tập Báo Nhân dân Lê Quốc Minh, Bí thư Thành ủy Hải Phòng Lê Tiến Châu trao giải Vàng cho các tác phẩm truyền hình thuộc thể loại Tiếng dân tộc thiếu sổ, Đối thoại - Tọa đàm, Chuyên đề - Khoa giáo - Ảnh: VGP/Minh Khôi Phó Thủ tướng cũng khẳng định, Đảng, Nhà nước sẽ luôn dành sự quan tâm đặc biệt bằng các cơ chế, chính sách phù hợp; quan tâm đầu tư, khơi thông các nguồn lực xã hội, phát triển không gian văn hóa sáng tạo, đẩy mạnh chuyển đổi số, đãi ngộ, tôn vinh tài năng và cống hiến. Tạo lập môi trường để những người làm văn hóa, nghệ thuật, trong đó có truyền hình, phát huy sức sáng tạo có những tác phẩm tầm cỡ, phản ánh được sâu sắc hiện thực đổi mới vĩ đại của đất nước theo tinh thần của Nghị quyết Đại hội lần thứ XIII của Đảng và phát biểu chỉ đạo quan trọng của Tổng Bí thư Nguyễn Phú Trọng tại Hội nghị Văn hóa toàn quốc; phát triển truyền hình thành ngành công nghiệp hiện đại, hội nhập ngang tầm các nước tiên tiến trong khu vực. \\\"Với sự trưởng thành, vững vàng về bản lĩnh chính trị, phẩm chất đạo đức và trình độ nghiệp vụ chuyên môn ngày càng chuyên nghiệp, đội ngũ phóng viên, biên tập viên, kỹ thuật viên làm truyền hình luôn bám sát hơi thở của cuộc sống; tận dụng tối đa những chất liệu, công nghệ mới để có những sản phẩm với chất lượng cao, có tầm vóc, đáp ứng nhu cầu ngày càng đa dạng của khán giả. Đồng thời, hoàn thành sứ mệnh là tiếng nói của Đảng, của Nhà nước và nhân dân; phát huy sự đồng thuận trong xã hội, củng cố khối đại đoàn kết toàn dân tộc, đóng góp ngày càng hiệu quả vào thực hiện thắng lợi nhiệm vụ xây dựng và bảo vệ Tổ quốc, truyền cảm hứng, khơi dậy mạnh mẽ khát vọng phát triển đất nước hùng cường, thịnh vượng\\\", Phó Thủ tướng tin tưởng và mong muốn những người làm truyền hình Việt Nam không ngừng lớn mạnh, luôn giữ được lửa nghề, tâm sáng, bút sắc, tiếp tục \\\"Tôn vinh đam mê, khuyến khích đổi mới, cập nhật xu hướng\\\", mang tới những sản phẩm tốt nhất cho khán giả. Minh Khôi\",\n",
      "    \"annotation_id\": 18933775,\n",
      "    \"Topic\": \"Chính trị\",\n",
      "    \"Author\": \"Chính Phủ\",\n",
      "    \"Url\": \"https://baochinhphu.vn/lan-toa-nhung-gia-tri-van-hoa-tot-dep-chan-thien-my-cua-dan-toc-102230318225051612.htm\",\n",
      "    \"labels\": 0,\n",
      "    \"Evidence\": \"Thay mặt Chính phủ, Thủ tướng Chính phủ, Phó Thủ tướng Trần Hồng Hà chúc mừng Đài Truyền hình Việt Nam, Đài truyền hình các tỉnh, thành phố trên cả nước, các đơn vị sản xuất truyền hình và TP. Hải Phòng đã tổ chức rất thành công sự kiện quan trọng này sau 2 năm gián đoạn do đại dịch COVID-19.\"\n",
      "}\n"
     ]
    }
   ],
   "source": [
    "import json\n",
    "\n",
    "# Generate a JSON object with exemplary values for each column\n",
    "example_row = df.iloc[0].to_dict()  # Get the first row as an example\n",
    "json_object = json.dumps(example_row, indent=4, ensure_ascii=False)\n",
    "print(json_object)"
   ]
  },
  {
   "cell_type": "code",
   "execution_count": 5,
   "id": "068261ff",
   "metadata": {},
   "outputs": [
    {
     "name": "stdout",
     "output_type": "stream",
     "text": [
      "{\n",
      "    \"Unnamed: 0\": 0,\n",
      "    \"index\": 6040,\n",
      "    \"Statement\": \"Vào tháng 4.1930 TL Nhà vua Na Uy Harald V, Vua hề Charlie Chaplin (vua hề Sác lô) và vợ từng trải qua kỳ nghỉ trăng mật tại khách sạn Saigon Morin tại phòng Charlie Chaplin Suite.\",\n",
      "    \"Context\": \"Saigon Morin, khách sạn 4 sao hàng đầu tại Huế, kỷ niệm 122 năm ra đời tối 26.3, là một trong những khách sạn lâu đời nhất Việt Nam với \\\"bảng vàng\\\" danh sách các yếu nhân và nguyên thủ quốc gia từng lưu trú. Khách sạn có 4 mặt tiền thuộc các giao lộ Lê Lợi - Hùng Vương, Hoàng Hoa Thám - Trương Định (TP.Huế, Thừa Thiên-Huế) bên cạnh cầu Trường Tiền với \\\"view\\\" sông Hương thơ mộng, Phó chủ tịch thường trực UBND tỉnh Thừa Thiên-Huế, ông Nguyễn Thanh Bình (phải), trao cờ đơn vị dẫn đầu thi đua có nhiều đóng góp cho du lịch của tỉnh cho ông Trần Văn Lâm, Tổng giám đốc Saigon Morin, tại lễ kỷ niệm 122 năm HƯƠNG GIANG Khách sạn ra đời vào năm 1901 khi ông Henri Bogaert, chủ nhà máy gạch ngói Long Thọ, cho khởi công xây dựng và lấy tên là \\\"Grand Hotel de Hue\\\". Ngoài việc phục vụ du khách, Saigon Morin còn đảm nhiệm vai trò \\\"nhà khách\\\" của Chính phủ Nam triều và Chính phủ bảo hộ, cơ quan Trung kỳ. Khách sạn nhanh chóng trở thành trung tâm thương mại, văn hóa và du lịch của kinh đô Huế thời nhà Nguyễn. Hình ảnh khách sạn những ngày đầu mới thành lập TƯ LIỆU Năm 1904, sau cơn bão năm Thìn, khách sạn hư hỏng nặng, ông Bogeart đã tu sửa và chuyển sở hữu cho nhà tư sản A.Guerin. Đến năm 1907, khách sạn đã được chuyển nhượng cho anh em nhà Morin, lấy tên \\\"Morin Frère\\\" (khách sạn anh em nhà Morin) và tên gọi Morin gắn liền với lịch sử của khách sạn từ đó đến tận hôm nay. Vua hề Charlie Chaplin (vua hề Sác lô) và vợ từng trải qua kỳ nghỉ trăng mật tại khách sạn Saigon Morin vào tháng 4.1936 TL Nhà vua Na Uy Harald V. Swore Oath ở khách sạn Saigon Morin năm 2004 TL Trải qua nhiều giai đoạn lịch sử, đến nay, Saigon Morin là khách sạn 4 sao và đang nâng thành 5 sao theo hướng kiến trúc cổ điển độc đáo của miền Trung - Tây nguyên nhằm phát huy giá trị của một khách sạn lâu đời ở Việt Nam (122 năm tuổi), với hệ thống 180 phòng ngủ sang trọng, tiện nghi và hiện đại... Phu nhân cựu Tổng thống Pháp, bà Bernadette Chirac, lưu trú tại khách sạn vào năm 2004 TL Không chỉ có những sản phẩm và dịch vụ chuyên nghiệp, Saigon Morin còn mang đến cho du khách những trải nghiệm thú vị về lịch sử 122 năm. Khi lưu trú, du khách còn có cơ hội chiêm ngưỡng hàng trăm bức tranh, ảnh cổ về lịch sử thành phố Huế từ những năm đầu thế kỷ 20 và về lịch sử 122 năm của khách sạn. Với tuổi đời 122 năm, Saigon Morin đã có một bảng vàng danh sách khách VIP từng lưu trú. Trong số đó, có vua hề Charlie Chaplin (vua hề Sác lô) và vợ từng trải qua kỳ nghỉ trăng mật vào tháng 4.1936 tại phòng Charlie Chaplin Suite. Nơi đây cũng từng đón tiếp và phục vụ nhiều nhân vật nổi tiếng, các nguyên thủ quốc gia trên thế giới như: Thủ tướng Pháp Francois Fillon (năm 2009), Chủ tịch Quốc hội Hàn Quốc Lim Chae Jung (năm 2008), Chủ tịch Quốc hội Na Uy Anne Marit Bjørnflaten (năm 2008), Phu nhân cựu Tổng thống Pháp Madam Bernadette Chirac (năm 2004)... Khách sạn Saigon Morin hiện nay Hương Giang Khách sạn Saigon Morin cũng là địa điểm để tỉnh Thừa Thiên-Huế và các bộ, ngành lựa chọn tổ chức các hội nghị quốc gia, quốc tế... Trong đó, có nhiều sự kiện vinh dự được đón các vị nguyên thủ quốc gia các nước, lãnh đạo Đảng, Nhà nước đến dự và lưu trú.\",\n",
      "    \"annotation_id\": 18220511,\n",
      "    \"Topic\": \"Du lịch\",\n",
      "    \"Author\": \"Thanh Niên\",\n",
      "    \"Url\": \"https://thanhnien.vn/khach-san-lau-doi-nhat-co-do-hue-tron-122-tuoi-185230327161030989.htm\",\n",
      "    \"labels\": 1,\n",
      "    \"Evidence\": \"Vua hề Charlie Chaplin (vua hề Sác lô) và vợ từng trải qua kỳ nghỉ trăng mật tại khách sạn Saigon Morin vào tháng 4.1936 TL Nhà vua Na Uy Harald V. tại phòng Charlie Chaplin Suite\"\n",
      "}\n"
     ]
    }
   ],
   "source": [
    "dev_df = dataset['dev'].to_pandas()\n",
    "\n",
    "# Generate a JSON object with exemplary values for each column\n",
    "example_row = dev_df.iloc[0].to_dict()  # Get the first row as an example\n",
    "json_object = json.dumps(example_row, indent=4, ensure_ascii=False)\n",
    "print(json_object)"
   ]
  },
  {
   "cell_type": "code",
   "execution_count": 6,
   "id": "375abd2b",
   "metadata": {},
   "outputs": [
    {
     "name": "stdout",
     "output_type": "stream",
     "text": [
      "{\n",
      "    \"Unnamed: 0\": 0,\n",
      "    \"index\": 1383,\n",
      "    \"Statement\": \"Bộ xương bản sao được đưa đến Lodon bằng cách nghép thành con hoàn chỉnh rồi vận chuyển đến.\",\n",
      "    \"Context\": \"Bản sao bộ xương hóa thạch của một trong những loài khủng long lớn nhất từng sải bước trên Trái Đất chuẩn bị chính thức được trưng bày tại Bảo tàng Lịch sử tự nhiên ở thủ đô London của Anh. Đây là lần đầu tiên bản sao hóa thạch bộ xương khủng long này được triển lãm ở châu Âu kể từ khi bản gốc được phát hiện ở Patagonia, một vùng hoang dã nằm ở phía Nam thành phố Neuquen, Argentina. Cách đây nhiều năm, các nhà khoa học ở Argentina đã phát hiện một trong những loài khủng long lớn nhất từng tồn tại trên Trái Đất là Patagotitan mayorum. Loài này thuộc họ titanosaur, một họ khủng long ăn cỏ có đầu nhỏ và thân hình to lớn, sống cách đây khoảng 95 - 100 triệu năm. Patagotitan mayorum nặng tới 69 tấn, dài 37m và cao gần 6m, tương đương với kích thước của 12 con voi châu Phi trưởng thành. Theo các nhà nghiên cứu, với chiếc cổ vươn lên trên, Patagotitan mayorum đủ cao để thò đầu vào một tòa nhà năm tầng. Với việc trưng bày bản sao bộ xương hóa thạch của Patagotitan mayorum, Bảo tàng Lịch sử tự nhiên London kỳ vọng sẽ thu hút đông đảo khách tham quan. Trước đó, bảo tàng này cũng từng trưng bày bộ xương hóa thạch của khủng long Diplodocus \\\"Dippy\\\" nổi tiếng cho đến năm 2017. Bản sao của Patagotitan mayorum được trưng bày tại Bảo tàng Lịch sử tự nhiên London là bản sao bộ xương hóa thạch của một trong 6 con titanosaur được tìm thấy sau khi một nông dân ở vùng Argentina phát hiện ra một xương đùi khổng lồ nhô ra khỏi mặt đất vào năm 2010, dẫn đến quá trình khai quật kéo dài nhiều năm. Ông Paul Barrett, trưởng nhóm khoa học của triển lãm, cho biết: \\\"Họ đã phát hiện ra một nghĩa địa khủng long titanosaur với 6 con khủng long khác nhau trong lòng đất\\\". Sau phát hiện ở Argentina, các chuyên gia về khủng long đã quét 3D từng mảnh xương riêng lẻ để tạo ra các bản sao làm từ nhựa polyester và sợi thủy tinh, chúng được gắn trên một cấu trúc thép. Một công ty ở Canada đã mất hơn 6 tháng để thực hiện công việc đúc khuôn khổng lồ, dựa trên số lượng xương hóa thạch được khai quật. Để chuẩn bị cho cuộc trưng bày đặc biệt này, bà Sinead Marron, đại diện Bảo tàng Lịch sử tự nhiên London cho biết bộ xương bản sao đã được đưa đến London trong 32 thùng riêng biệt, nghĩa là \\\"mỗi mảnh phải được ghép lại với nhau như một trò chơi ghép hình khổng lồ\\\". Bà Marron cho biết mục đích của triển lãm là kể câu chuyện về hành trình của Patagotitan mayorum từ khi nở ra từ một quả trứng nhỏ hơn quả bóng đá tới khi trở thành một con khủng long khổng lồ nặng 57 tấn đáng kinh ngạc. Du khách đến với triển lãm sẽ có cơ hội chạm vào mô hình trưng bày cũng như tham gia các trò chơi tương tác. Khủng long titanosaur là một phân nhóm của nhóm khủng long lớn hơn được gọi là sauropod. Nhóm này bao gồm nhiều loài khác có cấu trúc cơ thể tương tự như Brontosaurus và Diplodocus sống ở Bắc Mỹ trong Kỷ Jura, trước Kỷ Phấn trắng. Một số loài khủng long titanosaur sinh sống tại Patagonia - vùng đất tận cùng của châu Mỹ - có kích thước khổng lồ tương đương với Argentinosaurus, Patagotitan và Dreadnoughtus.\",\n",
      "    \"annotation_id\": 19050703,\n",
      "    \"Topic\": \"THẾ GIỚI\",\n",
      "    \"Author\": \"Tin Tức\",\n",
      "    \"Url\": \"https://baotintuc.vn/the-gioi/trung-bay-ban-sao-bo-xuong-hoa-thach-cua-loai-khung-long-khong-lo-tai-london-20230330152500757.htm\",\n",
      "    \"labels\": 1,\n",
      "    \"Evidence\": \"đại diện Bảo tàng Lịch sử tự nhiên London cho biết bộ xương bản sao đã được đưa đến London trong 32 thùng riêng biệt, nghĩa là \\\"mỗi mảnh phải được ghép lại với nhau như một trò chơi ghép hình khổng lồ\\\".\"\n",
      "}\n"
     ]
    }
   ],
   "source": [
    "test_df = dataset['test'].to_pandas()\n",
    "\n",
    "# Generate a JSON object with exemplary values for each column\n",
    "example_row = test_df.iloc[0].to_dict()  # Get the first row as an example\n",
    "json_object = json.dumps(example_row, indent=4, ensure_ascii=False)\n",
    "print(json_object)"
   ]
  },
  {
   "cell_type": "markdown",
   "id": "e5d8eb7c",
   "metadata": {},
   "source": [
    "# EDA"
   ]
  },
  {
   "cell_type": "code",
   "execution_count": 7,
   "id": "4016c47b",
   "metadata": {},
   "outputs": [
    {
     "name": "stdout",
     "output_type": "stream",
     "text": [
      "<class 'pandas.core.frame.DataFrame'>\n",
      "RangeIndex: 5062 entries, 0 to 5061\n",
      "Data columns (total 10 columns):\n",
      " #   Column         Non-Null Count  Dtype \n",
      "---  ------         --------------  ----- \n",
      " 0   Unnamed: 0     5062 non-null   int64 \n",
      " 1   index          5062 non-null   int64 \n",
      " 2   Statement      5062 non-null   object\n",
      " 3   Context        5062 non-null   object\n",
      " 4   annotation_id  5062 non-null   int64 \n",
      " 5   Topic          5062 non-null   object\n",
      " 6   Author         5062 non-null   object\n",
      " 7   Url            5062 non-null   object\n",
      " 8   labels         5062 non-null   int64 \n",
      " 9   Evidence       5062 non-null   object\n",
      "dtypes: int64(4), object(6)\n",
      "memory usage: 395.6+ KB\n"
     ]
    },
    {
     "data": {
      "text/plain": [
       "Unnamed: 0       0\n",
       "index            0\n",
       "Statement        0\n",
       "Context          0\n",
       "annotation_id    0\n",
       "Topic            0\n",
       "Author           0\n",
       "Url              0\n",
       "labels           0\n",
       "Evidence         0\n",
       "dtype: int64"
      ]
     },
     "execution_count": 7,
     "metadata": {},
     "output_type": "execute_result"
    }
   ],
   "source": [
    "# Schema and missing values\n",
    "df.info()\n",
    "df.isnull().sum()"
   ]
  },
  {
   "cell_type": "code",
   "execution_count": 10,
   "id": "501b48fb",
   "metadata": {},
   "outputs": [
    {
     "data": {
      "image/png": "[encoded data removed]",
      "text/plain": [
       "<Figure size 640x480 with 1 Axes>"
      ]
     },
     "metadata": {},
     "output_type": "display_data"
    }
   ],
   "source": [
    "# Target label distribution\n",
    "sns.countplot(data=df, x='labels')\n",
    "plt.title('Claim Label Distribution')\n",
    "plt.xlabel('Label (e.g. true, false, etc.)')\n",
    "plt.ylabel('Count')\n",
    "plt.show()"
   ]
  },
  {
   "cell_type": "code",
   "execution_count": 11,
   "id": "9651395e",
   "metadata": {},
   "outputs": [
    {
     "data": {
      "image/png": "[encoded data removed]",
      "text/plain": [
       "<Figure size 640x480 with 1 Axes>"
      ]
     },
     "metadata": {},
     "output_type": "display_data"
    }
   ],
   "source": [
    "# Claim lengths\n",
    "df['claim_length'] = df['Statement'].apply(lambda x: len(x.split()))\n",
    "\n",
    "sns.histplot(df['claim_length'], bins=30, kde=True)\n",
    "plt.title('Claim Length Distribution')\n",
    "plt.xlabel('Number of Words in Claim')\n",
    "plt.ylabel('Frequency')\n",
    "plt.show()"
   ]
  },
  {
   "cell_type": "markdown",
   "id": "be16f2fb",
   "metadata": {},
   "source": [
    "# Label-wise Analysis"
   ]
  },
  {
   "cell_type": "code",
   "execution_count": 12,
   "id": "94f04064",
   "metadata": {},
   "outputs": [
    {
     "data": {
      "image/png": "[encoded data removed]",
      "text/plain": [
       "<Figure size 640x480 with 1 Axes>"
      ]
     },
     "metadata": {},
     "output_type": "display_data"
    }
   ],
   "source": [
    "# Avg claim length by label\n",
    "df.groupby('labels')['claim_length'].mean().plot(kind='barh')\n",
    "plt.title('Average Claim Length by Label')\n",
    "plt.xlabel('Avg. Number of Words')\n",
    "plt.show()"
   ]
  },
  {
   "cell_type": "code",
   "execution_count": 14,
   "id": "3e1aa2b4",
   "metadata": {},
   "outputs": [
    {
     "data": {
      "image/png": "[encoded data removed]",
      "text/plain": [
       "<Figure size 640x480 with 1 Axes>"
      ]
     },
     "metadata": {},
     "output_type": "display_data"
    }
   ],
   "source": [
    "# Evidence analysis\n",
    "df['has_evidence'] = df['Evidence'].apply(lambda x: len(x) > 0)\n",
    "\n",
    "sns.countplot(data=df, x='has_evidence', hue='labels')\n",
    "plt.title('Evidence Availability per Label')\n",
    "plt.xlabel('Has Evidence?')\n",
    "plt.ylabel('Count')\n",
    "plt.legend(title='Label')\n",
    "plt.show()\n"
   ]
  },
  {
   "cell_type": "markdown",
   "id": "e2fd0ec7",
   "metadata": {},
   "source": [
    "# Linguistics Insights"
   ]
  },
  {
   "cell_type": "code",
   "execution_count": 15,
   "id": "03b14c4f",
   "metadata": {},
   "outputs": [
    {
     "data": {
      "application/vnd.microsoft.datawrangler.viewer.v0+json": {
       "columns": [
        {
         "name": "index",
         "rawType": "int64",
         "type": "integer"
        },
        {
         "name": "word",
         "rawType": "object",
         "type": "string"
        },
        {
         "name": "frequency",
         "rawType": "int64",
         "type": "integer"
        }
       ],
       "conversionMethod": "pd.DataFrame",
       "ref": "b40660c1-70f5-4ae9-8d9f-d9cebf9375d9",
       "rows": [
        [
         "0",
         "và",
         "2907"
        ],
        [
         "1",
         "của",
         "2140"
        ],
        [
         "2",
         "các",
         "1913"
        ],
        [
         "3",
         "có",
         "1704"
        ],
        [
         "4",
         "được",
         "1585"
        ],
        [
         "5",
         "đã",
         "1545"
        ],
        [
         "6",
         "trong",
         "1464"
        ],
        [
         "7",
         "là",
         "1369"
        ],
        [
         "8",
         "cho",
         "1281"
        ],
        [
         "9",
         "với",
         "1156"
        ],
        [
         "10",
         "không",
         "906"
        ],
        [
         "11",
         "người",
         "886"
        ],
        [
         "12",
         "tại",
         "864"
        ],
        [
         "13",
         "năm",
         "821"
        ],
        [
         "14",
         "công",
         "806"
        ],
        [
         "15",
         "để",
         "769"
        ],
        [
         "16",
         "về",
         "763"
        ],
        [
         "17",
         "học",
         "756"
        ],
        [
         "18",
         "đến",
         "752"
        ],
        [
         "19",
         "bị",
         "748"
        ]
       ],
       "shape": {
        "columns": 2,
        "rows": 20
       }
      },
      "text/html": [
       "<div>\n",
       "<style scoped>\n",
       "    .dataframe tbody tr th:only-of-type {\n",
       "        vertical-align: middle;\n",
       "    }\n",
       "\n",
       "    .dataframe tbody tr th {\n",
       "        vertical-align: top;\n",
       "    }\n",
       "\n",
       "    .dataframe thead th {\n",
       "        text-align: right;\n",
       "    }\n",
       "</style>\n",
       "<table border=\"1\" class=\"dataframe\">\n",
       "  <thead>\n",
       "    <tr style=\"text-align: right;\">\n",
       "      <th></th>\n",
       "      <th>word</th>\n",
       "      <th>frequency</th>\n",
       "    </tr>\n",
       "  </thead>\n",
       "  <tbody>\n",
       "    <tr>\n",
       "      <th>0</th>\n",
       "      <td>và</td>\n",
       "      <td>2907</td>\n",
       "    </tr>\n",
       "    <tr>\n",
       "      <th>1</th>\n",
       "      <td>của</td>\n",
       "      <td>2140</td>\n",
       "    </tr>\n",
       "    <tr>\n",
       "      <th>2</th>\n",
       "      <td>các</td>\n",
       "      <td>1913</td>\n",
       "    </tr>\n",
       "    <tr>\n",
       "      <th>3</th>\n",
       "      <td>có</td>\n",
       "      <td>1704</td>\n",
       "    </tr>\n",
       "    <tr>\n",
       "      <th>4</th>\n",
       "      <td>được</td>\n",
       "      <td>1585</td>\n",
       "    </tr>\n",
       "    <tr>\n",
       "      <th>5</th>\n",
       "      <td>đã</td>\n",
       "      <td>1545</td>\n",
       "    </tr>\n",
       "    <tr>\n",
       "      <th>6</th>\n",
       "      <td>trong</td>\n",
       "      <td>1464</td>\n",
       "    </tr>\n",
       "    <tr>\n",
       "      <th>7</th>\n",
       "      <td>là</td>\n",
       "      <td>1369</td>\n",
       "    </tr>\n",
       "    <tr>\n",
       "      <th>8</th>\n",
       "      <td>cho</td>\n",
       "      <td>1281</td>\n",
       "    </tr>\n",
       "    <tr>\n",
       "      <th>9</th>\n",
       "      <td>với</td>\n",
       "      <td>1156</td>\n",
       "    </tr>\n",
       "    <tr>\n",
       "      <th>10</th>\n",
       "      <td>không</td>\n",
       "      <td>906</td>\n",
       "    </tr>\n",
       "    <tr>\n",
       "      <th>11</th>\n",
       "      <td>người</td>\n",
       "      <td>886</td>\n",
       "    </tr>\n",
       "    <tr>\n",
       "      <th>12</th>\n",
       "      <td>tại</td>\n",
       "      <td>864</td>\n",
       "    </tr>\n",
       "    <tr>\n",
       "      <th>13</th>\n",
       "      <td>năm</td>\n",
       "      <td>821</td>\n",
       "    </tr>\n",
       "    <tr>\n",
       "      <th>14</th>\n",
       "      <td>công</td>\n",
       "      <td>806</td>\n",
       "    </tr>\n",
       "    <tr>\n",
       "      <th>15</th>\n",
       "      <td>để</td>\n",
       "      <td>769</td>\n",
       "    </tr>\n",
       "    <tr>\n",
       "      <th>16</th>\n",
       "      <td>về</td>\n",
       "      <td>763</td>\n",
       "    </tr>\n",
       "    <tr>\n",
       "      <th>17</th>\n",
       "      <td>học</td>\n",
       "      <td>756</td>\n",
       "    </tr>\n",
       "    <tr>\n",
       "      <th>18</th>\n",
       "      <td>đến</td>\n",
       "      <td>752</td>\n",
       "    </tr>\n",
       "    <tr>\n",
       "      <th>19</th>\n",
       "      <td>bị</td>\n",
       "      <td>748</td>\n",
       "    </tr>\n",
       "  </tbody>\n",
       "</table>\n",
       "</div>"
      ],
      "text/plain": [
       "     word  frequency\n",
       "0      và       2907\n",
       "1     của       2140\n",
       "2     các       1913\n",
       "3      có       1704\n",
       "4    được       1585\n",
       "5      đã       1545\n",
       "6   trong       1464\n",
       "7      là       1369\n",
       "8     cho       1281\n",
       "9     với       1156\n",
       "10  không        906\n",
       "11  người        886\n",
       "12    tại        864\n",
       "13    năm        821\n",
       "14   công        806\n",
       "15     để        769\n",
       "16     về        763\n",
       "17    học        756\n",
       "18    đến        752\n",
       "19     bị        748"
      ]
     },
     "execution_count": 15,
     "metadata": {},
     "output_type": "execute_result"
    }
   ],
   "source": [
    "# Common Vietnamese stopwords? Unusual characters?\n",
    "from collections import Counter\n",
    "\n",
    "# Top words in claims\n",
    "all_words = ' '.join(df['Statement'].tolist()).split()\n",
    "common_words = Counter(all_words).most_common(20)\n",
    "\n",
    "pd.DataFrame(common_words, columns=['word', 'frequency'])"
   ]
  },
  {
   "cell_type": "markdown",
   "id": "c77e7982",
   "metadata": {},
   "source": [
    "# Export Data"
   ]
  },
  {
   "cell_type": "code",
   "execution_count": 17,
   "id": "0aff1df8",
   "metadata": {},
   "outputs": [],
   "source": [
    "!mkdir -p data\n",
    "df['Statement'].to_csv('data/statements.csv', index=False)"
   ]
  },
  {
   "cell_type": "code",
   "execution_count": 19,
   "id": "fcbffffa",
   "metadata": {},
   "outputs": [],
   "source": [
    "df['Statement'].head(100).to_csv('data/statements_100.csv', index=False)"
   ]
  },
  {
   "cell_type": "code",
   "execution_count": null,
   "id": "b0184910",
   "metadata": {},
   "outputs": [],
   "source": []
  }
 ],
 "metadata": {
  "kernelspec": {
   "display_name": ".venv",
   "language": "python",
   "name": "python3"
  },
  "language_info": {
   "codemirror_mode": {
    "name": "ipython",
    "version": 3
   },
   "file_extension": ".py",
   "mimetype": "text/x-python",
   "name": "python",
   "nbconvert_exporter": "python",
   "pygments_lexer": "ipython3",
   "version": "3.12.6"
  }
 },
 "nbformat": 4,
 "nbformat_minor": 5
}
