{
 "cells": [
  {
   "cell_type": "code",
   "execution_count": 1,
   "id": "a21c4191",
   "metadata": {},
   "outputs": [],
   "source": [
    "import pandas as pd"
   ]
  },
  {
   "cell_type": "code",
   "execution_count": 16,
   "id": "ddc4cee0",
   "metadata": {},
   "outputs": [],
   "source": [
    "before_df = pd.read_json(\"./data-fact-check-in-the-wild/data/dev-site-restricted.jsonl\", lines=True)\n",
    "after_df = pd.read_json(\"./output.jsonl\", lines=True)"
   ]
  },
  {
   "cell_type": "code",
   "execution_count": 17,
   "id": "2df1a433",
   "metadata": {},
   "outputs": [
    {
     "name": "stdout",
     "output_type": "stream",
     "text": [
      "<class 'pandas.core.frame.DataFrame'>\n",
      "RangeIndex: 200 entries, 0 to 199\n",
      "Data columns (total 13 columns):\n",
      " #   Column                    Non-Null Count  Dtype \n",
      "---  ------                    --------------  ----- \n",
      " 0   example_id                200 non-null    int64 \n",
      " 1   label                     200 non-null    object\n",
      " 2   url                       200 non-null    object\n",
      " 3   annotations               200 non-null    object\n",
      " 4   claim                     200 non-null    object\n",
      " 5   person                    200 non-null    object\n",
      " 6   venue                     200 non-null    object\n",
      " 7   qg-output                 200 non-null    object\n",
      " 8   search_results            200 non-null    object\n",
      " 9   justification             200 non-null    object\n",
      " 10  search_results_timestamp  200 non-null    object\n",
      " 11  summary                   200 non-null    object\n",
      " 12  summarization_prompt      200 non-null    object\n",
      "dtypes: int64(1), object(12)\n",
      "memory usage: 20.4+ KB\n"
     ]
    }
   ],
   "source": [
    "before_df.info()"
   ]
  },
  {
   "cell_type": "code",
   "execution_count": 18,
   "id": "9cbd6e5c",
   "metadata": {},
   "outputs": [
    {
     "name": "stdout",
     "output_type": "stream",
     "text": [
      "<class 'pandas.core.frame.DataFrame'>\n",
      "RangeIndex: 200 entries, 0 to 199\n",
      "Data columns (total 13 columns):\n",
      " #   Column                    Non-Null Count  Dtype \n",
      "---  ------                    --------------  ----- \n",
      " 0   example_id                200 non-null    int64 \n",
      " 1   label                     200 non-null    object\n",
      " 2   url                       200 non-null    object\n",
      " 3   annotations               200 non-null    object\n",
      " 4   claim                     200 non-null    object\n",
      " 5   person                    200 non-null    object\n",
      " 6   venue                     200 non-null    object\n",
      " 7   search_results            200 non-null    object\n",
      " 8   justification             200 non-null    object\n",
      " 9   search_results_timestamp  200 non-null    object\n",
      " 10  summary                   200 non-null    object\n",
      " 11  summarization_prompt      200 non-null    object\n",
      " 12  qg-output                 200 non-null    object\n",
      "dtypes: int64(1), object(12)\n",
      "memory usage: 20.4+ KB\n"
     ]
    }
   ],
   "source": [
    "after_df.info()"
   ]
  },
  {
   "cell_type": "code",
   "execution_count": 19,
   "id": "add6fe86",
   "metadata": {},
   "outputs": [
    {
     "data": {
      "text/plain": [
       "0                                                                                                                                                                                                                                                                                                                                                                                                                                                                                                                                                                                                                               [Does voting by mail lead to ballots being fraudulently signed?, Are there potential security risks associated with voting by mail?, Can voting by mail lead to ballot tampering?, Has Donald Trump himself expressed concerns about voting by mail?, Are there any safeguards in place to prevent fraud with voting by mail?, Can people vote by mail in the United States?, Does voting by mail increase the risk of voter fraud?, Has Donald Trump provided evidence of large-scale voter fraud involving mail-in voting?, Can people vote by mail in the U.S.?, Is voting by mail a secure and reliable practice?, Have there been instances of fraud or cheating associated with voting by mail?]\n",
       "1                 [Did Ron DeSantis travel to Washington D.C. to secure assistance from the Trump administration for the communities affected by Hurricane Michael?, Did the Trump administration make a historic commitment to provide assistance?, Has the assistance provided by the Trump administration been sufficient to help the communities affected by Hurricane Michael?, Did the assistance provided by the Trump administration make a meaningful difference?, Did Ron DeSantis travel to Washington D.C. to secure assistance for Michael-battered communities?, Did the Trump administration make a historic commitment to provide assistance to the Michael-battered communities?, Is there evidence that the assistance promised by the Trump administration has been implemented?, Has the Trump administration kept its commitment to provide assistance to the Michael-battered communities?, Did Ron DeSantis travel to Washington, D.C. to secure assistance for communities affected by Hurricane Michael?, Did the Trump Administration make a historic commitment to provide assistance to those communities?, Have the communities affected by Hurricane Michael seen any tangible benefits from the assistance?, Has Ron DeSantis followed up on the historic commitment made by the Trump administration?]\n",
       "2                                                                                                                                                                                                                                                                                                                                                                                                                                                     [Did San Francisco ban plastic grocery bags in 2016?, Did the number of people going to the ER for salmonella and other related illnesses increase after the plastic bag ban?, Was the plastic bag ban associated with any other public health issues in San Francisco?, Are there any other studies that suggest a correlation between banning plastic bags and public health issues?, Did James Quintero stand by his statement at the 2016 SXSW Eco panel discussion?, Did San Francisco ban plastic grocery bags in the past?, Did ER visits for food-borne illnesses increase after the ban?, Did the plastic bag ban have an effect on the number of salmonella cases in San Francisco?, Was James Quintero's statement accurate in regards to the plastic bag ban in San Francisco?, Did other cities that adopted similar bans experience a similar spike in ER visits?]\n",
       "3    [Did the United States decide that waterboarding was torture during the Philippine revolution?, Did the United States court-martial American soldiers for waterboarding Philippine insurgents?, Did Sheldon Whitehouse make this statement in a TV interview in 2014?, Did the United States view waterboarding as torture prior to the Philippine revolution?, Did the United States decide waterboarding was torture during the Philippine revolution?, Have American soldiers been court-martialed for waterboarding Philippine insurgents?, Did the American government classify waterboarding as torture during the Philippine revolution?, Was this decision based on the treatment of Philippine insurgents?, Has the U.S. government officially recognized waterboarding as torture since the Philippine revolution?, Did the United States determine waterboarding was torture in the context of court-martialing American soldiers?, Did the court-martial of American soldiers have to do with waterboarding Philippine insurgents?, Was the court-martial related to events of the Philippine revolution?, Did the United States take action against American soldiers for waterboarding in the Philippine revolution?, Did American soldiers face court-martial for waterboarding during the Philippine revolution?]\n",
       "4                                                                                                                                                                                                                                                                                                                                                                     [Would Donald Trump's alleged statement be considered unethical or improper?, Did Donald Trump make this comment in a public setting?, Did Donald Trump say this comment in the year 2020?, Are there any documented reports of Donald Trump's alleged behavior with teenage girls?, Did Donald Trump make the statement about inspecting Miss Teen USA contestants without clothes on?, Are contestants in the Miss Teen USA pageant between the ages of 14 and 16?, Did Donald Trump make the statement about inspecting the Miss Teen USA contestants in 2020?, Did Donald Trump make the statement quoted in the viral image?, Did the Miss Teen USA pageants lack an appropriate male presence backstage?, Did Donald Trump ever state that he inspected teenage girls while they were changing?, Did Donald Trump ever admit to going backstage at Miss Teen USA pageants?, Was Donald Trump accused of inappropriate behavior at Miss Teen USA pageants?]\n",
       "Name: qg-output, dtype: object"
      ]
     },
     "metadata": {},
     "output_type": "display_data"
    },
    {
     "data": {
      "text/plain": [
       "0                                                                                                                                                                                                                                                                 [Here are the yes/no questions for the remaining claims:, **, Okay, here are the yes/no questions for each of the claims, designed to help you fact-check them:, Here are the yes/no questions to fact-check the claims:, Here are the yes/no questions to help fact-check each of the claims:]\n",
       "1                                                                                                                                      [Here are fact-checking questions for each claim, designed to help determine their truthfulness:, **, Here are the yes/no questions for fact-checking the claims, as requested:, Here are fact-checking questions for the claims provided:, Okay, here are the yes/no questions to help fact-check each of the claims:, Okay, here are the yes/no questions for each of the claims, designed to help you fact-check them:]\n",
       "2                                                                                                                                                                                    [Here are the yes/no questions for fact-checking the claims:, **, Here are fact-checking questions for each of the claims:, Here are the yes/no questions to help fact-check the claims:, Here are the yes/no questions for the claims, as requested:, Okay, here are the yes/no questions to fact-check the claims, along with some additional context for a fact-checker:]\n",
       "3                                                                                                                                                            [Here are some yes/no questions to help fact-check the claims:, **, Here are the yes/no questions for each claim, designed to help you fact-check them:, Here are the yes/no questions for each claim, designed to help determine its truthfulness:, Here are the yes/no questions to help fact-check each of the claims:, Here are fact-checking questions for each claim, formatted as requested:]\n",
       "4    [Here are the yes/no questions for each claim, designed to help determine their truthfulness:, **, Does Donald Trump have a history of making crude and inappropriate statements?, Did Donald Trump own the Miss Teen USA pageant?, Did Donald Trump make this statement?, Is this quote widely available to the public?, Here are the yes/no questions for fact-checking the claims, formatted as requested:, Here are the yes/no questions for the remaining claims:, Here are the yes/no questions for each claim, designed to help you fact-check them:]\n",
       "Name: qg-output, dtype: object"
      ]
     },
     "metadata": {},
     "output_type": "display_data"
    }
   ],
   "source": [
    "display(\n",
    "    before_df['qg-output'].head(5),\n",
    "    after_df['qg-output'].head(5),\n",
    ")"
   ]
  },
  {
   "cell_type": "code",
   "execution_count": null,
   "id": "a68f9bc5",
   "metadata": {},
   "outputs": [],
   "source": [
    "pd.set_option('display.max_colwidth', None)"
   ]
  },
  {
   "cell_type": "code",
   "execution_count": 15,
   "id": "808c04cc",
   "metadata": {},
   "outputs": [
    {
     "data": {
      "text/plain": [
       "0    [{'questions': ['Is voting fraud widespread in the US?', 'Is there a greater risk of voting fraud with mail-in ballots?', 'Is there evidence of thousands of people committing mail-in voting fraud?'], 'answers': ['no', 'yes', 'no'], 'question_source': ['reasoning', 'reasoning', 'reasoning'], 'statements': [' Voting fraud is widespread in the US.', ' There is a greater risk of voting fraud with mail-in ballots.', ' There is evidence of thousands of people committing mail-in voting fraud.'], 'statements_negate': [' Voting fraud is not widespread in the US.', ' There is not a greater risk of voting fraud with mail-in ballots.', ' There is no evidence of thousands of people committing mail-in voting fraud.']}, {'questions': ['Is mail balloting at great risk for fraudulent voting than in-person voting?', 'Are there thousands of people committing mail-in voting fraud? '], 'answers': ['yes', 'no'], 'question_source': ['reasoning', 'reasoning'], 'statements': [' Mail balloting is at great risk for fraudulent voting than in-person voting.', ' There are thousands of people committing mail-in voting fraud.'], 'statements_negate': [' Mail balloting is at less risk for fraudulent voting than in-person voting.', ' There are no people committing mail-in voting fraud.']}]\n",
       "Name: annotations, dtype: object"
      ]
     },
     "execution_count": 15,
     "metadata": {},
     "output_type": "execute_result"
    }
   ],
   "source": [
    "before_df['annotations'].head(1)"
   ]
  },
  {
   "cell_type": "code",
   "execution_count": null,
   "id": "4713b177",
   "metadata": {},
   "outputs": [],
   "source": []
  }
 ],
 "metadata": {
  "kernelspec": {
   "display_name": ".venv",
   "language": "python",
   "name": "python3"
  },
  "language_info": {
   "codemirror_mode": {
    "name": "ipython",
    "version": 3
   },
   "file_extension": ".py",
   "mimetype": "text/x-python",
   "name": "python",
   "nbconvert_exporter": "python",
   "pygments_lexer": "ipython3",
   "version": "3.12.6"
  }
 },
 "nbformat": 4,
 "nbformat_minor": 5
}
