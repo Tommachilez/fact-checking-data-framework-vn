{
 "cells": [
  {
   "cell_type": "code",
   "execution_count": 2,
   "id": "1737284e",
   "metadata": {},
   "outputs": [],
   "source": [
    "import os\n",
    "import sys\n",
    "import time\n",
    "import json\n",
    "import argparse\n",
    "import logging\n",
    "from typing import List, Dict, Any, Optional\n",
    "import requests\n",
    "from dotenv import load_dotenv\n",
    "load_dotenv()\n",
    "\n",
    "# Get the absolute path to the directory containing the other file\n",
    "other_dir = os.path.abspath('../')\n",
    "\n",
    "# Add the directory to sys.path if it's not already there\n",
    "if other_dir not in sys.path:\n",
    "    sys.path.append(other_dir)"
   ]
  },
  {
   "cell_type": "markdown",
   "id": "98c8ce3b",
   "metadata": {},
   "source": [
    "# CORE FUNCTIONS TESTS"
   ]
  },
  {
   "cell_type": "code",
   "execution_count": 3,
   "id": "b159a17a",
   "metadata": {},
   "outputs": [],
   "source": [
    "GOOGLE_API_URL = \"https://www.googleapis.com/customsearch/v1\"\n",
    "DEFAULT_NUM_RESULTS = 10\n",
    "# Default delay between requests in seconds\n",
    "DEFAULT_REQUEST_DELAY = 1.0\n",
    "\n",
    "API_KEY = os.getenv(\"GOOGLE_CUSTOM_SEARCH_API_KEY\")\n",
    "CSE_ID = os.getenv(\"GOOGLE_CSE_ID\")"
   ]
  },
  {
   "cell_type": "markdown",
   "id": "911ceaf3",
   "metadata": {},
   "source": [
    "## Google Custom Engine Search function"
   ]
  },
  {
   "cell_type": "code",
   "execution_count": 4,
   "id": "c768adfd",
   "metadata": {},
   "outputs": [],
   "source": [
    "from google_doc_retriever import search_google_cse"
   ]
  },
  {
   "cell_type": "code",
   "execution_count": 5,
   "id": "939f8816",
   "metadata": {},
   "outputs": [
    {
     "name": "stderr",
     "output_type": "stream",
     "text": [
      "2025-04-29 15:26:02,684 - INFO - Sending request to Google CSE API for query: 'Phó Thủ tướng Trần Hồng Hà thay mặt Chính phủ, Thủ tướng Chính phủ chúc mừng Đài Truyền hình Việt Nam, Đài truyền hình các tỉnh, thành phố trên cả nước, các đơn vị sản xuất truyền hình và TP. Hải Phòng sau 2 năm gián đoạn do đại dịch COVID-19 đã tổ chức rất thành công sự kiện quan trọng này' (start: 1, num: 10)\n"
     ]
    }
   ],
   "source": [
    "try:\n",
    "    results_json = search_google_cse(\n",
    "        query=\"Phó Thủ tướng Trần Hồng Hà thay mặt Chính phủ, Thủ tướng Chính phủ chúc mừng Đài Truyền hình Việt Nam, Đài truyền hình các tỉnh, thành phố trên cả nước, các đơn vị sản xuất truyền hình và TP. Hải Phòng sau 2 năm gián đoạn do đại dịch COVID-19 đã tổ chức rất thành công sự kiện quan trọng này\",\n",
    "        api_key=API_KEY,\n",
    "        cse_id=CSE_ID\n",
    "    )\n",
    "except ValueError as ve:\n",
    "    logging.error(\"Configuration error: %s\", ve)\n",
    "except requests.exceptions.RequestException:\n",
    "        # Error already logged in search_google_cse, stop processing\n",
    "    logging.error(\"Stopping due to network error.\")"
   ]
  },
  {
   "cell_type": "code",
   "execution_count": 6,
   "id": "073d17f0",
   "metadata": {},
   "outputs": [
    {
     "data": {
      "text/plain": [
       "{'kind': 'customsearch#search',\n",
       " 'url': {'type': 'application/json',\n",
       "  'template': 'https://www.googleapis.com/customsearch/v1?q={searchTerms}&num={count?}&start={startIndex?}&lr={language?}&safe={safe?}&cx={cx?}&sort={sort?}&filter={filter?}&gl={gl?}&cr={cr?}&googlehost={googleHost?}&c2coff={disableCnTwTranslation?}&hq={hq?}&hl={hl?}&siteSearch={siteSearch?}&siteSearchFilter={siteSearchFilter?}&exactTerms={exactTerms?}&excludeTerms={excludeTerms?}&linkSite={linkSite?}&orTerms={orTerms?}&dateRestrict={dateRestrict?}&lowRange={lowRange?}&highRange={highRange?}&searchType={searchType}&fileType={fileType?}&rights={rights?}&imgSize={imgSize?}&imgType={imgType?}&imgColorType={imgColorType?}&imgDominantColor={imgDominantColor?}&alt=json'},\n",
       " 'queries': {'request': [{'title': 'Google Custom Search - Phó Thủ tướng Trần Hồng Hà thay mặt Chính phủ, Thủ tướng Chính phủ chúc mừng Đài Truyền hình Việt Nam, Đài truyền hình các tỉnh, thành phố trên cả nước, các đơn vị sản xuất truyền hình và TP. Hải Phòng sau 2 năm gián đoạn do đại dịch COVID-19 đã tổ chức rất thành công sự kiện quan trọng này',\n",
       "    'totalResults': '414000',\n",
       "    'searchTerms': 'Phó Thủ tướng Trần Hồng Hà thay mặt Chính phủ, Thủ tướng Chính phủ chúc mừng Đài Truyền hình Việt Nam, Đài truyền hình các tỉnh, thành phố trên cả nước, các đơn vị sản xuất truyền hình và TP. Hải Phòng sau 2 năm gián đoạn do đại dịch COVID-19 đã tổ chức rất thành công sự kiện quan trọng này',\n",
       "    'count': 10,\n",
       "    'startIndex': 1,\n",
       "    'inputEncoding': 'utf8',\n",
       "    'outputEncoding': 'utf8',\n",
       "    'safe': 'off',\n",
       "    'cx': 'd5e08f922994a4447'}],\n",
       "  'nextPage': [{'title': 'Google Custom Search - Phó Thủ tướng Trần Hồng Hà thay mặt Chính phủ, Thủ tướng Chính phủ chúc mừng Đài Truyền hình Việt Nam, Đài truyền hình các tỉnh, thành phố trên cả nước, các đơn vị sản xuất truyền hình và TP. Hải Phòng sau 2 năm gián đoạn do đại dịch COVID-19 đã tổ chức rất thành công sự kiện quan trọng này',\n",
       "    'totalResults': '414000',\n",
       "    'searchTerms': 'Phó Thủ tướng Trần Hồng Hà thay mặt Chính phủ, Thủ tướng Chính phủ chúc mừng Đài Truyền hình Việt Nam, Đài truyền hình các tỉnh, thành phố trên cả nước, các đơn vị sản xuất truyền hình và TP. Hải Phòng sau 2 năm gián đoạn do đại dịch COVID-19 đã tổ chức rất thành công sự kiện quan trọng này',\n",
       "    'count': 10,\n",
       "    'startIndex': 11,\n",
       "    'inputEncoding': 'utf8',\n",
       "    'outputEncoding': 'utf8',\n",
       "    'safe': 'off',\n",
       "    'cx': 'd5e08f922994a4447'}]},\n",
       " 'context': {'title': 'Document-Retriever'},\n",
       " 'searchInformation': {'searchTime': 0.445249,\n",
       "  'formattedSearchTime': '0.45',\n",
       "  'totalResults': '414000',\n",
       "  'formattedTotalResults': '414,000'},\n",
       " 'items': [{'kind': 'customsearch#result',\n",
       "   'title': '5.932 tỷ đồng ủng hộ tại Chương trình phát động hỗ trợ xóa nhà tạm ...',\n",
       "   'htmlTitle': '5.932 tỷ đồng ủng hộ tại Chương trình phát động hỗ trợ xóa nhà tạm ...',\n",
       "   'link': 'http://mattran.org.vn/hoat-dong/5932-ty-dong-ung-ho-tai-chuong-trinh-phat-dong-ho-tro-xoa-nha-tam-nha-dot-nat-cho-ho-ngheo-ho-co-hoan-canh-kho-khan-tren-pham-vi-ca-nuoc-57312.html',\n",
       "   'displayLink': 'mattran.org.vn',\n",
       "   'snippet': 'Oct 5, 2024 ... ... Đài Tiếng nói Việt Nam và tiếp sóng trên các kênh, Đài truyền hình trong cả nước. Về việc thôi Ủy viên Ủy ban Trung ương Mặt trận Tổ quốc\\xa0...',\n",
       "   'htmlSnippet': 'Oct 5, 2024 <b>...</b> ... Đài Tiếng nói <b>Việt Nam</b> và tiếp sóng <b>trên các</b> kênh, <b>Đài truyền hình</b> trong <b>cả nước</b>. Về việc thôi Ủy viên Ủy ban Trung ương <b>Mặt</b> trận Tổ quốc&nbsp;...',\n",
       "   'formattedUrl': 'http://mattran.org.vn/.../5932-ty-dong-ung-ho-tai-chuong-trinh-phat-dong-...',\n",
       "   'htmlFormattedUrl': 'http://mattran.org.vn/.../5932-ty-dong-ung-ho-tai-chuong-trinh-phat-dong-...',\n",
       "   'pagemap': {'cse_thumbnail': [{'src': 'https://encrypted-tbn0.gstatic.com/images?q=tbn:ANd9GcQ6uL5jZNV72blSAaPZvx9Eqzst-XNIohPnWezS9lunxVbHC65-v39RC7o&s',\n",
       "      'width': '275',\n",
       "      'height': '183'}],\n",
       "    'metatags': [{'application-name': 'Uỷ ban Trung ương Mặt trận Tổ quốc Việt Nam',\n",
       "      'og:image': 'https://static.mattran.org.vn/Uploaded/dieptmh/2024_10_05/z5900364560473cb07ce338dacb04e29cbb2d533f14f18_PPVX.jpg',\n",
       "      'og:type': 'article',\n",
       "      'article:published_time': '2024-10-05T21:02:00T+07:00',\n",
       "      'article:section': 'Hoạt động của mặt trận',\n",
       "      'og:site_name': 'Uỷ ban Trung ương Mặt trận Tổ quốc Việt Nam',\n",
       "      'handheldfriendly': 'true',\n",
       "      'og:title': '5.932 tỷ đồng ủng hộ tại Chương trình phát động hỗ trợ xóa nhà tạm, nhà dột nát cho hộ nghèo, hộ có hoàn cảnh khó khăn trên phạm vi cả nước',\n",
       "      'og:description': '(Mặt trận) - Tối 5/10, tại Nhà hát lớn Hà Nội, Chính phủ và Đoàn Chủ tịch Ủy ban Trung ương MTTQ Việt Nam đã tổ chức Chương trình phát động hỗ trợ xóa nhà tạm, nhà dột nát trên phạm vi cả nước với chủ đề “Mái ấm cho đồng bào tôi”. Chương trình được truyền hình trực tiếp trên sóng Đài Truyền hình Việt Nam, Đài Tiếng nói Việt Nam và tiếp sóng trên các kênh, Đài truyền hình trong cả nước.',\n",
       "      'news_keywords': 'Uỷ ban Trung ương Mặt trận Tổ quốc Việt Nam, mặt trận tổ quốc việt nam, ubtwmttqvn, mttqvn, mattran.org.vn, mặt trận địa phương, đại đoàn kết toàn dân tộc, thực hiện dân chủ, tăng cường đồng thuận xã hội, bảo vệ quyền và lợi ích của nhân dân, giám sát và phản biện xã hội, tham gia xây dựng Đảng - Nhà nước',\n",
       "      'viewport': 'width=device-width, initial-scale=1.0',\n",
       "      'apple-mobile-web-app-capable': 'yes',\n",
       "      'mobileoptimized': 'width',\n",
       "      'og:url': 'http://mattran.org.vn/hoat-dong/5932-ty-dong-ung-ho-tai-chuong-trinh-phat-dong-ho-tro-xoa-nha-tam-nha-dot-nat-cho-ho-ngheo-ho-co-hoan-canh-kho-khan-tren-pham-vi-ca-nuoc-57312.html'}],\n",
       "    'cse_image': [{'src': 'https://static.mattran.org.vn/Uploaded/dieptmh/2024_10_05/z5900364560473cb07ce338dacb04e29cbb2d533f14f18_PPVX.jpg'}]}},\n",
       "  {'kind': 'customsearch#result',\n",
       "   'title': \"Tôn vinh Thầy thuốc Việt Nam và trao giải cuộc thi viết ''Sự hy sinh ...\",\n",
       "   'htmlTitle': 'Tôn vinh <b>Thầy</b> thuốc <b>Việt Nam</b> và trao giải cuộc thi viết &#39;&#39;Sự hy sinh ...',\n",
       "   'link': 'https://moh.gov.vn/hoat-dong-cua-lanh-dao-bo/-/asset_publisher/TW6LTp1ZtwaN/content/ton-vinh-thay-thuoc-viet-nam-va-trao-giai-cuoc-thi-viet-su-hy-sinh-tham-lang-lan-thu-vi?inheritRedirect=false',\n",
       "   'displayLink': 'moh.gov.vn',\n",
       "   'snippet': \"Feb 27, 2024 ... 20h ngày 26/2, tại Nhà hát Hồ Gươm, 40 Hàng Bài, Hà Nội diễn ra Chương trình Tôn vinh Thầy thuốc Việt Nam và trao giải cuộc thi viết 'Sự hy\\xa0...\",\n",
       "   'htmlSnippet': 'Feb 27, 2024 <b>...</b> 20h ngày 26/2, tại Nhà hát Hồ Gươm, 40 Hàng Bài, <b>Hà</b> Nội diễn ra Chương trình Tôn vinh <b>Thầy</b> thuốc <b>Việt Nam</b> và trao giải cuộc thi viết &#39;Sự hy&nbsp;...',\n",
       "   'formattedUrl': 'https://moh.gov.vn/.../ton-vinh-thay-thuoc-viet-nam-va-trao-giai-cuoc-thi-...',\n",
       "   'htmlFormattedUrl': 'https://moh.gov.vn/.../ton-vinh-<b>thay</b>-thuoc-viet-<b>nam</b>-va-trao-giai-cuoc-thi-...',\n",
       "   'pagemap': {'cse_thumbnail': [{'src': 'https://encrypted-tbn0.gstatic.com/images?q=tbn:ANd9GcQI3FBeASEvTzUDNhyrV84Nnt3ZJZH7pwOn0qr5LAnNoQoEekKRo57s1cE&s',\n",
       "      'width': '275',\n",
       "      'height': '183'}],\n",
       "    'metatags': [{'viewport': 'initial-scale=1.0, width=device-width'}],\n",
       "    'cse_image': [{'src': 'https://suckhoedoisong.qltns.mediacdn.vn/thumb_w/640/324455921873985536/2024/2/26/giai-dac-biet-1708969504635585020627.jpeg'}]}},\n",
       "  {'kind': 'customsearch#result',\n",
       "   'title': 'Thủ tướng Chính phủ chỉ đạo chủ động phòng, chống rét đậm, rét ...',\n",
       "   'htmlTitle': '<b>Thủ tướng Chính phủ</b> chỉ đạo chủ động phòng, chống rét đậm, rét ...',\n",
       "   'link': 'https://chinhsachcuocsong.vnanet.vn/thu-tuong-chinh-phu-chi-dao-chu-dong-phong-chong-ret-dam-ret-hai-keo-dai/55191.html',\n",
       "   'displayLink': 'chinhsachcuocsong.vnanet.vn',\n",
       "   'snippet': 'Jan 27, 2025 ... Nhiệt độ trên đỉnh Fansipan xuống âm 6 độ C. Ảnh: TTXVN phát. Thủ tướng Chính phủ Phạm Minh Chính đã ban hành Công điện về việc chủ động phòng,\\xa0...',\n",
       "   'htmlSnippet': 'Jan 27, 2025 <b>...</b> Nhiệt độ <b>trên</b> đỉnh Fansipan xuống âm 6 độ C. <b>Ảnh</b>: TTXVN phát. <b>Thủ tướng Chính phủ</b> Phạm Minh Chính đã ban hành Công điện về việc chủ động phòng,&nbsp;...',\n",
       "   'formattedUrl': 'https://chinhsachcuocsong.vnanet.vn/thu-tuong...chi.../55191.html',\n",
       "   'htmlFormattedUrl': 'https://chinhsachcuocsong.vnanet.vn/thu-tuong...chi.../55191.html',\n",
       "   'pagemap': {'cse_thumbnail': [{'src': 'https://encrypted-tbn0.gstatic.com/images?q=tbn:ANd9GcS0kBYciro8f1OqAY7XXfOSEJvFKsi9ES285fdY3lLA35WUEhhA_toX9871&s',\n",
       "      'width': '300',\n",
       "      'height': '168'}],\n",
       "    'metatags': [{'og:image': 'https://imgchinhsachcuocsong.vnanet.vn/MediaUpload/Medium/2025/01/27/122228-90.jpg',\n",
       "      'copyright': 'Ban Tin trong nước - TTXVN',\n",
       "      'og:type': 'article',\n",
       "      'og:site_name': 'chinhsachcuocsong.vnanet.vn',\n",
       "      'viewport': 'width=device-width, initial-scale=1.0, user-scalable=yes',\n",
       "      'og:title': 'Thủ tướng Chính phủ chỉ đạo chủ động phòng, chống rét đậm, rét hại kéo dài',\n",
       "      'title': 'Thủ tướng Chính phủ chỉ đạo chủ động phòng, chống rét đậm, rét hại kéo dài',\n",
       "      'og:url': 'https://chinhsachcuocsong.vnanet.vn/thu-tuong-chinh-phu-chi-dao-chu-dong-phong-chong-ret-dam-ret-hai-keo-dai/55191.html',\n",
       "      'og:description': 'Thủ tướng Chính phủ giao Phó Thủ tướng Chính phủ Trần Hồng Hà trực tiếp chỉ đạo các Bộ, ngành và các địa phương có liên quan triển khai thực hiện nghiêm túc Công điện về việc chủ động phòng, chống rét đậm, rét hại kéo dài.'}],\n",
       "    'cse_image': [{'src': 'https://imgchinhsachcuocsong.vnanet.vn/MediaUpload/Medium/2025/01/27/122228-90.jpg'}]}},\n",
       "  {'kind': 'customsearch#result',\n",
       "   'title': 'Lễ công bố thành lập thành phố Hoa Lư và công nhận thành phố ...',\n",
       "   'htmlTitle': 'Lễ công bố thành lập <b>thành phố</b> Hoa Lư và công nhận <b>thành phố</b> ...',\n",
       "   'link': 'https://nbtv.vn/le-cong-bo-thanh-lap-thanh-pho-hoa-lu-va-cong-nhan-thanh-pho-dat-tieu-chi-do-thi-loai-i-85416.html',\n",
       "   'displayLink': 'nbtv.vn',\n",
       "   'snippet': 'Jan 20, 2025 ... Tới dự có các đồng chí Ủy viên BCH Trung ương Đảng: Trần Hồng Hà, Phó Thủ tướng Chính phủ; Nguyễn Thị Thu Hà, Phó Chủ tịch - Tổng Thư ký Ủy\\xa0...',\n",
       "   'htmlSnippet': 'Jan 20, 2025 <b>...</b> Tới dự có <b>các</b> đồng chí Ủy viên BCH Trung ương Đảng: <b>Trần Hồng Hà</b>, <b>Phó Thủ tướng Chính phủ</b>; Nguyễn Thị Thu Hà, Phó Chủ tịch - Tổng Thư ký Ủy&nbsp;...',\n",
       "   'formattedUrl': 'https://nbtv.vn/le-cong-bo-thanh-lap-thanh-pho-hoa-lu-va-cong-nhan-than...',\n",
       "   'htmlFormattedUrl': 'https://nbtv.vn/le-cong-bo-thanh-lap-thanh-pho-hoa-lu-va-cong-nhan-than...',\n",
       "   'pagemap': {'cse_thumbnail': [{'src': 'https://encrypted-tbn0.gstatic.com/images?q=tbn:ANd9GcStY4TGf8-aITYl6P6x_7BNLDbIBtMAbO7HhUg39T_E9zC52MvE_vIYBsJF&s',\n",
       "      'width': '287',\n",
       "      'height': '176'}],\n",
       "    'metatags': [{'og:image': 'https://cdn.nbtv.vn/upload/news/1_2025/_15464620012025.jpeg',\n",
       "      'copyright': 'Đài Phát thanh và Truyền hình Ninh Bình',\n",
       "      'theme-color': '#FFFFFF',\n",
       "      'og:image:width': '960',\n",
       "      'og:type': 'website',\n",
       "      'author': 'MEDIATECH',\n",
       "      'og:title': 'Lễ công bố thành lập thành phố Hoa Lư và công nhận thành phố đạt tiêu chí đô thị loại I',\n",
       "      'og:image:height': '540',\n",
       "      'site_path': 'https://nbtv.vn/',\n",
       "      'template_path': '/templates/frontend/nbtv/',\n",
       "      'msapplication-navbutton-color': '#FFFFFF',\n",
       "      'og:description': 'Tối 19/1, Tỉnh ủy, HĐND, UBND, Ủy ban MTTQ Việt Nam tỉnh Ninh Bình long trọng tổ chức Lễ công bố thành lập thành phố Hoa Lư và công nhận thành phố đạt tiêu chí đô thị loại I.',\n",
       "      'fb:app_id': '1678115975664328',\n",
       "      'apple-mobile-web-app-status-bar-style': '#FFFFFF',\n",
       "      'viewport': 'width=device-width, initial-scale=1, shrink-to-fit=yes, user-scalable=no',\n",
       "      'csrf-token': '9SDp6oMFbdoLXmppuSuumzJqnObP2mkMOLpX53iqlje2G8f5CGAI3dTv4p4CG5CfjoEXyYSCruaVXNEPZu7g0vuSq3KXZtnrjPYaypMoaWGjuhH5fo2P0ELSGK4EzhOS',\n",
       "      'og:url': 'https://nbtv.vn/le-cong-bo-thanh-lap-thanh-pho-hoa-lu-va-cong-nhan-thanh-pho-dat-tieu-chi-do-thi-loai-i-85416.html',\n",
       "      'app_control': 'le-cong-bo-thanh-lap-thanh-pho-hoa-lu-va-cong-nhan-thanh-pho-dat-tieu-chi-do-thi-loai-i-85416.html'}],\n",
       "    'cse_image': [{'src': 'https://cdn.nbtv.vn/upload/news/1_2025/_15464620012025.jpeg'}]}},\n",
       "  {'kind': 'customsearch#result',\n",
       "   'title': 'Công bố quyết định bổ nhiệm 2 Phó Thủ tướng Trần Hồng Hà, Trần ...',\n",
       "   'htmlTitle': 'Công bố quyết định bổ nhiệm 2 <b>Phó Thủ tướng Trần Hồng Hà</b>, Trần ...',\n",
       "   'link': 'https://hoabinhtv.vn/chinh-tri/cong-bo-quyet-dinh-bo-nhiem-2-pho-thu-tuong-tran-hong-ha-tran-luu-quang',\n",
       "   'displayLink': 'hoabinhtv.vn',\n",
       "   'snippet': 'Jan 10, 2025 ... Đồng thời, tiến hành bổ nhiệm chức danh Phó Thủ tướng đối với ông Trần Hồng Hà và Trần Lưu Quang. cong bo quyet dinh bo nhiem 2 pho thu tuong\\xa0...',\n",
       "   'htmlSnippet': 'Jan 10, 2025 <b>...</b> Đồng thời, tiến hành bổ nhiệm chức danh <b>Phó Thủ tướng</b> đối với ông <b>Trần Hồng Hà</b> và Trần Lưu Quang. cong bo quyet dinh bo nhiem 2 <b>pho</b> thu tuong&nbsp;...',\n",
       "   'formattedUrl': 'https://hoabinhtv.vn/.../cong-bo-quyet-dinh-bo-nhiem-2-pho-thu-tuong-tra...',\n",
       "   'htmlFormattedUrl': 'https://hoabinhtv.vn/.../cong-bo-quyet-dinh-bo-nhiem-2-pho-thu-tuong-tra...',\n",
       "   'pagemap': {'cse_thumbnail': [{'src': 'https://encrypted-tbn0.gstatic.com/images?q=tbn:ANd9GcTR644TwLCEbqX42zSGfamGnwlijcdVFwRdcZPfm0SvWJ-EElZz4nNZPXI&s',\n",
       "      'width': '275',\n",
       "      'height': '183'}],\n",
       "    'metatags': [{'viewport': 'width=device-width, initial-scale=1.0, maximum-scale=1.0, user-scalable=0'}],\n",
       "    'cse_image': [{'src': 'https://media.vov.vn/sites/default/files/styles/large_watermark/public/2023-01/1_68.jpg'}]}},\n",
       "  {'kind': 'customsearch#result',\n",
       "   'title': 'Khai mạc Liên hoan Phát thanh toàn quốc lần thứ XVI: Phát thanh ...',\n",
       "   'htmlTitle': 'Khai mạc Liên hoan Phát <b>thanh</b> toàn quốc lần thứ XVI: Phát <b>thanh</b> ...',\n",
       "   'link': 'https://baothanhhoa.vn/khai-mac-lien-hoan-phat-thanh-toan-quoc-lan-thu-xvi-phat-thanh-viet-nam--da-dang-trong-chuyen-doi-so-219272.htm',\n",
       "   'displayLink': 'baothanhhoa.vn',\n",
       "   'snippet': 'Jul 11, 2024 ... ... trên cả nước cùng các đơn vị trực thuộc Đài Tiếng nói Việt Nam. ... Phó Thủ tướng Chính phủ Trần Hồng Hà tặng hoa cho các đồng chí trong\\xa0...',\n",
       "   'htmlSnippet': 'Jul 11, 2024 <b>...</b> ... <b>trên cả nước</b> cùng <b>các</b> đơn vị trực thuộc <b>Đài</b> Tiếng nói <b>Việt Nam</b>. ... <b>Phó Thủ tướng Chính phủ Trần Hồng Hà</b> tặng hoa cho <b>các</b> đồng chí trong&nbsp;...',\n",
       "   'formattedUrl': 'https://baothanhhoa.vn/khai-mac-lien-hoan-phat-thanh-toan-quoc-lan-thu-...',\n",
       "   'htmlFormattedUrl': 'https://baothanhhoa.vn/khai-mac-lien-hoan-phat-thanh-toan-quoc-lan-thu-...',\n",
       "   'pagemap': {'cse_thumbnail': [{'src': 'https://encrypted-tbn0.gstatic.com/images?q=tbn:ANd9GcSDZmBw0YLhmOuy7EHtCBmKKwtLDrdnSQrJx6IVILCqo4y4FOqGgC5UMvI&s',\n",
       "      'width': '310',\n",
       "      'height': '163'}],\n",
       "    'metatags': [{'og:image': 'https://baothanhhoa.vn/thumbnail/news/khai-mac-lien-hoan-phat-thanh-toan-quoc-lan-thu-xvi-phat-thanh-viet-nam--da-dang-trong-chuyen-doi-so-di2428d205d5075748t75409l0.jpg',\n",
       "      'og:type': 'article',\n",
       "      'og:image:width': '550',\n",
       "      'article:published_time': '2024-07-11 21:59',\n",
       "      'article:section': 'Thời sự',\n",
       "      'og:site_name': 'Báo Thanh Hóa',\n",
       "      'apple-mobile-web-app-title': 'Báo Thanh Hóa',\n",
       "      'og:title': 'Khai mạc Liên hoan Phát thanh toàn quốc lần thứ XVI: Phát thanh Việt Nam – đa dạng trong chuyển đổi số',\n",
       "      'og:image:height': '366',\n",
       "      'fb:pages': '303222926555456',\n",
       "      'og:description': 'Trải qua chặng đường 30 năm với 15 kỳ đã tổ chức, Liên hoan Phát thanh toàn quốc đánh dấu sự trưởng thành cả về lượng và chất, trở thành ngày hội của những người làm báo nói cả nước.',\n",
       "      'article:author': 'https://facebook.com/baothanhhoa.vn',\n",
       "      'article:publisher': 'https://facebook.com/baothanhhoa.vn',\n",
       "      'article:tag': 'Toàn quốc',\n",
       "      'fb:app_id': '377351146877300',\n",
       "      'article:modified_time': '2024-07-13 06:40',\n",
       "      'viewport': 'width=device-width, initial-scale=yes',\n",
       "      'mobileoptimized': '100',\n",
       "      'mobile-web-app-capable': 'yes',\n",
       "      'og:url': 'https://baothanhhoa.vn/khai-mac-lien-hoan-phat-thanh-toan-quoc-lan-thu-xvi-phat-thanh-viet-nam--da-dang-trong-chuyen-doi-so-219272.htm',\n",
       "      'apple-touch-fullscreen': 'yes',\n",
       "      'format-detection': 'telephone=no'}],\n",
       "    'cse_image': [{'src': 'https://baothanhhoa.vn/thumbnail/news/khai-mac-lien-hoan-phat-thanh-toan-quoc-lan-thu-xvi-phat-thanh-viet-nam--da-dang-trong-chuyen-doi-so-di2428d205d5075748t75409l0.jpg'}]}},\n",
       "  {'kind': 'customsearch#result',\n",
       "   'title': 'Thủ tướng: Truyền hình phải phản ánh sinh động, có sức lan tỏa ...',\n",
       "   'htmlTitle': '<b>Thủ tướng</b>: <b>Truyền hình</b> phải phản ánh sinh động, có sức lan tỏa ...',\n",
       "   'link': 'https://baoangiang.com.vn/thu-tuong-truyen-hinh-phai-phan-anh-sinh-dong-co-suc-lan-toa-a417491.html',\n",
       "   'displayLink': 'baoangiang.com.vn',\n",
       "   'snippet': 'Mar 23, 2025 ... ... nước và con người Việt Nam anh hùng và bạn bè quốc tế yêu quý chúng ta. Thay mặt Lãnh đạo Đảng, Nhà nước, Thủ tướng nhiệt liệt chúc mừng các\\xa0...',\n",
       "   'htmlSnippet': 'Mar 23, 2025 <b>...</b> ... <b>nước</b> và con người <b>Việt Nam</b> anh hùng và bạn bè quốc tế yêu quý chúng ta. <b>Thay mặt</b> Lãnh đạo Đảng, Nhà <b>nước</b>, <b>Thủ tướng</b> nhiệt liệt <b>chúc mừng các</b>&nbsp;...',\n",
       "   'formattedUrl': 'https://baoangiang.com.vn/thu-tuong-truyen-hinh-phai-phan-anh-sinh-don...',\n",
       "   'htmlFormattedUrl': 'https://baoangiang.com.vn/thu-tuong-truyen-hinh-phai-phan-anh-sinh-don...',\n",
       "   'pagemap': {'cse_thumbnail': [{'src': 'https://encrypted-tbn0.gstatic.com/images?q=tbn:ANd9GcSUOyKroQZS__NTmskATzVWahAP85zYtCgzx0jbOa1FH4jIDu9IWZKW-34&s',\n",
       "      'width': '274',\n",
       "      'height': '184'}],\n",
       "    'metatags': [{'og:image': 'https://images.baoangiang.com.vn/image/news/2025/20250323/thumbnail/750x450/thu-tuong-truyen-hi_3931_1742690741.webp',\n",
       "      'og:type': 'blog',\n",
       "      'viewport': 'width=device-width, initial-scale=1.0',\n",
       "      'og:title': 'Thủ tướng: Truyền hình phải phản ánh sinh động, có sức lan tỏa',\n",
       "      'og:url': 'https://baoangiang.com.vn/thu-tuong-truyen-hinh-phai-phan-anh-sinh-dong-co-suc-lan-toa-a417491.html',\n",
       "      'og:description': 'Thủ tướng mong muốn những người làm truyền hình tạo ra nhiều chương trình hấp dẫn, có chiều sâu, mang giá trị nhân văn, phản ánh sinh động hơi thở, nhịp đập của cuộc sống; có sức lan tỏa...'}],\n",
       "    'cse_image': [{'src': 'https://images.baoangiang.com.vn/image/news/2025/20250323/thumbnail/750x450/thu-tuong-truyen-hi_3931_1742690741.webp'}]}},\n",
       "  {'kind': 'customsearch#result',\n",
       "   'title': 'Phân công công tác Thủ tướng và 7 Phó Thủ tướng Chính phủ',\n",
       "   'htmlTitle': 'Phân công công tác <b>Thủ tướng</b> và 7 <b>Phó Thủ tướng Chính phủ</b>',\n",
       "   'link': 'https://laodong.vn/thoi-su/phan-cong-cong-tac-thu-tuong-va-7-pho-thu-tuong-chinh-phu-1468325.ldo',\n",
       "   'displayLink': 'laodong.vn',\n",
       "   'snippet': 'Feb 25, 2025 ... ... Việt Nam, Đài Truyền hình Việt Nam, Đài Tiếng nói Việt Nam. Trực tiếp chỉ đạo, điều hành các lĩnh vực công tác sau đây: Chiến lược, kế hoạch\\xa0...',\n",
       "   'htmlSnippet': 'Feb 25, 2025 <b>...</b> ... <b>Việt Nam</b>, <b>Đài Truyền hình Việt Nam</b>, Đài Tiếng nói <b>Việt Nam</b>. Trực tiếp chỉ đạo, điều hành <b>các</b> lĩnh vực công tác sau đây: Chiến lược, kế hoạch&nbsp;...',\n",
       "   'formattedUrl': 'https://laodong.vn/.../phan-cong-cong-tac-thu-tuong-va-7-pho-thu-tuong-c...',\n",
       "   'htmlFormattedUrl': 'https://laodong.vn/.../phan-cong-cong-tac-thu-tuong-va-7-pho-thu-tuong-c...',\n",
       "   'pagemap': {'cse_thumbnail': [{'src': 'https://encrypted-tbn0.gstatic.com/images?q=tbn:ANd9GcQNHJ1jXTfM-Uy-KXFFJjnyLQ8fWb-XPheqelkMFbmPxhdmLZB0Np1GBuE8&s',\n",
       "      'width': '310',\n",
       "      'height': '163'}],\n",
       "    'metatags': [{'msapplication-tilecolor': '#ffffff',\n",
       "      'og:image': 'https://media-cdn-v2.laodong.vn/storage/newsportal/2025/2/25/1468325/Thu-Tuong-Chinh-Phu-.jpg?w=800&h=420&crop=auto&scale=both',\n",
       "      'dable:title': 'Phân công công tác Thủ tướng và 7 Phó Thủ tướng Chính phủ',\n",
       "      'theme-color': '#ffffff',\n",
       "      'og:type': 'article',\n",
       "      'og:image:width': '800',\n",
       "      'article:published_time': '2025-02-25T17:19:26+07:00',\n",
       "      'article:section': 'Thời sự',\n",
       "      'dable:item_id': '1468325',\n",
       "      'og:title': 'Phân công công tác Thủ tướng và 7 Phó Thủ tướng Chính phủ',\n",
       "      'og:image:height': '433',\n",
       "      'msapplication-tileimage': '/ms-icon-144x144.png',\n",
       "      'fb:pages': '152570468273884',\n",
       "      'og:description': 'Thủ tướng Chính phủ Phạm Minh Chính vừa ký Quyết định số 401/QĐ-TTg ngày 25.2 phân công công tác của Thủ tướng và các Phó Thủ tướng Chính phủ.',\n",
       "      'article:author': 'https://www.facebook.com/laodongonline',\n",
       "      'article:publisher': 'https://www.facebook.com/laodongonline',\n",
       "      'fb:app_id': '103473449992006',\n",
       "      'dable:author': 'PHẠM ĐÔNG',\n",
       "      'viewport': 'width=device-width, initial-scale=1.0',\n",
       "      'dable:image': 'https://media-cdn-v2.laodong.vn/storage/newsportal/2025/2/25/1468325/Thu-Tuong-Chinh-Phu-.jpg?w=800&h=420&crop=auto&scale=both',\n",
       "      'og:url': 'https://laodong.vn/thoi-su/phan-cong-cong-tac-thu-tuong-va-7-pho-thu-tuong-chinh-phu-1468325.ldo'}],\n",
       "    'cse_image': [{'src': 'https://media-cdn-v2.laodong.vn/storage/newsportal/2025/2/25/1468325/Thu-Tuong-Chinh-Phu-.jpg?w=800&h=420&crop=auto&scale=both'}]}},\n",
       "  {'kind': 'customsearch#result',\n",
       "   'title': 'Thúc đẩy hợp tác Việt Nam và Hoa Kỳ trong các lĩnh vực mới nổi',\n",
       "   'htmlTitle': 'Thúc đẩy hợp tác <b>Việt Nam</b> và Hoa Kỳ trong <b>các</b> lĩnh vực mới nổi',\n",
       "   'link': 'https://baochinhphu.vn/thuc-day-hop-tac-viet-nam-va-hoa-ky-trong-cac-linh-vuc-moi-noi-102241031171910482.htm',\n",
       "   'displayLink': 'baochinhphu.vn',\n",
       "   'snippet': 'Oct 31, 2024 ... ... chính trị của nhau - Ảnh: VGP/Minh Khôi. Tại buổi tiếp, Phó Thủ tướng Trần Hồng Hà đánh giá cao những đóng góp của Đại sứ Marc Knapper trong\\xa0...',\n",
       "   'htmlSnippet': 'Oct 31, 2024 <b>...</b> ... <b>chính</b> trị của nhau - <b>Ảnh</b>: VGP/Minh Khôi. Tại buổi tiếp, <b>Phó Thủ tướng Trần Hồng Hà</b> đánh giá cao <b>những</b> đóng góp của Đại sứ Marc Knapper trong&nbsp;...',\n",
       "   'formattedUrl': 'https://baochinhphu.vn/thuc-day-hop-tac-viet-nam-va-hoa-ky-trong-cac-lin...',\n",
       "   'htmlFormattedUrl': 'https://baochinhphu.vn/thuc-day-hop-tac-viet-<b>nam</b>-va-hoa-ky-trong-cac-lin...',\n",
       "   'pagemap': {'cse_thumbnail': [{'src': 'https://encrypted-tbn0.gstatic.com/images?q=tbn:ANd9GcSLS-zY3_va3_oX2p-roTJw4HGS5AAXJsgyEiT1JGfnRo0nIj9vlOvLYrbq&s',\n",
       "      'width': '310',\n",
       "      'height': '163'}],\n",
       "    'metatags': [{'og:image': 'https://bcp.cdnchinhphu.vn/zoom/600_315/334894974524682240/2024/10/31/hk1-17303696024141843767714.jpg',\n",
       "      'copyright': '© Cổng Thông tin điện tử Chính phủ',\n",
       "      'og:type': 'website',\n",
       "      'og:image:width': '600',\n",
       "      'og:site_name': 'baochinhphu.vn',\n",
       "      'author': 'baochinhphu.vn',\n",
       "      'og:title': 'Thúc đẩy hợp tác Việt Nam và Hoa Kỳ trong các lĩnh vực mới nổi',\n",
       "      'og:image:height': '315',\n",
       "      'og:image:type': 'image/png',\n",
       "      'og:description': 'Chiều 31/10, tại Trụ sở Chính phủ, Phó Thủ tướng Trần Hồng Hà đã tiếp Đại sứ Hoa Kỳ tại Việt Nam Marc Knapper.',\n",
       "      'referrer': 'no-referrer-when-downgrade',\n",
       "      'fb:app_id': '472720487757187',\n",
       "      'apple-mobile-web-app-status-bar-style': 'black',\n",
       "      'viewport': 'width=device-width, initial-scale=1.0',\n",
       "      'apple-mobile-web-app-capable': 'yes',\n",
       "      'og:rich_attachment': 'true',\n",
       "      'og:url': 'https://baochinhphu.vn/thuc-day-hop-tac-viet-nam-va-hoa-ky-trong-cac-linh-vuc-moi-noi-102241031171910482.htm',\n",
       "      'format-detection': 'telephone=no'}],\n",
       "    'cse_image': [{'src': 'https://bcp.cdnchinhphu.vn/zoom/600_315/334894974524682240/2024/10/31/hk1-17303696024141843767714.jpg'}]}},\n",
       "  {'kind': 'customsearch#result',\n",
       "   'title': 'Lễ công bố quyết định của Thủ tướng Chính phủ chuyển Trường ...',\n",
       "   'htmlTitle': 'Lễ công bố quyết định của <b>Thủ tướng Chính phủ</b> chuyển Trường ...',\n",
       "   'link': 'https://ueh.edu.vn/cuoc-song-ueh/tin-tuc/le-cong-bo-quyet-dinh-cua-thu-tuong-chinh-phu-chuyen-truong-dai-hoc-kinh-te-thanh-pho-ho-chi-minh-thanh-dai-hoc-kinh-te-thanh-pho-ho-chi-minh-71085',\n",
       "   'displayLink': 'ueh.edu.vn',\n",
       "   'snippet': 'Nov 18, 2023 ... Đây chính là cột mốc chuyển mình đầy vinh dự và tự hào trên hành trình phát triển hơn 48 năm qua của UEH. Để ghi nhận sự kiện quan trọng này,\\xa0...',\n",
       "   'htmlSnippet': 'Nov 18, 2023 <b>...</b> Đây <b>chính</b> là cột mốc chuyển mình đầy vinh dự và tự hào <b>trên</b> hành trình phát triển hơn 48 <b>năm</b> qua của UEH. Để ghi nhận sự kiện quan trọng này,&nbsp;...',\n",
       "   'formattedUrl': 'https://ueh.edu.vn/.../le-cong-bo-quyet-dinh-cua-thu-tuong-chinh-phu-chu...',\n",
       "   'htmlFormattedUrl': 'https://ueh.edu.vn/.../le-cong-bo-quyet-dinh-cua-thu-tuong-chinh-phu-chu...',\n",
       "   'pagemap': {'cse_thumbnail': [{'src': 'https://encrypted-tbn0.gstatic.com/images?q=tbn:ANd9GcRWCw7rGvI6_OOSeQ3rasuFe57s2NO7rxC8G2_7ullzf7q1Kv68aBTQkr4&s',\n",
       "      'width': '275',\n",
       "      'height': '183'}],\n",
       "    'metatags': [{'og:image': 'https://ueh.edu.vn/images/upload/thumbnail/ueh-thumbnail-013806-111823.jpg',\n",
       "      'og:type': 'website',\n",
       "      'twitter:card': 'summary_large_image',\n",
       "      'twitter:title': 'Lễ công bố quyết định của Thủ tướng Chính phủ chuyển Trường Đại học Kinh tế \\r\\nThành phố Hồ Chí Minh thành Đại học Kinh tế Thành phố Hồ Chí Minh',\n",
       "      'og:site_name': 'Đại học Kinh tế TP. Hồ Chí Minh',\n",
       "      'og:title': 'Lễ công bố quyết định của Thủ tướng Chính phủ chuyển Trường Đại học Kinh tế \\r\\nThành phố Hồ Chí Minh thành Đại học Kinh tế Thành phố Hồ Chí Minh',\n",
       "      'og:description': 'Ngày 18 tháng 11 năm 2023, “Lễ Công bố Quyết định của Thủ tướng Chính phủ chuyển Trường Đại học Kinh tế Thành phố Hồ Chí Minh thành Đại học Kinh tế Thành phố Hồ Chí Minh” đã chính thức diễn ra, đánh dấu một cột mốc mới đối với lịch sử Đại học Kinh tế TP. Hồ Chí Minh (UEH) và ngành giáo dục Việt Nam. Từ đây, UEH sẵn sàng cho một hành trình mới -  tiên phong trong giáo dục và nghiên cứu tất cả các lĩnh vực, đóng góp cho sự phát triển bền vững của xã hội và đất nước.',\n",
       "      'twitter:creator': 'http://cntt.ueh.edu.vn',\n",
       "      'twitter:image': 'https://ueh.edu.vn/images/upload/thumbnail/ueh-thumbnail-013806-111823.jpg',\n",
       "      'article:publisher': 'https://ueh.edu.vn',\n",
       "      'article:tag': 'Bài viết',\n",
       "      'twitter:site': 'Đại học Kinh tế TP. Hồ Chí Minh',\n",
       "      'viewport': 'width=device-width, initial-scale=1, shrink-to-fit=no',\n",
       "      'twitter:description': 'Ngày 18 tháng 11 năm 2023, “Lễ Công bố Quyết định của Thủ tướng Chính phủ chuyển Trường Đại học Kinh tế Thành phố Hồ Chí Minh thành Đại học Kinh tế Thành phố Hồ Chí Minh” đã chính thức diễn ra, đánh dấu một cột mốc mới đối với lịch sử Đại học Kinh tế TP. Hồ Chí Minh (UEH) và ngành giáo dục Việt Nam. Từ đây, UEH sẵn sàng cho một hành trình mới -  tiên phong trong giáo dục và nghiên cứu tất cả các lĩnh vực, đóng góp cho sự phát triển bền vững của xã hội và đất nước.',\n",
       "      'og:locale': 'en_US',\n",
       "      'og:url': '/cuoc-song-ueh/tin-tuc/le-cong-bo-quyet-dinh-cua-thu-tuong-chinh-phu-chuyen-truong-dai-hoc-kinh-te-thanh-pho-ho-chi-minh-thanh-dai-hoc-kinh-te-thanh-pho-ho-chi-minh-71085'}],\n",
       "    'cse_image': [{'src': 'https://ueh.edu.vn/images/upload/thumbnail/ueh-thumbnail-013806-111823.jpg'}]}}]}"
      ]
     },
     "execution_count": 6,
     "metadata": {},
     "output_type": "execute_result"
    }
   ],
   "source": [
    "results_json"
   ]
  },
  {
   "cell_type": "markdown",
   "id": "342e1145",
   "metadata": {},
   "source": [
    "## Processing function"
   ]
  },
  {
   "cell_type": "code",
   "execution_count": 7,
   "id": "7d5790fd",
   "metadata": {},
   "outputs": [],
   "source": [
    "from google_doc_retriever import process_search_results"
   ]
  },
  {
   "cell_type": "code",
   "execution_count": 8,
   "id": "bf4201fa",
   "metadata": {},
   "outputs": [],
   "source": [
    "all_results = []\n",
    "total_retrieved = 0"
   ]
  },
  {
   "cell_type": "code",
   "execution_count": 9,
   "id": "c3b12af5",
   "metadata": {},
   "outputs": [
    {
     "name": "stderr",
     "output_type": "stream",
     "text": [
      "2025-04-29 15:26:29,797 - INFO - Retrieved 10 results for page 1. (Estimated total: 414000)\n"
     ]
    }
   ],
   "source": [
    "processed = process_search_results(results_json)\n",
    "all_results.extend(processed)\n",
    "total_retrieved += len(processed)\n",
    "\n",
    "# Check if Google indicated there are more results\n",
    "# Useful if you want to stop fetching when Google runs out\n",
    "search_info = results_json.get('searchInformation', {})\n",
    "total_results_est = search_info.get('totalResults', '0')\n",
    "logging.info(\n",
    "    \"Retrieved %d results for page %d. (Estimated total: %s)\",\n",
    "    len(processed), 1, total_results_est\n",
    ")"
   ]
  },
  {
   "cell_type": "code",
   "execution_count": 10,
   "id": "be38abc9",
   "metadata": {},
   "outputs": [
    {
     "data": {
      "text/plain": [
       "[{'title': '5.932 tỷ đồng ủng hộ tại Chương trình phát động hỗ trợ xóa nhà tạm ...',\n",
       "  'link': 'http://mattran.org.vn/hoat-dong/5932-ty-dong-ung-ho-tai-chuong-trinh-phat-dong-ho-tro-xoa-nha-tam-nha-dot-nat-cho-ho-ngheo-ho-co-hoan-canh-kho-khan-tren-pham-vi-ca-nuoc-57312.html',\n",
       "  'snippet': 'Oct 5, 2024 ... ... Đài Tiếng nói Việt Nam và tiếp sóng trên các kênh, Đài truyền hình trong cả nước. Về việc thôi Ủy viên Ủy ban Trung ương Mặt trận Tổ quốc\\xa0...'},\n",
       " {'title': \"Tôn vinh Thầy thuốc Việt Nam và trao giải cuộc thi viết ''Sự hy sinh ...\",\n",
       "  'link': 'https://moh.gov.vn/hoat-dong-cua-lanh-dao-bo/-/asset_publisher/TW6LTp1ZtwaN/content/ton-vinh-thay-thuoc-viet-nam-va-trao-giai-cuoc-thi-viet-su-hy-sinh-tham-lang-lan-thu-vi?inheritRedirect=false',\n",
       "  'snippet': \"Feb 27, 2024 ... 20h ngày 26/2, tại Nhà hát Hồ Gươm, 40 Hàng Bài, Hà Nội diễn ra Chương trình Tôn vinh Thầy thuốc Việt Nam và trao giải cuộc thi viết 'Sự hy\\xa0...\"},\n",
       " {'title': 'Thủ tướng Chính phủ chỉ đạo chủ động phòng, chống rét đậm, rét ...',\n",
       "  'link': 'https://chinhsachcuocsong.vnanet.vn/thu-tuong-chinh-phu-chi-dao-chu-dong-phong-chong-ret-dam-ret-hai-keo-dai/55191.html',\n",
       "  'snippet': 'Jan 27, 2025 ... Nhiệt độ trên đỉnh Fansipan xuống âm 6 độ C. Ảnh: TTXVN phát. Thủ tướng Chính phủ Phạm Minh Chính đã ban hành Công điện về việc chủ động phòng,\\xa0...'},\n",
       " {'title': 'Lễ công bố thành lập thành phố Hoa Lư và công nhận thành phố ...',\n",
       "  'link': 'https://nbtv.vn/le-cong-bo-thanh-lap-thanh-pho-hoa-lu-va-cong-nhan-thanh-pho-dat-tieu-chi-do-thi-loai-i-85416.html',\n",
       "  'snippet': 'Jan 20, 2025 ... Tới dự có các đồng chí Ủy viên BCH Trung ương Đảng: Trần Hồng Hà, Phó Thủ tướng Chính phủ; Nguyễn Thị Thu Hà, Phó Chủ tịch - Tổng Thư ký Ủy\\xa0...'},\n",
       " {'title': 'Công bố quyết định bổ nhiệm 2 Phó Thủ tướng Trần Hồng Hà, Trần ...',\n",
       "  'link': 'https://hoabinhtv.vn/chinh-tri/cong-bo-quyet-dinh-bo-nhiem-2-pho-thu-tuong-tran-hong-ha-tran-luu-quang',\n",
       "  'snippet': 'Jan 10, 2025 ... Đồng thời, tiến hành bổ nhiệm chức danh Phó Thủ tướng đối với ông Trần Hồng Hà và Trần Lưu Quang. cong bo quyet dinh bo nhiem 2 pho thu tuong\\xa0...'},\n",
       " {'title': 'Khai mạc Liên hoan Phát thanh toàn quốc lần thứ XVI: Phát thanh ...',\n",
       "  'link': 'https://baothanhhoa.vn/khai-mac-lien-hoan-phat-thanh-toan-quoc-lan-thu-xvi-phat-thanh-viet-nam--da-dang-trong-chuyen-doi-so-219272.htm',\n",
       "  'snippet': 'Jul 11, 2024 ... ... trên cả nước cùng các đơn vị trực thuộc Đài Tiếng nói Việt Nam. ... Phó Thủ tướng Chính phủ Trần Hồng Hà tặng hoa cho các đồng chí trong\\xa0...'},\n",
       " {'title': 'Thủ tướng: Truyền hình phải phản ánh sinh động, có sức lan tỏa ...',\n",
       "  'link': 'https://baoangiang.com.vn/thu-tuong-truyen-hinh-phai-phan-anh-sinh-dong-co-suc-lan-toa-a417491.html',\n",
       "  'snippet': 'Mar 23, 2025 ... ... nước và con người Việt Nam anh hùng và bạn bè quốc tế yêu quý chúng ta. Thay mặt Lãnh đạo Đảng, Nhà nước, Thủ tướng nhiệt liệt chúc mừng các\\xa0...'},\n",
       " {'title': 'Phân công công tác Thủ tướng và 7 Phó Thủ tướng Chính phủ',\n",
       "  'link': 'https://laodong.vn/thoi-su/phan-cong-cong-tac-thu-tuong-va-7-pho-thu-tuong-chinh-phu-1468325.ldo',\n",
       "  'snippet': 'Feb 25, 2025 ... ... Việt Nam, Đài Truyền hình Việt Nam, Đài Tiếng nói Việt Nam. Trực tiếp chỉ đạo, điều hành các lĩnh vực công tác sau đây: Chiến lược, kế hoạch\\xa0...'},\n",
       " {'title': 'Thúc đẩy hợp tác Việt Nam và Hoa Kỳ trong các lĩnh vực mới nổi',\n",
       "  'link': 'https://baochinhphu.vn/thuc-day-hop-tac-viet-nam-va-hoa-ky-trong-cac-linh-vuc-moi-noi-102241031171910482.htm',\n",
       "  'snippet': 'Oct 31, 2024 ... ... chính trị của nhau - Ảnh: VGP/Minh Khôi. Tại buổi tiếp, Phó Thủ tướng Trần Hồng Hà đánh giá cao những đóng góp của Đại sứ Marc Knapper trong\\xa0...'},\n",
       " {'title': 'Lễ công bố quyết định của Thủ tướng Chính phủ chuyển Trường ...',\n",
       "  'link': 'https://ueh.edu.vn/cuoc-song-ueh/tin-tuc/le-cong-bo-quyet-dinh-cua-thu-tuong-chinh-phu-chuyen-truong-dai-hoc-kinh-te-thanh-pho-ho-chi-minh-thanh-dai-hoc-kinh-te-thanh-pho-ho-chi-minh-71085',\n",
       "  'snippet': 'Nov 18, 2023 ... Đây chính là cột mốc chuyển mình đầy vinh dự và tự hào trên hành trình phát triển hơn 48 năm qua của UEH. Để ghi nhận sự kiện quan trọng này,\\xa0...'}]"
      ]
     },
     "execution_count": 10,
     "metadata": {},
     "output_type": "execute_result"
    }
   ],
   "source": [
    "all_results"
   ]
  },
  {
   "cell_type": "code",
   "execution_count": 21,
   "id": "9e6799d8",
   "metadata": {},
   "outputs": [],
   "source": [
    "with open('retrieval_results.jsonl', 'w', encoding='utf-8') as jsonl_file:\n",
    "    for result in all_results:\n",
    "        jsonl_file.write(json.dumps(result, ensure_ascii=False) + '\\n')"
   ]
  },
  {
   "cell_type": "code",
   "execution_count": null,
   "id": "2ce09a0a",
   "metadata": {},
   "outputs": [],
   "source": [
    "test_urls = []\n",
    "\n",
    "with open('retrieval_results.jsonl', 'r', encoding='utf-8') as jsonl_file:\n",
    "    for line in jsonl_file:\n",
    "        result = json.loads(line.strip())\n",
    "        if 'link' in result:\n",
    "            test_urls.append(result['link'])"
   ]
  },
  {
   "cell_type": "code",
   "execution_count": 14,
   "id": "2caa1d93",
   "metadata": {},
   "outputs": [
    {
     "data": {
      "text/plain": [
       "['http://mattran.org.vn/hoat-dong/5932-ty-dong-ung-ho-tai-chuong-trinh-phat-dong-ho-tro-xoa-nha-tam-nha-dot-nat-cho-ho-ngheo-ho-co-hoan-canh-kho-khan-tren-pham-vi-ca-nuoc-57312.html',\n",
       " 'https://moh.gov.vn/hoat-dong-cua-lanh-dao-bo/-/asset_publisher/TW6LTp1ZtwaN/content/ton-vinh-thay-thuoc-viet-nam-va-trao-giai-cuoc-thi-viet-su-hy-sinh-tham-lang-lan-thu-vi?inheritRedirect=false',\n",
       " 'https://chinhsachcuocsong.vnanet.vn/thu-tuong-chinh-phu-chi-dao-chu-dong-phong-chong-ret-dam-ret-hai-keo-dai/55191.html',\n",
       " 'https://nbtv.vn/le-cong-bo-thanh-lap-thanh-pho-hoa-lu-va-cong-nhan-thanh-pho-dat-tieu-chi-do-thi-loai-i-85416.html',\n",
       " 'https://hoabinhtv.vn/chinh-tri/cong-bo-quyet-dinh-bo-nhiem-2-pho-thu-tuong-tran-hong-ha-tran-luu-quang',\n",
       " 'https://baothanhhoa.vn/khai-mac-lien-hoan-phat-thanh-toan-quoc-lan-thu-xvi-phat-thanh-viet-nam--da-dang-trong-chuyen-doi-so-219272.htm',\n",
       " 'https://baoangiang.com.vn/thu-tuong-truyen-hinh-phai-phan-anh-sinh-dong-co-suc-lan-toa-a417491.html',\n",
       " 'https://laodong.vn/thoi-su/phan-cong-cong-tac-thu-tuong-va-7-pho-thu-tuong-chinh-phu-1468325.ldo',\n",
       " 'https://baochinhphu.vn/thuc-day-hop-tac-viet-nam-va-hoa-ky-trong-cac-linh-vuc-moi-noi-102241031171910482.htm',\n",
       " 'https://ueh.edu.vn/cuoc-song-ueh/tin-tuc/le-cong-bo-quyet-dinh-cua-thu-tuong-chinh-phu-chuyen-truong-dai-hoc-kinh-te-thanh-pho-ho-chi-minh-thanh-dai-hoc-kinh-te-thanh-pho-ho-chi-minh-71085']"
      ]
     },
     "execution_count": 14,
     "metadata": {},
     "output_type": "execute_result"
    }
   ],
   "source": [
    "test_urls"
   ]
  },
  {
   "cell_type": "code",
   "execution_count": 17,
   "id": "cd3ddb47",
   "metadata": {},
   "outputs": [],
   "source": [
    "import trafilatura\n",
    "\n",
    "# Configure basic logging for better traceability\n",
    "logging.basicConfig(level=logging.INFO, format='%(asctime)s - %(levelname)s - %(message)s')\n",
    "\n",
    "# Define a realistic User-Agent to mimic a browser\n",
    "# Some sites block default 'python-requests' user agent\n",
    "HEADERS = {\n",
    "    'User-Agent': 'Mozilla/5.0 (Windows NT 10.0; Win64; x64) AppleWebKit/537.36 (KHTML, like Gecko) Chrome/91.0.4472.124 Safari/537.36'\n",
    "}\n",
    "\n",
    "def extract_main_text_from_url(url: str, timeout: int = 15) -> Optional[str]:\n",
    "    \"\"\"\n",
    "    Fetches content from a given URL and extracts the main text content.\n",
    "\n",
    "    Uses 'requests' to fetch the HTML and 'trafilatura' to extract the\n",
    "    main article text, attempting to remove boilerplate (nav, ads, footer, etc.).\n",
    "\n",
    "    Args:\n",
    "        url: The URL of the web page to process.\n",
    "        timeout: The timeout in seconds for the HTTP request. Defaults to 15.\n",
    "\n",
    "    Returns:\n",
    "        The extracted main text content as a string, or None if an error\n",
    "        occurs during fetching or extraction, or if no main content is found.\n",
    "    \"\"\"\n",
    "    logging.info(f\"Attempting to fetch and extract main text from: {url}\")\n",
    "\n",
    "    try:\n",
    "        # 1. Fetch the HTML content\n",
    "        response = requests.get(url, headers=HEADERS, timeout=timeout, allow_redirects=True)\n",
    "        \n",
    "        # Raise an exception for bad status codes (4xx or 5xx)\n",
    "        response.raise_for_status()\n",
    "\n",
    "        # Check if the content type seems to be HTML\n",
    "        content_type = response.headers.get('content-type', '').lower()\n",
    "        if 'html' not in content_type:\n",
    "            logging.warning(f\"Content type '{content_type}' for URL {url} doesn't appear to be HTML. Skipping extraction.\")\n",
    "            return None\n",
    "\n",
    "        html_content = response.text\n",
    "\n",
    "    except requests.exceptions.Timeout:\n",
    "        logging.error(f\"Timeout occurred while fetching URL: {url}\")\n",
    "        return None\n",
    "    except requests.exceptions.RequestException as e:\n",
    "        logging.error(f\"Error fetching URL {url}: {e}\")\n",
    "        return None\n",
    "    except Exception as e:\n",
    "        logging.error(f\"An unexpected error occurred during fetch for {url}: {e}\")\n",
    "        return None\n",
    "\n",
    "    if not html_content:\n",
    "         logging.warning(f\"No HTML content retrieved from {url}\")\n",
    "         return None\n",
    "\n",
    "    try:\n",
    "        # 2. Extract the main text using trafilatura\n",
    "        # include_comments=False is often desirable\n",
    "        # target_language can help if you know the expected language\n",
    "        main_text = trafilatura.extract(\n",
    "            html_content,\n",
    "            include_comments=False,\n",
    "            include_tables=True, # Set to False if tables are usually boilerplate\n",
    "            output_format='txt', # Options: 'txt', 'xml', 'json'\n",
    "            include_images=False, # Optional: disable image download\n",
    "            include_formatting=False, # Optional: disable formatting\n",
    "        )\n",
    "\n",
    "        if main_text:\n",
    "            logging.info(f\"Successfully extracted main text from: {url}\")\n",
    "            return main_text.strip() # Remove leading/trailing whitespace\n",
    "        else:\n",
    "            logging.warning(f\"Trafilatura could not extract main text from: {url}. The page might lack a clear article structure or be JavaScript-heavy.\")\n",
    "            return None\n",
    "\n",
    "    except Exception as e:\n",
    "        # Catch potential errors during trafilatura processing\n",
    "        logging.error(f\"Error during main text extraction for {url}: {e}\")\n",
    "        return None"
   ]
  },
  {
   "cell_type": "code",
   "execution_count": 20,
   "id": "db327572",
   "metadata": {},
   "outputs": [
    {
     "name": "stderr",
     "output_type": "stream",
     "text": [
      "2025-04-29 16:14:42,991 - INFO - Attempting to fetch and extract main text from: http://mattran.org.vn/hoat-dong/5932-ty-dong-ung-ho-tai-chuong-trinh-phat-dong-ho-tro-xoa-nha-tam-nha-dot-nat-cho-ho-ngheo-ho-co-hoan-canh-kho-khan-tren-pham-vi-ca-nuoc-57312.html\n"
     ]
    },
    {
     "name": "stdout",
     "output_type": "stream",
     "text": [
      "--- Starting URL Processing ---\n",
      "\n",
      ">>> Processing URL: http://mattran.org.vn/hoat-dong/5932-ty-dong-ung-ho-tai-chuong-trinh-phat-dong-ho-tro-xoa-nha-tam-nha-dot-nat-cho-ho-ngheo-ho-co-hoan-canh-kho-khan-tren-pham-vi-ca-nuoc-57312.html\n"
     ]
    },
    {
     "name": "stderr",
     "output_type": "stream",
     "text": [
      "2025-04-29 16:14:43,293 - INFO - Successfully extracted main text from: http://mattran.org.vn/hoat-dong/5932-ty-dong-ung-ho-tai-chuong-trinh-phat-dong-ho-tro-xoa-nha-tam-nha-dot-nat-cho-ho-ngheo-ho-co-hoan-canh-kho-khan-tren-pham-vi-ca-nuoc-57312.html\n",
      "2025-04-29 16:14:43,293 - INFO - Attempting to fetch and extract main text from: https://moh.gov.vn/hoat-dong-cua-lanh-dao-bo/-/asset_publisher/TW6LTp1ZtwaN/content/ton-vinh-thay-thuoc-viet-nam-va-trao-giai-cuoc-thi-viet-su-hy-sinh-tham-lang-lan-thu-vi?inheritRedirect=false\n",
      "2025-04-29 16:14:43,393 - ERROR - Error fetching URL https://moh.gov.vn/hoat-dong-cua-lanh-dao-bo/-/asset_publisher/TW6LTp1ZtwaN/content/ton-vinh-thay-thuoc-viet-nam-va-trao-giai-cuoc-thi-viet-su-hy-sinh-tham-lang-lan-thu-vi?inheritRedirect=false: HTTPSConnectionPool(host='moh.gov.vn', port=443): Max retries exceeded with url: /hoat-dong-cua-lanh-dao-bo/-/asset_publisher/TW6LTp1ZtwaN/content/ton-vinh-thay-thuoc-viet-nam-va-trao-giai-cuoc-thi-viet-su-hy-sinh-tham-lang-lan-thu-vi?inheritRedirect=false (Caused by SSLError(SSLError(1, '[SSL: DH_KEY_TOO_SMALL] dh key too small (_ssl.c:1000)')))\n",
      "2025-04-29 16:14:43,393 - INFO - Attempting to fetch and extract main text from: https://chinhsachcuocsong.vnanet.vn/thu-tuong-chinh-phu-chi-dao-chu-dong-phong-chong-ret-dam-ret-hai-keo-dai/55191.html\n",
      "2025-04-29 16:14:43,490 - ERROR - Error fetching URL https://chinhsachcuocsong.vnanet.vn/thu-tuong-chinh-phu-chi-dao-chu-dong-phong-chong-ret-dam-ret-hai-keo-dai/55191.html: HTTPSConnectionPool(host='chinhsachcuocsong.vnanet.vn', port=443): Max retries exceeded with url: /thu-tuong-chinh-phu-chi-dao-chu-dong-phong-chong-ret-dam-ret-hai-keo-dai/55191.html (Caused by SSLError(SSLError(1, '[SSL: UNSAFE_LEGACY_RENEGOTIATION_DISABLED] unsafe legacy renegotiation disabled (_ssl.c:1000)')))\n"
     ]
    },
    {
     "name": "stdout",
     "output_type": "stream",
     "text": [
      "--------------------\n",
      "Extracted Content (First 500 chars):\n",
      "|\n",
      "| Thủ tướng Chính phủ Phạm Minh Chính cùng các đồng chí lãnh đạo Đảng, Nhà nước, MTTQ Việt Nam tham dự chương trình |\n",
      "Tham dự chương trình có Thủ tướng Chính phủ Phạm Minh Chính; ông Lương Cường, Ủy viên Bộ Chính trị, Thường trực Ban Bí thư; ông Đỗ Văn Chiến, Ủy viên Bộ Chính trị, Bí thư Trung ương Đảng, Chủ tịch Ủy ban Trung ương MTTQ Việt Nam; ông Nguyễn Trọng Nghĩa, Ủy viên Bộ Chính trị, Bí thư Trung ương Đảng, Trưởng Ban Tuyên giáo Trung ương; ông Nguyễn Hòa Bình, Ủy viên Bộ Chính trị, Phó...\n",
      "--------------------\n",
      "--------------------------------------------------\n",
      "\n",
      ">>> Processing URL: https://moh.gov.vn/hoat-dong-cua-lanh-dao-bo/-/asset_publisher/TW6LTp1ZtwaN/content/ton-vinh-thay-thuoc-viet-nam-va-trao-giai-cuoc-thi-viet-su-hy-sinh-tham-lang-lan-thu-vi?inheritRedirect=false\n",
      "Could not extract main content.\n",
      "--------------------------------------------------\n",
      "\n",
      ">>> Processing URL: https://chinhsachcuocsong.vnanet.vn/thu-tuong-chinh-phu-chi-dao-chu-dong-phong-chong-ret-dam-ret-hai-keo-dai/55191.html\n"
     ]
    },
    {
     "name": "stderr",
     "output_type": "stream",
     "text": [
      "2025-04-29 16:14:43,491 - INFO - Attempting to fetch and extract main text from: https://nbtv.vn/le-cong-bo-thanh-lap-thanh-pho-hoa-lu-va-cong-nhan-thanh-pho-dat-tieu-chi-do-thi-loai-i-85416.html\n"
     ]
    },
    {
     "name": "stdout",
     "output_type": "stream",
     "text": [
      "Could not extract main content.\n",
      "--------------------------------------------------\n",
      "\n",
      ">>> Processing URL: https://nbtv.vn/le-cong-bo-thanh-lap-thanh-pho-hoa-lu-va-cong-nhan-thanh-pho-dat-tieu-chi-do-thi-loai-i-85416.html\n"
     ]
    },
    {
     "name": "stderr",
     "output_type": "stream",
     "text": [
      "2025-04-29 16:14:43,993 - INFO - Successfully extracted main text from: https://nbtv.vn/le-cong-bo-thanh-lap-thanh-pho-hoa-lu-va-cong-nhan-thanh-pho-dat-tieu-chi-do-thi-loai-i-85416.html\n",
      "2025-04-29 16:14:43,995 - INFO - Attempting to fetch and extract main text from: https://hoabinhtv.vn/chinh-tri/cong-bo-quyet-dinh-bo-nhiem-2-pho-thu-tuong-tran-hong-ha-tran-luu-quang\n"
     ]
    },
    {
     "name": "stdout",
     "output_type": "stream",
     "text": [
      "--------------------\n",
      "Extracted Content (First 500 chars):\n",
      "Tới dự có các đồng chí Ủy viên BCH Trung ương Đảng: Trần Hồng Hà, Phó Thủ tướng Chính phủ; Nguyễn Thị Thu Hà, Phó Chủ tịch - Tổng Thư ký Ủy ban Trung ương MTTQ Việt Nam, nguyên Bí thư Tỉnh ủy; Vũ Hải Quân, Giám đốc Đại học Quốc gia Thành phố Hồ Chí Minh. Cùng dự có Đại sứ đặc mệnh toàn quyền Cộng hòa Hồi giáo Iran tại Việt Nam; Trưởng đại diện UNESCO tại Việt Nam; các đồng chí nguyên Ủy viên BCH Trung ương Đảng, lãnh đạo các Ban, Ủy ban, Bộ, ngành, đoàn thể Trung ương; lãnh đạo các tỉnh, thành p...\n",
      "--------------------\n",
      "--------------------------------------------------\n",
      "\n",
      ">>> Processing URL: https://hoabinhtv.vn/chinh-tri/cong-bo-quyet-dinh-bo-nhiem-2-pho-thu-tuong-tran-hong-ha-tran-luu-quang\n"
     ]
    },
    {
     "name": "stderr",
     "output_type": "stream",
     "text": [
      "2025-04-29 16:14:44,218 - INFO - Successfully extracted main text from: https://hoabinhtv.vn/chinh-tri/cong-bo-quyet-dinh-bo-nhiem-2-pho-thu-tuong-tran-hong-ha-tran-luu-quang\n",
      "2025-04-29 16:14:44,218 - INFO - Attempting to fetch and extract main text from: https://baothanhhoa.vn/khai-mac-lien-hoan-phat-thanh-toan-quoc-lan-thu-xvi-phat-thanh-viet-nam--da-dang-trong-chuyen-doi-so-219272.htm\n"
     ]
    },
    {
     "name": "stdout",
     "output_type": "stream",
     "text": [
      "--------------------\n",
      "Extracted Content (First 500 chars):\n",
      "Công bố quyết định bổ nhiệm 2 Phó Thủ tướng Trần Hồng Hà, Trần Lưu Quang\n",
      "Thủ Tướng Phạm Minh Chính gặp mặt tri ân 2 nguyên Phó Thủ tướng và chúc mừng 2 Phó Thủ tướng Chính phủ mới được bầu nhiệm kỳ 2021-2026.\n",
      "Chiều nay (9/1), Thủ Tướng Phạm Minh Chính gặp mặt tri ân 2 nguyên Phó Thủ tướng và chúc mừng 2 Phó Thủ tướng Chính phủ mới được bầu nhiệm kỳ 2021-2026. Cùng dự có Chủ tịch nước Nguyễn Xuân Phúc, các Phó Thủ tướng, các thành viên Chính phủ.\n",
      "Vừa qua BCH Trung ương Đảng, Quốc hội đã tiến hành...\n",
      "--------------------\n",
      "--------------------------------------------------\n",
      "\n",
      ">>> Processing URL: https://baothanhhoa.vn/khai-mac-lien-hoan-phat-thanh-toan-quoc-lan-thu-xvi-phat-thanh-viet-nam--da-dang-trong-chuyen-doi-so-219272.htm\n"
     ]
    },
    {
     "name": "stderr",
     "output_type": "stream",
     "text": [
      "2025-04-29 16:14:44,535 - INFO - Successfully extracted main text from: https://baothanhhoa.vn/khai-mac-lien-hoan-phat-thanh-toan-quoc-lan-thu-xvi-phat-thanh-viet-nam--da-dang-trong-chuyen-doi-so-219272.htm\n",
      "2025-04-29 16:14:44,536 - INFO - Attempting to fetch and extract main text from: https://baoangiang.com.vn/thu-tuong-truyen-hinh-phai-phan-anh-sinh-dong-co-suc-lan-toa-a417491.html\n"
     ]
    },
    {
     "name": "stdout",
     "output_type": "stream",
     "text": [
      "--------------------\n",
      "Extracted Content (First 500 chars):\n",
      "Khai mạc Liên hoan Phát thanh toàn quốc lần thứ XVI: Phát thanh Việt Nam – đa dạng trong chuyển đổi số\n",
      "Trải qua chặng đường 30 năm với 15 kỳ đã tổ chức, Liên hoan Phát thanh toàn quốc đánh dấu sự trưởng thành cả về lượng và chất, trở thành ngày hội của những người làm báo nói cả nước.\n",
      "Tiết mục văn nghệ tại Liên hoan.\n",
      "Tối 11/7, tại Nhà hát Lam Sơn (TP Thanh Hóa) đã diễn ra chương trình khai mạc Liên hoan Phát thanh toàn quốc lần thứ XVI, năm 2024.\n",
      "Các đại biểu tham dự khai mạc Liên hoan.\n",
      "Tham dự ...\n",
      "--------------------\n",
      "--------------------------------------------------\n",
      "\n",
      ">>> Processing URL: https://baoangiang.com.vn/thu-tuong-truyen-hinh-phai-phan-anh-sinh-dong-co-suc-lan-toa-a417491.html\n"
     ]
    },
    {
     "name": "stderr",
     "output_type": "stream",
     "text": [
      "2025-04-29 16:14:44,998 - INFO - Successfully extracted main text from: https://baoangiang.com.vn/thu-tuong-truyen-hinh-phai-phan-anh-sinh-dong-co-suc-lan-toa-a417491.html\n",
      "2025-04-29 16:14:44,998 - INFO - Attempting to fetch and extract main text from: https://laodong.vn/thoi-su/phan-cong-cong-tac-thu-tuong-va-7-pho-thu-tuong-chinh-phu-1468325.ldo\n",
      "2025-04-29 16:14:45,047 - WARNING - discarding data: None\n",
      "2025-04-29 16:14:45,049 - WARNING - Trafilatura could not extract main text from: https://laodong.vn/thoi-su/phan-cong-cong-tac-thu-tuong-va-7-pho-thu-tuong-chinh-phu-1468325.ldo. The page might lack a clear article structure or be JavaScript-heavy.\n",
      "2025-04-29 16:14:45,051 - INFO - Attempting to fetch and extract main text from: https://baochinhphu.vn/thuc-day-hop-tac-viet-nam-va-hoa-ky-trong-cac-linh-vuc-moi-noi-102241031171910482.htm\n"
     ]
    },
    {
     "name": "stdout",
     "output_type": "stream",
     "text": [
      "--------------------\n",
      "Extracted Content (First 500 chars):\n",
      "Thủ tướng Phạm Minh Chính phát biểu tại Lễ bế mạc Liên hoan Truyền hình toàn quốc lần thứ 42. (Ảnh: Dương Giang/TTXVN)\n",
      "Tối 22/3, Thủ tướng Chính phủ Phạm Minh Chính dự Lễ bế mạc và trao giải Liên hoan Truyền hình toàn quốc lần thứ 42 tại thành phố Quy Nhơn, tỉnh Bình Định.\n",
      "Phát biểu tại sự kiện, Thủ tướng Chính phủ mong muốn những người làm truyền hình tạo ra nhiều chương trình hấp dẫn, có chiều sâu, mang giá trị nhân văn, phản ánh sinh động hơi thở, nhịp đập của cuộc sống; có sức lan tỏa và tru...\n",
      "--------------------\n",
      "--------------------------------------------------\n",
      "\n",
      ">>> Processing URL: https://laodong.vn/thoi-su/phan-cong-cong-tac-thu-tuong-va-7-pho-thu-tuong-chinh-phu-1468325.ldo\n",
      "Could not extract main content.\n",
      "--------------------------------------------------\n",
      "\n",
      ">>> Processing URL: https://baochinhphu.vn/thuc-day-hop-tac-viet-nam-va-hoa-ky-trong-cac-linh-vuc-moi-noi-102241031171910482.htm\n"
     ]
    },
    {
     "name": "stderr",
     "output_type": "stream",
     "text": [
      "2025-04-29 16:14:45,298 - INFO - Successfully extracted main text from: https://baochinhphu.vn/thuc-day-hop-tac-viet-nam-va-hoa-ky-trong-cac-linh-vuc-moi-noi-102241031171910482.htm\n",
      "2025-04-29 16:14:45,298 - INFO - Attempting to fetch and extract main text from: https://ueh.edu.vn/cuoc-song-ueh/tin-tuc/le-cong-bo-quyet-dinh-cua-thu-tuong-chinh-phu-chuyen-truong-dai-hoc-kinh-te-thanh-pho-ho-chi-minh-thanh-dai-hoc-kinh-te-thanh-pho-ho-chi-minh-71085\n"
     ]
    },
    {
     "name": "stdout",
     "output_type": "stream",
     "text": [
      "--------------------\n",
      "Extracted Content (First 500 chars):\n",
      "Tải ứng dụng:\n",
      "BÁO ĐIỆN TỬ CHÍNH PHỦ\n",
      "Tại buổi tiếp, Phó Thủ tướng Trần Hồng Hà đánh giá cao những đóng góp của Đại sứ Marc Knapper trong việc thúc đẩy quan hệ hai nước, đặc biệt là những thành tựu mà hai nước đã đạt được sau một năm nâng cấp quan hệ lên Đối tác Chiến lược toàn diện.\n",
      "Phó Thủ tướng khẳng định, Việt Nam coi Hoa Kỳ là đối tác có tầm quan trọng chiến lược và mong muốn cùng Hoa Kỳ tiếp tục đưa khuôn khổ quan hệ mới đi vào chiều sâu, hiệu quả, thực chất trên cơ sở tôn trọng độc lập, chủ...\n",
      "--------------------\n",
      "--------------------------------------------------\n",
      "\n",
      ">>> Processing URL: https://ueh.edu.vn/cuoc-song-ueh/tin-tuc/le-cong-bo-quyet-dinh-cua-thu-tuong-chinh-phu-chuyen-truong-dai-hoc-kinh-te-thanh-pho-ho-chi-minh-thanh-dai-hoc-kinh-te-thanh-pho-ho-chi-minh-71085\n"
     ]
    },
    {
     "name": "stderr",
     "output_type": "stream",
     "text": [
      "2025-04-29 16:14:46,288 - INFO - Successfully extracted main text from: https://ueh.edu.vn/cuoc-song-ueh/tin-tuc/le-cong-bo-quyet-dinh-cua-thu-tuong-chinh-phu-chuyen-truong-dai-hoc-kinh-te-thanh-pho-ho-chi-minh-thanh-dai-hoc-kinh-te-thanh-pho-ho-chi-minh-71085\n"
     ]
    },
    {
     "name": "stdout",
     "output_type": "stream",
     "text": [
      "--------------------\n",
      "Extracted Content (First 500 chars):\n",
      "Lễ công bố quyết định của Thủ tướng Chính phủ chuyển Trường Đại học Kinh tế Thành phố Hồ Chí Minh thành Đại học Kinh tế Thành phố Hồ Chí Minh\n",
      "18 tháng 11 năm 2023\n",
      "Ngày 18 tháng 11 năm 2023, “Lễ Công bố Quyết định của Thủ tướng Chính phủ chuyển Trường Đại học Kinh tế Thành phố Hồ Chí Minh thành Đại học Kinh tế Thành phố Hồ Chí Minh” đã chính thức diễn ra, đánh dấu một cột mốc mới đối với lịch sử Đại học Kinh tế TP. Hồ Chí Minh (UEH) và ngành giáo dục Việt Nam. Từ đây, UEH sẵn sàng cho một hành tr...\n",
      "--------------------\n",
      "--------------------------------------------------\n",
      "\n",
      "--- URL Processing Finished ---\n"
     ]
    }
   ],
   "source": [
    "print(\"--- Starting URL Processing ---\")\n",
    "for target_url in test_urls:\n",
    "    print(f\"\\n>>> Processing URL: {target_url}\")\n",
    "    extracted_content = extract_main_text_from_url(target_url)\n",
    "\n",
    "    if extracted_content:\n",
    "        print(\"-\" * 20)\n",
    "        print(f\"Extracted Content (First 500 chars):\\n{extracted_content[:500]}...\")\n",
    "        print(\"-\" * 20)\n",
    "    else:\n",
    "        print(\"Could not extract main content.\")\n",
    "    print(\"-\" * 50)\n",
    "\n",
    "print(\"\\n--- URL Processing Finished ---\")"
   ]
  },
  {
   "cell_type": "code",
   "execution_count": 22,
   "id": "4563e15f",
   "metadata": {},
   "outputs": [
    {
     "name": "stderr",
     "output_type": "stream",
     "text": [
      "2025-04-29 16:17:42,768 - INFO - Attempting to fetch and extract main text from: http://mattran.org.vn/hoat-dong/5932-ty-dong-ung-ho-tai-chuong-trinh-phat-dong-ho-tro-xoa-nha-tam-nha-dot-nat-cho-ho-ngheo-ho-co-hoan-canh-kho-khan-tren-pham-vi-ca-nuoc-57312.html\n"
     ]
    },
    {
     "name": "stdout",
     "output_type": "stream",
     "text": [
      "--- Starting URL Processing ---\n",
      "Results will be appended to: extracted_content.jsonl\n",
      "\n",
      ">>> Processing URL: http://mattran.org.vn/hoat-dong/5932-ty-dong-ung-ho-tai-chuong-trinh-phat-dong-ho-tro-xoa-nha-tam-nha-dot-nat-cho-ho-ngheo-ho-co-hoan-canh-kho-khan-tren-pham-vi-ca-nuoc-57312.html\n"
     ]
    },
    {
     "name": "stderr",
     "output_type": "stream",
     "text": [
      "2025-04-29 16:17:43,124 - INFO - Successfully extracted main text from: http://mattran.org.vn/hoat-dong/5932-ty-dong-ung-ho-tai-chuong-trinh-phat-dong-ho-tro-xoa-nha-tam-nha-dot-nat-cho-ho-ngheo-ho-co-hoan-canh-kho-khan-tren-pham-vi-ca-nuoc-57312.html\n",
      "2025-04-29 16:17:43,127 - INFO - Attempting to fetch and extract main text from: https://moh.gov.vn/hoat-dong-cua-lanh-dao-bo/-/asset_publisher/TW6LTp1ZtwaN/content/ton-vinh-thay-thuoc-viet-nam-va-trao-giai-cuoc-thi-viet-su-hy-sinh-tham-lang-lan-thu-vi?inheritRedirect=false\n",
      "2025-04-29 16:17:43,252 - ERROR - Error fetching URL https://moh.gov.vn/hoat-dong-cua-lanh-dao-bo/-/asset_publisher/TW6LTp1ZtwaN/content/ton-vinh-thay-thuoc-viet-nam-va-trao-giai-cuoc-thi-viet-su-hy-sinh-tham-lang-lan-thu-vi?inheritRedirect=false: HTTPSConnectionPool(host='moh.gov.vn', port=443): Max retries exceeded with url: /hoat-dong-cua-lanh-dao-bo/-/asset_publisher/TW6LTp1ZtwaN/content/ton-vinh-thay-thuoc-viet-nam-va-trao-giai-cuoc-thi-viet-su-hy-sinh-tham-lang-lan-thu-vi?inheritRedirect=false (Caused by SSLError(SSLError(1, '[SSL: DH_KEY_TOO_SMALL] dh key too small (_ssl.c:1000)')))\n",
      "2025-04-29 16:17:43,252 - INFO - Attempting to fetch and extract main text from: https://chinhsachcuocsong.vnanet.vn/thu-tuong-chinh-phu-chi-dao-chu-dong-phong-chong-ret-dam-ret-hai-keo-dai/55191.html\n",
      "2025-04-29 16:17:43,307 - ERROR - Error fetching URL https://chinhsachcuocsong.vnanet.vn/thu-tuong-chinh-phu-chi-dao-chu-dong-phong-chong-ret-dam-ret-hai-keo-dai/55191.html: HTTPSConnectionPool(host='chinhsachcuocsong.vnanet.vn', port=443): Max retries exceeded with url: /thu-tuong-chinh-phu-chi-dao-chu-dong-phong-chong-ret-dam-ret-hai-keo-dai/55191.html (Caused by SSLError(SSLError(1, '[SSL: UNSAFE_LEGACY_RENEGOTIATION_DISABLED] unsafe legacy renegotiation disabled (_ssl.c:1000)')))\n"
     ]
    },
    {
     "name": "stdout",
     "output_type": "stream",
     "text": [
      "Successfully extracted and saved data for http://mattran.org.vn/hoat-dong/5932-ty-dong-ung-ho-tai-chuong-trinh-phat-dong-ho-tro-xoa-nha-tam-nha-dot-nat-cho-ho-ngheo-ho-co-hoan-canh-kho-khan-tren-pham-vi-ca-nuoc-57312.html\n",
      "--------------------------------------------------\n",
      "\n",
      ">>> Processing URL: https://moh.gov.vn/hoat-dong-cua-lanh-dao-bo/-/asset_publisher/TW6LTp1ZtwaN/content/ton-vinh-thay-thuoc-viet-nam-va-trao-giai-cuoc-thi-viet-su-hy-sinh-tham-lang-lan-thu-vi?inheritRedirect=false\n",
      "Failed to extract text for https://moh.gov.vn/hoat-dong-cua-lanh-dao-bo/-/asset_publisher/TW6LTp1ZtwaN/content/ton-vinh-thay-thuoc-viet-nam-va-trao-giai-cuoc-thi-viet-su-hy-sinh-tham-lang-lan-thu-vi?inheritRedirect=false, saved record with null text.\n",
      "--------------------------------------------------\n",
      "\n",
      ">>> Processing URL: https://chinhsachcuocsong.vnanet.vn/thu-tuong-chinh-phu-chi-dao-chu-dong-phong-chong-ret-dam-ret-hai-keo-dai/55191.html\n"
     ]
    },
    {
     "name": "stderr",
     "output_type": "stream",
     "text": [
      "2025-04-29 16:17:43,307 - INFO - Attempting to fetch and extract main text from: https://nbtv.vn/le-cong-bo-thanh-lap-thanh-pho-hoa-lu-va-cong-nhan-thanh-pho-dat-tieu-chi-do-thi-loai-i-85416.html\n"
     ]
    },
    {
     "name": "stdout",
     "output_type": "stream",
     "text": [
      "Failed to extract text for https://chinhsachcuocsong.vnanet.vn/thu-tuong-chinh-phu-chi-dao-chu-dong-phong-chong-ret-dam-ret-hai-keo-dai/55191.html, saved record with null text.\n",
      "--------------------------------------------------\n",
      "\n",
      ">>> Processing URL: https://nbtv.vn/le-cong-bo-thanh-lap-thanh-pho-hoa-lu-va-cong-nhan-thanh-pho-dat-tieu-chi-do-thi-loai-i-85416.html\n"
     ]
    },
    {
     "name": "stderr",
     "output_type": "stream",
     "text": [
      "2025-04-29 16:17:43,667 - INFO - Successfully extracted main text from: https://nbtv.vn/le-cong-bo-thanh-lap-thanh-pho-hoa-lu-va-cong-nhan-thanh-pho-dat-tieu-chi-do-thi-loai-i-85416.html\n",
      "2025-04-29 16:17:43,667 - INFO - Attempting to fetch and extract main text from: https://hoabinhtv.vn/chinh-tri/cong-bo-quyet-dinh-bo-nhiem-2-pho-thu-tuong-tran-hong-ha-tran-luu-quang\n"
     ]
    },
    {
     "name": "stdout",
     "output_type": "stream",
     "text": [
      "Successfully extracted and saved data for https://nbtv.vn/le-cong-bo-thanh-lap-thanh-pho-hoa-lu-va-cong-nhan-thanh-pho-dat-tieu-chi-do-thi-loai-i-85416.html\n",
      "--------------------------------------------------\n",
      "\n",
      ">>> Processing URL: https://hoabinhtv.vn/chinh-tri/cong-bo-quyet-dinh-bo-nhiem-2-pho-thu-tuong-tran-hong-ha-tran-luu-quang\n"
     ]
    },
    {
     "name": "stderr",
     "output_type": "stream",
     "text": [
      "2025-04-29 16:17:43,967 - INFO - Successfully extracted main text from: https://hoabinhtv.vn/chinh-tri/cong-bo-quyet-dinh-bo-nhiem-2-pho-thu-tuong-tran-hong-ha-tran-luu-quang\n",
      "2025-04-29 16:17:43,974 - INFO - Attempting to fetch and extract main text from: https://baothanhhoa.vn/khai-mac-lien-hoan-phat-thanh-toan-quoc-lan-thu-xvi-phat-thanh-viet-nam--da-dang-trong-chuyen-doi-so-219272.htm\n"
     ]
    },
    {
     "name": "stdout",
     "output_type": "stream",
     "text": [
      "Successfully extracted and saved data for https://hoabinhtv.vn/chinh-tri/cong-bo-quyet-dinh-bo-nhiem-2-pho-thu-tuong-tran-hong-ha-tran-luu-quang\n",
      "--------------------------------------------------\n",
      "\n",
      ">>> Processing URL: https://baothanhhoa.vn/khai-mac-lien-hoan-phat-thanh-toan-quoc-lan-thu-xvi-phat-thanh-viet-nam--da-dang-trong-chuyen-doi-so-219272.htm\n"
     ]
    },
    {
     "name": "stderr",
     "output_type": "stream",
     "text": [
      "2025-04-29 16:17:44,346 - INFO - Successfully extracted main text from: https://baothanhhoa.vn/khai-mac-lien-hoan-phat-thanh-toan-quoc-lan-thu-xvi-phat-thanh-viet-nam--da-dang-trong-chuyen-doi-so-219272.htm\n",
      "2025-04-29 16:17:44,347 - INFO - Attempting to fetch and extract main text from: https://baoangiang.com.vn/thu-tuong-truyen-hinh-phai-phan-anh-sinh-dong-co-suc-lan-toa-a417491.html\n"
     ]
    },
    {
     "name": "stdout",
     "output_type": "stream",
     "text": [
      "Successfully extracted and saved data for https://baothanhhoa.vn/khai-mac-lien-hoan-phat-thanh-toan-quoc-lan-thu-xvi-phat-thanh-viet-nam--da-dang-trong-chuyen-doi-so-219272.htm\n",
      "--------------------------------------------------\n",
      "\n",
      ">>> Processing URL: https://baoangiang.com.vn/thu-tuong-truyen-hinh-phai-phan-anh-sinh-dong-co-suc-lan-toa-a417491.html\n"
     ]
    },
    {
     "name": "stderr",
     "output_type": "stream",
     "text": [
      "2025-04-29 16:17:44,777 - INFO - Successfully extracted main text from: https://baoangiang.com.vn/thu-tuong-truyen-hinh-phai-phan-anh-sinh-dong-co-suc-lan-toa-a417491.html\n",
      "2025-04-29 16:17:44,777 - INFO - Attempting to fetch and extract main text from: https://laodong.vn/thoi-su/phan-cong-cong-tac-thu-tuong-va-7-pho-thu-tuong-chinh-phu-1468325.ldo\n",
      "2025-04-29 16:17:44,830 - WARNING - discarding data: None\n",
      "2025-04-29 16:17:44,831 - WARNING - Trafilatura could not extract main text from: https://laodong.vn/thoi-su/phan-cong-cong-tac-thu-tuong-va-7-pho-thu-tuong-chinh-phu-1468325.ldo. The page might lack a clear article structure or be JavaScript-heavy.\n",
      "2025-04-29 16:17:44,832 - INFO - Attempting to fetch and extract main text from: https://baochinhphu.vn/thuc-day-hop-tac-viet-nam-va-hoa-ky-trong-cac-linh-vuc-moi-noi-102241031171910482.htm\n"
     ]
    },
    {
     "name": "stdout",
     "output_type": "stream",
     "text": [
      "Successfully extracted and saved data for https://baoangiang.com.vn/thu-tuong-truyen-hinh-phai-phan-anh-sinh-dong-co-suc-lan-toa-a417491.html\n",
      "--------------------------------------------------\n",
      "\n",
      ">>> Processing URL: https://laodong.vn/thoi-su/phan-cong-cong-tac-thu-tuong-va-7-pho-thu-tuong-chinh-phu-1468325.ldo\n",
      "Failed to extract text for https://laodong.vn/thoi-su/phan-cong-cong-tac-thu-tuong-va-7-pho-thu-tuong-chinh-phu-1468325.ldo, saved record with null text.\n",
      "--------------------------------------------------\n",
      "\n",
      ">>> Processing URL: https://baochinhphu.vn/thuc-day-hop-tac-viet-nam-va-hoa-ky-trong-cac-linh-vuc-moi-noi-102241031171910482.htm\n"
     ]
    },
    {
     "name": "stderr",
     "output_type": "stream",
     "text": [
      "2025-04-29 16:17:45,130 - INFO - Successfully extracted main text from: https://baochinhphu.vn/thuc-day-hop-tac-viet-nam-va-hoa-ky-trong-cac-linh-vuc-moi-noi-102241031171910482.htm\n",
      "2025-04-29 16:17:45,130 - INFO - Attempting to fetch and extract main text from: https://ueh.edu.vn/cuoc-song-ueh/tin-tuc/le-cong-bo-quyet-dinh-cua-thu-tuong-chinh-phu-chuyen-truong-dai-hoc-kinh-te-thanh-pho-ho-chi-minh-thanh-dai-hoc-kinh-te-thanh-pho-ho-chi-minh-71085\n"
     ]
    },
    {
     "name": "stdout",
     "output_type": "stream",
     "text": [
      "Successfully extracted and saved data for https://baochinhphu.vn/thuc-day-hop-tac-viet-nam-va-hoa-ky-trong-cac-linh-vuc-moi-noi-102241031171910482.htm\n",
      "--------------------------------------------------\n",
      "\n",
      ">>> Processing URL: https://ueh.edu.vn/cuoc-song-ueh/tin-tuc/le-cong-bo-quyet-dinh-cua-thu-tuong-chinh-phu-chuyen-truong-dai-hoc-kinh-te-thanh-pho-ho-chi-minh-thanh-dai-hoc-kinh-te-thanh-pho-ho-chi-minh-71085\n"
     ]
    },
    {
     "name": "stderr",
     "output_type": "stream",
     "text": [
      "2025-04-29 16:17:46,147 - INFO - Successfully extracted main text from: https://ueh.edu.vn/cuoc-song-ueh/tin-tuc/le-cong-bo-quyet-dinh-cua-thu-tuong-chinh-phu-chuyen-truong-dai-hoc-kinh-te-thanh-pho-ho-chi-minh-thanh-dai-hoc-kinh-te-thanh-pho-ho-chi-minh-71085\n"
     ]
    },
    {
     "name": "stdout",
     "output_type": "stream",
     "text": [
      "Successfully extracted and saved data for https://ueh.edu.vn/cuoc-song-ueh/tin-tuc/le-cong-bo-quyet-dinh-cua-thu-tuong-chinh-phu-chuyen-truong-dai-hoc-kinh-te-thanh-pho-ho-chi-minh-thanh-dai-hoc-kinh-te-thanh-pho-ho-chi-minh-71085\n",
      "--------------------------------------------------\n",
      "\n",
      "--- URL Processing Finished ---\n"
     ]
    }
   ],
   "source": [
    "# Define the output JSONL file name\n",
    "output_filename = \"extracted_content.jsonl\"\n",
    "\n",
    "print(f\"--- Starting URL Processing ---\")\n",
    "print(f\"Results will be appended to: {output_filename}\")\n",
    "\n",
    "# Open the file in append mode ('a') with UTF-8 encoding\n",
    "# Use 'w' if you want to overwrite the file on each run\n",
    "try:\n",
    "    with open(output_filename, 'a', encoding='utf-8') as outfile:\n",
    "        for target_url in test_urls:\n",
    "            print(f\"\\n>>> Processing URL: {target_url}\")\n",
    "            extracted_content = extract_main_text_from_url(target_url)\n",
    "\n",
    "            # Prepare the data record for JSON output\n",
    "            # The value for 'text' will be the extracted string or None\n",
    "            data_record = {\n",
    "                \"url\": target_url,\n",
    "                \"text\": extracted_content\n",
    "            }\n",
    "\n",
    "            # Convert the dictionary to a JSON string\n",
    "            # ensure_ascii=False preserves non-ASCII characters correctly\n",
    "            json_line = json.dumps(data_record, ensure_ascii=False)\n",
    "\n",
    "            # Write the JSON string as a line in the output file\n",
    "            outfile.write(json_line + '\\n')\n",
    "\n",
    "            if extracted_content:\n",
    "                print(f\"Successfully extracted and saved data for {target_url}\")\n",
    "            else:\n",
    "                print(f\"Failed to extract text for {target_url}, saved record with null text.\")\n",
    "            print(\"-\" * 50)\n",
    "\n",
    "except IOError as e:\n",
    "    print(f\"\\nError: Could not write to file {output_filename}. Reason: {e}\")\n",
    "except Exception as e:\n",
    "    print(f\"\\nAn unexpected error occurred during file writing: {e}\")\n",
    "\n",
    "\n",
    "print(f\"\\n--- URL Processing Finished ---\")"
   ]
  },
  {
   "cell_type": "code",
   "execution_count": null,
   "id": "2a61811f",
   "metadata": {},
   "outputs": [],
   "source": []
  }
 ],
 "metadata": {
  "kernelspec": {
   "display_name": ".venv",
   "language": "python",
   "name": "python3"
  },
  "language_info": {
   "codemirror_mode": {
    "name": "ipython",
    "version": 3
   },
   "file_extension": ".py",
   "mimetype": "text/x-python",
   "name": "python",
   "nbconvert_exporter": "python",
   "pygments_lexer": "ipython3",
   "version": "3.12.6"
  }
 },
 "nbformat": 4,
 "nbformat_minor": 5
}
