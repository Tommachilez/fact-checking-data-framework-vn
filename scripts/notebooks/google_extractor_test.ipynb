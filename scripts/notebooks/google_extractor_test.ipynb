{
 "cells": [
  {
   "cell_type": "code",
   "execution_count": 1,
   "id": "11d5e006",
   "metadata": {},
   "outputs": [],
   "source": [
    "import os\n",
    "import sys\n",
    "import logging\n",
    "import requests\n",
    "from dotenv import load_dotenv\n",
    "load_dotenv()\n",
    "\n",
    "# Get the absolute path to the directory containing the other file\n",
    "other_dir = os.path.abspath('../google_extractor')\n",
    "\n",
    "# Add the directory to sys.path if it's not already there\n",
    "if other_dir not in sys.path:\n",
    "    sys.path.append(other_dir)"
   ]
  },
  {
   "cell_type": "markdown",
   "id": "fe39cca5",
   "metadata": {},
   "source": [
    "# Core functions test"
   ]
  },
  {
   "cell_type": "code",
   "execution_count": 2,
   "id": "09b3529d",
   "metadata": {},
   "outputs": [],
   "source": [
    "import config"
   ]
  },
  {
   "cell_type": "markdown",
   "id": "e2bf3e95",
   "metadata": {},
   "source": [
    "## data_handler.py"
   ]
  },
  {
   "cell_type": "code",
   "execution_count": 3,
   "id": "6084f2d9",
   "metadata": {},
   "outputs": [
    {
     "name": "stderr",
     "output_type": "stream",
     "text": [
      "d:\\Projects\\end2end-information-retrieval-fact-checking-framework-for-vietnamese\\.venv\\Lib\\site-packages\\tqdm\\auto.py:21: TqdmWarning: IProgress not found. Please update jupyter and ipywidgets. See https://ipywidgets.readthedocs.io/en/stable/user_install.html\n",
      "  from .autonotebook import tqdm as notebook_tqdm\n"
     ]
    }
   ],
   "source": [
    "from data_handler import read_queries_from_vifactcheck, save_jsonl_record"
   ]
  },
  {
   "cell_type": "code",
   "execution_count": 4,
   "id": "7bebe31a",
   "metadata": {},
   "outputs": [
    {
     "data": {
      "text/plain": [
       "['Thay mặt Chính phủ, Thủ tướng Chính phủ, Phó Thủ tướng Trần Hồng Hà chúc mừng Đài Truyền hình Việt Nam, Đài truyền hình các tỉnh, thành phố trên cả nước, các đơn vị sản xuất truyền hình và TP. Hải Phòng đã tổ chức rất thành công sự kiện quan trọng này sau 2 năm gián đoạn do đại dịch COVID-19.',\n",
       " 'Tô Văn Hải đã có hành vi cho phép người khác đổ, thải chất thải rắn thông thường ra môi trường Giáo). Sau đó, Hải tiến hành chôn, lấp tổng khối lượng 642.070 kg chất thải mà không được cơ quan nhà nước có thẩm quyền cho phép.',\n",
       " 'SAWACO thông báo tạm ngưng cung cấp nước để thực hiện công tác nêu trên. Thời gian thực hiện dự kiến từ 22 giờ ngày 25-3 (thứ bảy) đến 4 giờ ngày 26-3 (chủ nhật).',\n",
       " 'Là chương trình lớn nhất của CLB trong năm nên mọi thứ được chuẩn bị rất kỹ lưỡng, chỉn chu và cũng không ít lần gặp thử thách NABC mùa 4 gây quỹ không đủ khi chỉ còn cách ngày diễn ra sự kiện là 10 ngày.',\n",
       " 'Bé được tham gia kiểm tra trình độ đầu vào, tư vấn xếp lớp rất nhanh chóng và nhiệt tình ILA tiếp nhận và hỗ trợ học sinh miễn phí',\n",
       " 'Để cảm ơn, câu nói đơn giản nhất là \"thank you\" khi ai đó dành cho ta một lời khen, mở cửa cho mình, hay giúp mình một việc gì đó.',\n",
       " 'Siddharth đã sớm bẻ break để dẫn trước tới 4-2. Nhưng Hoàng Nam đã chơi tự tin để làm điều tương tự và quân bình tỉ số 4-4.',\n",
       " 'Chủ tịch VFF Trần Quốc Tuấn chức mừng HLV Philippe Troussier',\n",
       " 'Không gian \"Văn hóa ẩm thực\": Giới thiệu những món ăn đặc trưng của các miền, các món ăn ngon của các nước bạn',\n",
       " 'Không chỉ là trò chơi và các hoạt động vui chơi, những hoạt động \"Học thông qua chơi\" (HTQC) là sự lĩnh hội một cách tiếp cận mới về việc học của học sinh bộ tài liệu gồm 2 quyển: Giáo viên có thể tải miễn phí bộ tài liệu về Học thông qua Chơi VVOB Bộ GD-ĐT thẩm định và thông qua bộ tài liệu này vào năm 2021']"
      ]
     },
     "execution_count": 4,
     "metadata": {},
     "output_type": "execute_result"
    }
   ],
   "source": [
    "read_queries_from_vifactcheck(column_name=\"Evidence\")[:10]"
   ]
  },
  {
   "cell_type": "markdown",
   "id": "9cf24f70",
   "metadata": {},
   "source": [
    "## text_extractor.py"
   ]
  },
  {
   "cell_type": "code",
   "execution_count": 5,
   "id": "822bd069",
   "metadata": {},
   "outputs": [],
   "source": [
    "from text_extractor import (\n",
    "    extract_main_text_requests,\n",
    "    extract_main_text_playwright,\n",
    "    PLAYWRIGHT_AVAILABLE # Check if playwright is installed\n",
    ")"
   ]
  },
  {
   "cell_type": "code",
   "execution_count": 6,
   "id": "0cd0638f",
   "metadata": {},
   "outputs": [
    {
     "data": {
      "text/plain": [
       "'(Baothanhhoa.vn) - Với sự phát triển nhanh chóng trong những năm gần đây, huyện Hoằng Hóa có khối lượng chất thải rắn sinh hoạt tăng đáng kể. Mặc dù chính quyền huyện Hoằng Hóa đã và đang nỗ lực đưa ra giải pháp bảo vệ môi trường (BVMT) cũng như tạo nhiều cơ chế, chính sách nhằm thu hút các nhà đầu tư công nghệ hiện đại vào xử lý rác thải sinh hoạt, nhưng để giải bài toán này không hề đơn giản.\\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\\nViệt Hương\\n-\\n2025-04-29 06:30:00\\n-\\n2025-04-28 10:42:00\\n-\\n2018-12-19 21:20:00'"
      ]
     },
     "execution_count": 6,
     "metadata": {},
     "output_type": "execute_result"
    }
   ],
   "source": [
    "extract_main_text_requests(\n",
    "    \"https://baothanhhoa.vn/huyen-hoang-hoa-no-luc-giai-bai-toan-rac-thai-sinh-hoat-bao-ve-moi-truong-94598.htm\",\n",
    "    timeout=config.DEFAULT_EXTRACTION_TIMEOUT\n",
    ")"
   ]
  },
  {
   "cell_type": "code",
   "execution_count": null,
   "id": "730636f5",
   "metadata": {},
   "outputs": [
    {
     "name": "stderr",
     "output_type": "stream",
     "text": [
      "ERROR:root:Extraction error fetching https://chinhsachcuocsong.vnanet.vn/binh-duong-bat-tam-giam-doi-tuong-chon-lap-hon-600-tan-chat-thai-ra-moi-truong/15147.html: HTTPSConnectionPool(host='chinhsachcuocsong.vnanet.vn', port=443): Max retries exceeded with url: /binh-duong-bat-tam-giam-doi-tuong-chon-lap-hon-600-tan-chat-thai-ra-moi-truong/15147.html (Caused by SSLError(SSLError(1, '[SSL: UNSAFE_LEGACY_RENEGOTIATION_DISABLED] unsafe legacy renegotiation disabled (_ssl.c:1000)')))\n"
     ]
    }
   ],
   "source": [
    "extract_main_text_requests(\n",
    "    'https://chinhsachcuocsong.vnanet.vn/binh-duong-bat-tam-giam-doi-tuong-chon-lap-hon-600-tan-chat-thai-ra-moi-truong/15147.html',\n",
    "    timeout=config.DEFAULT_EXTRACTION_TIMEOUT\n",
    ")"
   ]
  },
  {
   "cell_type": "code",
   "execution_count": null,
   "id": "38c78592",
   "metadata": {},
   "outputs": [
    {
     "data": {
      "text/plain": [
       "'Ngày 24/3, Cơ quan Cảnh sát điều tra Công an tỉnh Bình Dương cho biết, đơn vị vừa thực hiện lệnh bắt bị can để tạm giam đối với Tô Văn Hải (sinh năm 1970, hộ khẩu thường trú xã Phước Hòa, huyện Phú Giáo), để điều tra làm rõ tội “Gây ô nhiễm môi trường” theo điểm d khoản 3 Điều 235, Bộ luật Hình sự.\\nTô Văn Hải là người trực tiếp điều hành, quản lý Cơ sở nuôi trồng thủy sản Thăng Tiến đã có hành vi cho phép người khác đổ, thải chất thải rắn thông thường ra môi trường tại thửa đất thuộc Cơ sở nuôi trồng thủy sản Thăng Tiến (xã Phước Hòa, huyện Phú Giáo).\\nSau đó, Hải tiến hành chôn, lấp tổng khối lượng 642.070 kg chất thải mà không được cơ quan nhà nước có thẩm quyền cho phép. Hành vi của Tô Văn Hải phạm vào tội “Gây ô nhiễm môi trường” theo điểm d khoản 3 Điều 235 Bộ luật Hình sự: “Chôn, lấp, đổ, thải ra môi trường trái pháp luật chất thải rắn thông thường 500.000 kilogam trở lên.”\\nNgày 21/3/2023, Cơ quan Cảnh sát điều tra Công an tỉnh Bình Dương thực hiện lệnh bắt bị can để tạm giam đối với Tô Văn Hải và tiếp tục củng cố, điều tra làm rõ theo quy định.\\n[Đồng Nai: Phát hiện cơ sở đốt hàng chục tấn chất thải nguy hại]\\nCơ sở nuôi trồng thủy sản Thăng Tiến (Cơ sở Thăng Tiến) hoạt động theo giấy chứng nhận đăng ký hộ kinh doanh do Ủy ban Nhân dân huyện Phú Giáo cấp ngày 21/12/2016 cho ông Hoàng Xuân Quyết (sinh năm 1979). Ngày 07/11/2017, ông Quyết chuyển nhượng hai thửa đất trên cùng cơ sở Thăng Tiến, quyền khai thác đất san lấp, đất sét gạch cho Tô Văn Hải.\\nDự án có tổng diện tích 24.477m2. Đến tháng 5/2020, Hải hoàn thành việc khai thác đất tại cơ sở, diện tích khai thác đất tại cơ sở khoảng 15.000m2, độ sâu từ 7m đến 8m để làm ao nuôi cá, trong đó phần đê đai, vách moong phía đông giáp với phần đất còn lại có dấu hiệu sạt lở, phải gia cố taluy, trồng cây xanh.\\nĐến ngày 18/09/2020, Sở Tài nguyên và Môi trường ban hành Thông báo số 4144/TB-STNMT về việc hoàn công sau khi khai thác đất san lấp, đất sét gạch tại công trình dự án nuôi trồng thủy sản của Cơ sở Thăng Tiến, sau đó, Hải bắt đầu san lấp gia cố khu vực ao nuôi cá.\\nQuá trình san lấp, Hải mua đất san lấp của một số cá nhân, cơ sở trên địa bàn huyện Phú Giáo để san lấp ao nuôi cá. Đồng thời, Hải cho một số cá nhân khác đổ số lượng lớn chất thải trên diện tích san lấp nhằm mục đích tiết kiệm chi phí mua vật liệu san lấp.\\nNgày 7/12/2022, Cơ quan Cảnh sát điều tra Công an tỉnh Bình Dương kết luận kiểm tra xác minh, ra Quyết định khởi tố vụ án hình sự gây ô nhiễm môi trường xảy ra tại Cơ sở nuôi trồng thủy sản Thăng Tiến.\\nViện Kiểm sát nhân dân huyện Phú Giáo đã phê chuẩn Quyết định khởi tố vụ án để điều tra về hành vi gây ô nhiễm môi trường xảy ra tại Cơ sở sản xuất muối Dương Thị Vân tại xã Tân Long, huyện Phú Giáo.\\nTrước đó, Công an huyện Phú Giáo phối hợp với các đơn vị của Sở Tài nguyên và Môi trường, Phòng Cảnh sát Môi trường Công an tỉnhvà Công an thị xã Bến Cát phát hiện một máy đào đất đang hoạt động chôn lấp chất thải trái phép ở Cơ sở sản xuất muối Dương Thị Vân.\\nĐoàn kiểm tra trưng cầu đơn vị chức năng tiến hành đo đạc. Kết quả cho thấy tổng diện tích chứa chất thải là 933m2, gồm 9 điểm (3 điểm chôn chất thải, 6 điểm chất thải lộ thiên), thể tích 1.878m3.\\nĐoàn kiểm tra đã gửi mẫu khảo sát xác định khối lượng của 1m3 chất thải được đổ, chôn lấp có khối lượng 1.160kg. Tổng lượng chất thải đổ, chôn lấp tại cơ sở sản xuất Dương Thị Vân hơn 2.100 tấn gồm vải vụn, giày da vụn.\\nCơ quan Cảnh sát điều tra Công an tỉnh Bình Dương khuyến cáo, các cơ quan, tổ chức, người dân có nghĩa vụ thực hiện nghiêm các quy định của pháp luật về bảo vệ môi trường, tuyệt đối không thực hiện việc đổ, xả, thải ra môi trường các loại chất thải: chất thải rắn, khí thải, nước thải... chưa qua xử lý.\\nCác hành vi vi phạm tùy tính chất, mức độ sẽ bị xử lý hành chính từ phạt tiền đến xử lý hình sự đến 7 năm tù về tội “Gây ô nhiễm môi trường” theo Điều 235 Bộ luật Hình sự, đồng thời người vi phạm còn phải khắc phục hậu quả, khôi phục nguyên trạng môi trường theo quy định. Pháp nhân thương mại phạm tội có thể bị cấm kinh doanh, cấm hoạt động đến 3 năm và nộp tiền đến 20 tỷ đồng./.'"
      ]
     },
     "execution_count": 8,
     "metadata": {},
     "output_type": "execute_result"
    }
   ],
   "source": [
    "extract_main_text_requests(\n",
    "    'https://www.vietnamplus.vn/bat-tam-giam-doi-tuong-chon-lap-hon-600-tan-chat-thai-ra-moi-truong-post853193.vnp',\n",
    "    timeout=config.DEFAULT_EXTRACTION_TIMEOUT\n",
    ")"
   ]
  },
  {
   "cell_type": "code",
   "execution_count": 7,
   "id": "70d3dbd8",
   "metadata": {},
   "outputs": [
    {
     "name": "stderr",
     "output_type": "stream",
     "text": [
      "ERROR:root:[Playwright] Playwright error for https://baothanhhoa.vn/huyen-hoang-hoa-no-luc-giai-bai-toan-rac-thai-sinh-hoat-bao-ve-moi-truong-94598.htm: It looks like you are using Playwright Sync API inside the asyncio loop.\n",
      "Please use the Async API instead.\n"
     ]
    }
   ],
   "source": [
    "extract_main_text_playwright(\n",
    "    \"https://baothanhhoa.vn/huyen-hoang-hoa-no-luc-giai-bai-toan-rac-thai-sinh-hoat-bao-ve-moi-truong-94598.htm\",\n",
    "    timeout=config.DEFAULT_EXTRACTION_TIMEOUT\n",
    ")"
   ]
  },
  {
   "cell_type": "markdown",
   "id": "843b9340",
   "metadata": {},
   "source": [
    "## google_cse.py"
   ]
  },
  {
   "cell_type": "code",
   "execution_count": 11,
   "id": "6e841660",
   "metadata": {},
   "outputs": [],
   "source": [
    "from google_cse import search_google_cse, process_search_results"
   ]
  },
  {
   "cell_type": "markdown",
   "id": "cfb25168",
   "metadata": {},
   "source": [
    "### search_google_cse"
   ]
  },
  {
   "cell_type": "code",
   "execution_count": 14,
   "id": "4a049242",
   "metadata": {},
   "outputs": [],
   "source": [
    "counters = {\"raw_saved\": 0, \"urls_processed\": 0, \"extractions_success\": 0}"
   ]
  },
  {
   "cell_type": "code",
   "execution_count": 13,
   "id": "3f092afe",
   "metadata": {},
   "outputs": [],
   "source": [
    "query = \"Tô Văn Hải đã có hành vi cho phép người khác đổ, thải chất thải rắn thông thường ra môi trường Giáo). Sau đó, Hải tiến hành chôn, lấp tổng khối lượng 642.070 kg chất thải mà không được cơ quan nhà nước có thẩm quyền cho phép.\"\n",
    "try:\n",
    "    results_json = search_google_cse(\n",
    "        query=query, api_key=config.API_KEY, cse_id=config.CSE_ID,\n",
    "        num_results=config.DEFAULT_CSE_NUM_RESULTS\n",
    "    )\n",
    "except requests.exceptions.RequestException:\n",
    "    logging.error(\"Stopping processing for query '%s' due to CSE API network error.\", query)\n",
    "\n",
    "if results_json is None:\n",
    "    logging.warning(\"No results or error from CSE API for query '%s', page %d. Stopping page fetch.\", query, 1)\n",
    "    stop_fetching_pages = True"
   ]
  },
  {
   "cell_type": "code",
   "execution_count": 15,
   "id": "4144a3b2",
   "metadata": {},
   "outputs": [
    {
     "data": {
      "text/plain": [
       "{'kind': 'customsearch#search',\n",
       " 'url': {'type': 'application/json',\n",
       "  'template': 'https://www.googleapis.com/customsearch/v1?q={searchTerms}&num={count?}&start={startIndex?}&lr={language?}&safe={safe?}&cx={cx?}&sort={sort?}&filter={filter?}&gl={gl?}&cr={cr?}&googlehost={googleHost?}&c2coff={disableCnTwTranslation?}&hq={hq?}&hl={hl?}&siteSearch={siteSearch?}&siteSearchFilter={siteSearchFilter?}&exactTerms={exactTerms?}&excludeTerms={excludeTerms?}&linkSite={linkSite?}&orTerms={orTerms?}&dateRestrict={dateRestrict?}&lowRange={lowRange?}&highRange={highRange?}&searchType={searchType}&fileType={fileType?}&rights={rights?}&imgSize={imgSize?}&imgType={imgType?}&imgColorType={imgColorType?}&imgDominantColor={imgDominantColor?}&alt=json'},\n",
       " 'queries': {'request': [{'title': 'Google Custom Search - Tô Văn Hải đã có hành vi cho phép người khác đổ, thải chất thải rắn thông thường ra môi trường Giáo). Sau đó, Hải tiến hành chôn, lấp tổng khối lượng 642.070 kg chất thải mà không được cơ quan nhà nước có thẩm quyền cho phép.',\n",
       "    'totalResults': '68600',\n",
       "    'searchTerms': 'Tô Văn Hải đã có hành vi cho phép người khác đổ, thải chất thải rắn thông thường ra môi trường Giáo). Sau đó, Hải tiến hành chôn, lấp tổng khối lượng 642.070 kg chất thải mà không được cơ quan nhà nước có thẩm quyền cho phép.',\n",
       "    'count': 10,\n",
       "    'startIndex': 1,\n",
       "    'inputEncoding': 'utf8',\n",
       "    'outputEncoding': 'utf8',\n",
       "    'safe': 'off',\n",
       "    'cx': 'd5e08f922994a4447'}],\n",
       "  'nextPage': [{'title': 'Google Custom Search - Tô Văn Hải đã có hành vi cho phép người khác đổ, thải chất thải rắn thông thường ra môi trường Giáo). Sau đó, Hải tiến hành chôn, lấp tổng khối lượng 642.070 kg chất thải mà không được cơ quan nhà nước có thẩm quyền cho phép.',\n",
       "    'totalResults': '68600',\n",
       "    'searchTerms': 'Tô Văn Hải đã có hành vi cho phép người khác đổ, thải chất thải rắn thông thường ra môi trường Giáo). Sau đó, Hải tiến hành chôn, lấp tổng khối lượng 642.070 kg chất thải mà không được cơ quan nhà nước có thẩm quyền cho phép.',\n",
       "    'count': 10,\n",
       "    'startIndex': 11,\n",
       "    'inputEncoding': 'utf8',\n",
       "    'outputEncoding': 'utf8',\n",
       "    'safe': 'off',\n",
       "    'cx': 'd5e08f922994a4447'}]},\n",
       " 'context': {'title': 'Document-Retriever'},\n",
       " 'searchInformation': {'searchTime': 0.463208,\n",
       "  'formattedSearchTime': '0.46',\n",
       "  'totalResults': '68600',\n",
       "  'formattedTotalResults': '68,600'},\n",
       " 'items': [{'kind': 'customsearch#result',\n",
       "   'title': 'Bình Dương: Bắt tạm giam đối tượng chôn lấp hơn 600 tấn chất thải ...',\n",
       "   'htmlTitle': 'Bình Dương: Bắt tạm giam đối tượng <b>chôn lấp</b> hơn 600 tấn <b>chất thải</b> ...',\n",
       "   'link': 'https://chinhsachcuocsong.vnanet.vn/binh-duong-bat-tam-giam-doi-tuong-chon-lap-hon-600-tan-chat-thai-ra-moi-truong/15147.html',\n",
       "   'displayLink': 'chinhsachcuocsong.vnanet.vn',\n",
       "   'snippet': 'Mar 24, 2023 ... Tô Văn Hải đã có hành vi cho phép người khác đổ, thải chất thải rắn thông thường ra môi trường ... Sau đó, Hải tiến hành chôn, lấp tổng khối lượng\\xa0...',\n",
       "   'htmlSnippet': 'Mar 24, 2023 <b>...</b> <b>Tô Văn Hải đã có hành vi cho phép người khác đổ</b>, <b>thải chất thải rắn thông thường ra môi trường</b> ... <b>Sau đó</b>, <b>Hải tiến hành chôn</b>, <b>lấp tổng khối lượng</b>&nbsp;...',\n",
       "   'formattedUrl': 'https://chinhsachcuocsong.vnanet.vn/binh...chon...ra.../15147.html',\n",
       "   'htmlFormattedUrl': 'https://chinhsachcuocsong.vnanet.vn/binh...<b>cho</b>n...<b>ra</b>.../15147.html',\n",
       "   'pagemap': {'cse_thumbnail': [{'src': 'https://encrypted-tbn0.gstatic.com/images?q=tbn:ANd9GcQTo8yPWSKHBum2HMMXDc8F2dOsolUcjMvc8YfE8lSbzvCPOZ7iWdYkBN3U&s',\n",
       "      'width': '233',\n",
       "      'height': '217'}],\n",
       "    'metatags': [{'og:image': 'https://imgchinhsachcuocsong.vnanet.vn/MediaUpload/Medium/2023/03/24/195908-vna_potal_binh_duong_khoi_to_va_bat_giu_ca_nhan_chon_lap_hon_600_tan_chat_thai_ra_moi_truong_6645336.jpg',\n",
       "      'copyright': 'Ban Tin trong nước - TTXVN',\n",
       "      'og:type': 'article',\n",
       "      'og:site_name': 'chinhsachcuocsong.vnanet.vn',\n",
       "      'viewport': 'width=device-width, initial-scale=1.0, user-scalable=yes',\n",
       "      'og:title': 'Bình Dương: Bắt tạm giam đối tượng chôn lấp hơn 600 tấn chất thải ra môi trường',\n",
       "      'title': 'Bình Dương: Bắt tạm giam đối tượng chôn lấp hơn 600 tấn chất thải ra môi trường',\n",
       "      'og:url': 'https://chinhsachcuocsong.vnanet.vn/binh-duong-bat-tam-giam-doi-tuong-chon-lap-hon-600-tan-chat-thai-ra-moi-truong/15147.html',\n",
       "      'og:description': 'Tô Văn Hải đã có hành vi cho phép người khác đổ, thải chất thải rắn thông thường ra môi trường.'}],\n",
       "    'cse_image': [{'src': 'https://imgchinhsachcuocsong.vnanet.vn/MediaUpload/Medium/2023/03/24/195908-vna_potal_binh_duong_khoi_to_va_bat_giu_ca_nhan_chon_lap_hon_600_tan_chat_thai_ra_moi_truong_6645336.jpg'}]}},\n",
       "  {'kind': 'customsearch#result',\n",
       "   'title': 'Bắt tạm giam đối tượng chôn lấp hơn 600 tấn chất thải ra môi trường',\n",
       "   'htmlTitle': 'Bắt tạm giam đối tượng <b>chôn lấp</b> hơn 600 tấn <b>chất thải ra môi trường</b>',\n",
       "   'link': 'https://www.vietnamplus.vn/bat-tam-giam-doi-tuong-chon-lap-hon-600-tan-chat-thai-ra-moi-truong-post853193.vnp',\n",
       "   'displayLink': 'www.vietnamplus.vn',\n",
       "   'snippet': 'Mar 24, 2023 ... Tô Văn Hải là người trực tiếp điều hành, quản lý Cơ sở nuôi trồng thủy sản Thăng Tiến đã có hành vi cho phép người khác đổ, thải chất thải rắn\\xa0...',\n",
       "   'htmlSnippet': 'Mar 24, 2023 <b>...</b> <b>Tô Văn Hải</b> là người trực tiếp điều <b>hành</b>, quản lý Cơ sở nuôi trồng thủy sản Thăng <b>Tiến đã có hành vi cho phép người khác đổ</b>, <b>thải chất thải rắn</b>&nbsp;...',\n",
       "   'formattedUrl': 'https://www.vietnamplus.vn/bat-tam-giam-doi-tuong-chon-lap-hon-600-tan...',\n",
       "   'htmlFormattedUrl': 'https://www.vietnamplus.vn/bat-tam-giam-doi-tuong-<b>cho</b>n-lap-hon-600-tan...',\n",
       "   'pagemap': {'cse_thumbnail': [{'src': 'https://encrypted-tbn0.gstatic.com/images?q=tbn:ANd9GcTCfDYw7Vx9kqDvSjKIeT_ZrqsKKp_6bZ8GfpTBAMmrEcQspHMCoYmlVmg&s',\n",
       "      'width': '277',\n",
       "      'height': '182'}],\n",
       "    'metatags': [{'og:image': 'https://media.vietnamplus.vn/images/c14f6479e83e315b4cf3a2906cc6a51e3a9b52adad2ed1bdc55a38b5e2a67e3b1ad9e9a155caa6f2acac32152a0782668aafbc048b21959dfc9b5afb8b0dcb9b38acbb95a179d475df922fe06383ba56cdb57feb901aea868e56e8a402356a73/binh_duong_do_chat_thai_2403.jpg.webp',\n",
       "      'copyright': 'Copyright © 2025 by Vietnam+ (VietnamPlus)',\n",
       "      'og:image:width': '1200',\n",
       "      'article:published_time': '2023-03-24T17:46:46+0700',\n",
       "      'og:site_name': 'Vietnam+ (VietnamPlus)',\n",
       "      'twitter:url': 'https://www.vietnamplus.vn/bat-tam-giam-doi-tuong-chon-lap-hon-600-tan-chat-thai-ra-moi-truong-post853193.vnp',\n",
       "      'apple-mobile-web-app-title': 'Vietnam+ (VietnamPlus)',\n",
       "      'rating': 'GENERAL',\n",
       "      'source': 'Vietnam+ (VietnamPlus)',\n",
       "      'medium': 'news',\n",
       "      'og:description': 'Ngày 21/3, Công an tỉnh Bình Dương thực hiện lệnh bắt bị can để tạm giam đối với Tô Văn Hải - đối tượng chôn lấp hơn 600 tấn chất thải ra môi trường, để điều tra làm rõ theo quy định',\n",
       "      'twitter:creator': '@Vietnam+ (VietnamPlus)',\n",
       "      'twitter:image': 'https://media.vietnamplus.vn/images/c14f6479e83e315b4cf3a2906cc6a51e3a9b52adad2ed1bdc55a38b5e2a67e3b1ad9e9a155caa6f2acac32152a0782668aafbc048b21959dfc9b5afb8b0dcb9b38acbb95a179d475df922fe06383ba56cdb57feb901aea868e56e8a402356a73/binh_duong_do_chat_thai_2403.jpg.webp',\n",
       "      'article:publisher': 'https://www.facebook.com/VietnamPlus',\n",
       "      'twitter:site': '@Vietnam+ (VietnamPlus)',\n",
       "      'article:modified_time': '2023-03-24T17:46:46+0700',\n",
       "      'news_keywords': 'Bình Dương, Chôn lấp chất thải, Ô nhiễm môi trường, Thải ra môi trường trái pháp luật',\n",
       "      'og:type': 'article',\n",
       "      'twitter:title': 'Bắt tạm giam đối tượng chôn lấp hơn 600 tấn chất thải ra môi trường',\n",
       "      'article:section': 'Xã hội,Môi trường,Pháp luật',\n",
       "      'author': 'Vietnam+ (VietnamPlus)',\n",
       "      'og:title': 'Bắt tạm giam đối tượng chôn lấp hơn 600 tấn chất thải ra môi trường',\n",
       "      'og:image:height': '630',\n",
       "      'fb:pages': '120834779440',\n",
       "      'article:tag': 'Bình Dương, Chôn lấp chất thải, Ô nhiễm môi trường, Thải ra môi trường trái pháp luật',\n",
       "      'referrer': 'no-referrer-when-downgrade',\n",
       "      'fb:app_id': '1960985707489919',\n",
       "      'apple-mobile-web-app-status-bar-style': 'black',\n",
       "      'viewport': 'width=device-width, initial-scale=1',\n",
       "      'apple-mobile-web-app-capable': 'yes',\n",
       "      'twitter:description': 'Ngày 21/3, Công an tỉnh Bình Dương thực hiện lệnh bắt bị can để tạm giam đối với Tô Văn Hải - đối tượng chôn lấp hơn 600 tấn chất thải ra môi trường, để điều tra làm rõ theo quy định',\n",
       "      'og:rich_attachment': 'true',\n",
       "      'og:url': 'https://www.vietnamplus.vn/bat-tam-giam-doi-tuong-chon-lap-hon-600-tan-chat-thai-ra-moi-truong-post853193.vnp',\n",
       "      'format-detection': 'telephone=no'}],\n",
       "    'cse_image': [{'src': 'https://media.vietnamplus.vn/images/c14f6479e83e315b4cf3a2906cc6a51e3a9b52adad2ed1bdc55a38b5e2a67e3b1ad9e9a155caa6f2acac32152a0782668aafbc048b21959dfc9b5afb8b0dcb9b38acbb95a179d475df922fe06383ba56cdb57feb901aea868e56e8a402356a73/binh_duong_do_chat_thai_2403.jpg.webp'}]}},\n",
       "  {'kind': 'customsearch#result',\n",
       "   'title': 'góc nhìn: rác thải sinh hoạt tại việt nam - thực trạng và giải pháp',\n",
       "   'htmlTitle': 'góc nhìn: <b>rác thải</b> sinh hoạt tại việt nam - thực trạng và giải pháp',\n",
       "   'link': 'https://quochoi.vn/tintuc/Pages/tin-hoat-dong-cua-quoc-hoi.aspx?ItemID=82916',\n",
       "   'displayLink': 'quochoi.vn',\n",
       "   'snippet': 'Dec 6, 2023 ... Lượng khí thải chiếm tới 5% tổng lượng rác xử lý với nguy cơ chứa các chất gây ung thư như furan và dioxin, đang được thu gom nhưng kho chứa tro\\xa0...',\n",
       "   'htmlSnippet': 'Dec 6, 2023 <b>...</b> <b>Lượng</b> khí <b>thải</b> chiếm tới 5% <b>tổng lượng rác</b> xử lý với nguy cơ chứa các <b>chất</b> gây ung thư như furan và dioxin, đang được thu gom nhưng kho chứa tro&nbsp;...',\n",
       "   'formattedUrl': 'https://quochoi.vn/tintuc/Pages/tin-hoat-dong-cua-quoc-hoi.aspx?ItemID...',\n",
       "   'htmlFormattedUrl': 'https://quo<b>cho</b>i.vn/tintuc/Pages/tin-hoat-dong-cua-quoc-hoi.aspx?ItemID...',\n",
       "   'pagemap': {'cse_thumbnail': [{'src': 'https://encrypted-tbn0.gstatic.com/images?q=tbn:ANd9GcTLCIkdopST3iaiJSgcaZVJd1paKzaYsMCUVdIDBhiBGdC7BV1Ikbgugxg&s',\n",
       "      'width': '274',\n",
       "      'height': '184'}],\n",
       "    'metatags': [{'og:image': 'https://quochoi.vn/content/tintuc/NewsMedia2020/Hoang Trong Quynh/061220230827-z4943375387013_539a3de2d6ead71bef07d10c78a04075.jpg',\n",
       "      'copyright': 'Cổng thông tin điện tử Quốc hội',\n",
       "      'og:site_name': 'https://quochoi.vn',\n",
       "      'twitter:url': 'https://quochoi.vn/tintuc/Pages/tin-hoat-dong-cua-quoc-hoi.aspx?ItemID=82916',\n",
       "      'medium': 'news',\n",
       "      'title': 'GÓC NHÌN: RÁC THẢI SINH HOẠT TẠI VIỆT NAM - THỰC TRẠNG VÀ GIẢI PHÁP',\n",
       "      'geo.position': '21.033196216854765; 105.83394583963911',\n",
       "      'og:description': 'Mặc dù Việt Nam đã ban hành nhiều văn bản pháp luật về bảo vệ môi trường nhưng việc xử lý rác thải một cách hiệu quả vẫn là vấn đề khiến nhiều tỉnh, thành và cử tri quan tâm. Cổng TTĐT trân trọng giới thiệu bài viết: “Rác thải sinh hoạt tại Việt Nam: Thực trạng và giải pháp” của ĐBQH Nguyễn Quang Huân - Uỷ viên Uỷ ban Khoa học công nghệ và Môi trường Quốc hội - Đoàn ĐBQH tỉnh Bình Dương.',\n",
       "      'twitter:image': 'https://quochoi.vn/content/tintuc/NewsMedia2020/Hoang Trong Quynh/061220230827-z4943375387013_539a3de2d6ead71bef07d10c78a04075.jpg',\n",
       "      'news_keywords': 'Nguyễn Quang Huân, góc nhìn, chuyên gia, rác thải, sinh hoạt, thực trạng, giải pháp, quốc hội, lập pháp, giám sát, môi trường',\n",
       "      'http-equiv': 'text/html; charset=utf-8',\n",
       "      'twitter:keywords': 'Nguyễn Quang Huân, góc nhìn, chuyên gia, rác thải, sinh hoạt, thực trạng, giải pháp, quốc hội, lập pháp, giám sát, môi trường',\n",
       "      'content-language': 'vi',\n",
       "      'image': 'https://quochoi.vn/content/tintuc/NewsMedia2020/Hoang Trong Quynh/061220230827-z4943375387013_539a3de2d6ead71bef07d10c78a04075.jpg',\n",
       "      'twitter:title': 'GÓC NHÌN: RÁC THẢI SINH HOẠT TẠI VIỆT NAM - THỰC TRẠNG VÀ GIẢI PHÁP',\n",
       "      'og:type': 'website',\n",
       "      'geo.region': 'VN',\n",
       "      'og:title': 'GÓC NHÌN: RÁC THẢI SINH HOẠT TẠI VIỆT NAM - THỰC TRẠNG VÀ GIẢI PHÁP',\n",
       "      'og:keywords': 'Nguyễn Quang Huân, góc nhìn, chuyên gia, rác thải, sinh hoạt, thực trạng, giải pháp, quốc hội, lập pháp, giám sát, môi trường',\n",
       "      'refresh': '100',\n",
       "      'url': 'https://quochoi.vn/tintuc/Pages/tin-hoat-dong-cua-quoc-hoi.aspx?ItemID=82916',\n",
       "      'viewport': 'width=device-width',\n",
       "      'twitter:description': 'Mặc dù Việt Nam đã ban hành nhiều văn bản pháp luật về bảo vệ môi trường nhưng việc xử lý rác thải một cách hiệu quả vẫn là vấn đề khiến nhiều tỉnh, thành và cử tri quan tâm. Cổng TTĐT trân trọng giới thiệu bài viết: “Rác thải sinh hoạt tại Việt Nam: Thực trạng và giải pháp” của ĐBQH Nguyễn Quang Huân - Uỷ viên Uỷ ban Khoa học công nghệ và Môi trường Quốc hội - Đoàn ĐBQH tỉnh Bình Dương.',\n",
       "      'og:url': 'https://quochoi.vn/tintuc/Pages/tin-hoat-dong-cua-quoc-hoi.aspx?ItemID=82916',\n",
       "      'geo.placename': 'Ha Noi'}],\n",
       "    'cse_image': [{'src': 'https://quochoi.vn/content/tintuc/NewsMedia2020/Hoang%20Trong%20Quynh/061220230827-z4943375387013_539a3de2d6ead71bef07d10c78a04075.jpg'}]}},\n",
       "  {'kind': 'customsearch#result',\n",
       "   'title': 'Luật Bảo vệ môi trường 2020 số 72/2020/QH14 mới nhất áp dụng ...',\n",
       "   'htmlTitle': 'Luật Bảo vệ <b>môi trường</b> 2020 số 72/2020/QH14 mới nhất áp dụng ...',\n",
       "   'link': 'https://thuvienphapluat.vn/van-ban/Tai-nguyen-Moi-truong/Luat-so-72-2020-QH14-Bao-ve-moi-truong-2020-431147.aspx',\n",
       "   'displayLink': 'thuvienphapluat.vn',\n",
       "   'snippet': 'Nov 17, 2020 ... ... chôn lấp chất thải rắn sinh hoạt có trách nhiệm sau đây: a) Ngay sau khi đóng bãi chôn lấp chất thải rắn sinh hoạt phải tiến hành cải tạo\\xa0...',\n",
       "   'htmlSnippet': 'Nov 17, 2020 <b>...</b> ... <b>chôn lấp chất thải rắn</b> sinh hoạt <b>có</b> trách nhiệm <b>sau</b> đây: a) Ngay <b>sau</b> khi đóng bãi <b>chôn lấp chất thải rắn</b> sinh hoạt phải <b>tiến hành</b> cải tạo&nbsp;...',\n",
       "   'formattedUrl': 'https://thuvienphapluat.vn/.../Luat-so-72-2020-QH14-Bao-ve-moi-truong-2...',\n",
       "   'htmlFormattedUrl': 'https://thuvienphapluat.vn/.../Luat-so-72-2020-QH14-Bao-ve-moi-truong-2...',\n",
       "   'pagemap': {'cse_thumbnail': [{'src': 'https://encrypted-tbn0.gstatic.com/images?q=tbn:ANd9GcRXrgQC2NkMUzrh_LgRj7UO44a-MM-RM1LJEB-wvx59rEHAIb7zpME0JxiQ&s',\n",
       "      'width': '311',\n",
       "      'height': '162'}],\n",
       "    'metatags': [{'og:image': 'https://cdn.thuvienphapluat.vn/uploads/Images/thumbnail_TVPL.png',\n",
       "      'fb:app_id': '388492657962135',\n",
       "      'og:type': 'website',\n",
       "      'article:published_time': '2025-04-28T13:25:00+07:00',\n",
       "      'copyright': 'Copyright © 2011 by thuvienphapluat.vn',\n",
       "      'og:site_name': 'THƯ VIỆN PHÁP LUẬT',\n",
       "      'article:modified_time': '2025-04-28T13:55:00+07:00',\n",
       "      'author': 'thuvienphapluat.vn',\n",
       "      'og:title': 'Luật Bảo vệ môi trường 2020 số 72/2020/QH14 mới nhất áp dụng năm 2025 mới nhất',\n",
       "      'fb:admins': '345074462254483',\n",
       "      'fb:page_id': '345074462254483',\n",
       "      'google-signin-client_id': '405387995063-hu5l0dklpd3lhcmj8mlpav6gckg2v92v.apps.googleusercontent.com'}],\n",
       "    'cse_image': [{'src': 'https://cdn.thuvienphapluat.vn/uploads/Images/thumbnail_TVPL.png'}]}},\n",
       "  {'kind': 'customsearch#result',\n",
       "   'title': 'ĐÁNH GIÁ CÔNG TÁC QUẢN LÝ CHẤT THẢI RẮN SINH HOẠT VÀ',\n",
       "   'htmlTitle': 'ĐÁNH GIÁ CÔNG TÁC QUẢN LÝ <b>CHẤT THẢI RẮN</b> SINH HOẠT VÀ',\n",
       "   'link': 'https://documents1.worldbank.org/curated/ru/504821559676898971/pdf/Solid-and-industrial-hazardous-waste-management-assessment-options-and-actions-areas.pdf',\n",
       "   'displayLink': 'documents1.worldbank.org',\n",
       "   'snippet': 'Các kết quả tìm hiểu, các giải thích và kết luận đưa ra trong báo cáo này không phản ánh quan điểm chính thức của ban Giám đốc điều hành Ngân hàng Thế giới hoặc\\xa0...',\n",
       "   'htmlSnippet': 'Các kết quả tìm hiểu, các giải thích và kết luận đưa <b>ra</b> trong báo cáo này không phản ánh quan điểm chính thức của ban Giám đốc điều <b>hành</b> Ngân hàng Thế giới hoặc&nbsp;...',\n",
       "   'formattedUrl': 'https://documents1.worldbank.org/.../Solid-and-industrial-hazardous-waste-...',\n",
       "   'htmlFormattedUrl': 'https://documents1.worldbank.org/.../Solid-and-industrial-hazardous-waste-...',\n",
       "   'pagemap': {'cse_thumbnail': [{'src': 'https://encrypted-tbn0.gstatic.com/images?q=tbn:ANd9GcQ4_Qq0SzXMw--KsJiA3ULYtXnUVWN6b0bwVOXl1OEFfO3c8X_qU5yEiUc&s',\n",
       "      'width': '231',\n",
       "      'height': '218'}],\n",
       "    'metatags': [{'moddate': 'D:20190604193616',\n",
       "      'creationdate': \"D:20181129133052+07'00'\",\n",
       "      'creator': 'Adobe InDesign CC 13.1 (Macintosh)',\n",
       "      'author': 'World Bank Group',\n",
       "      'producer': 'Adobe PDF Library 15.0 / PDF PT 4.7.24.2 (pdf-tools.com)',\n",
       "      'title': 'World Bank Document'}],\n",
       "    'cse_image': [{'src': 'x-raw-image:///d4d72085638388ad01c24f4f3f4f3641ee46681d7ffa609c049d791c6109042c'}]},\n",
       "   'mime': 'application/pdf',\n",
       "   'fileFormat': 'PDF/Adobe Acrobat'},\n",
       "  {'kind': 'customsearch#result',\n",
       "   'title': 'Mức phạt đối với hành vi chôn lấp chất thải nguy hại trái quy định?',\n",
       "   'htmlTitle': 'Mức phạt đối với <b>hành vi chôn lấp chất thải</b> nguy hại trái quy định?',\n",
       "   'link': 'https://baotainguyenmoitruong.vn/muc-phat-hanh-vi-chon-lap-chat-thai-nguy-hai-trai-quy-dinh-342175.html',\n",
       "   'displayLink': 'baotainguyenmoitruong.vn',\n",
       "   'snippet': 'Jul 27, 2022 ... (TN&MT) - Bạn đọc Phạm Trúc Linh (Hà Nội) hỏi: Qua truyền thông, tôi được biết, Chính phủ mới ban hành quy định xử phạt mới liên quan đến\\xa0...',\n",
       "   'htmlSnippet': 'Jul 27, 2022 <b>...</b> (TN&amp;MT) - Bạn đọc Phạm Trúc Linh (Hà Nội) hỏi: Qua truyền <b>thông</b>, tôi được biết, Chính phủ mới ban <b>hành</b> quy định xử phạt mới liên quan đến&nbsp;...',\n",
       "   'formattedUrl': 'https://baotainguyenmoitruong.vn/muc-phat-hanh-vi-chon-lap-chat-thai-ng...',\n",
       "   'htmlFormattedUrl': 'https://baotainguyenmoitruong.vn/muc-phat-hanh-<b>vi</b>-<b>cho</b>n-lap-chat-thai-ng...',\n",
       "   'pagemap': {'cse_thumbnail': [{'src': 'https://encrypted-tbn0.gstatic.com/images?q=tbn:ANd9GcTamtnw0JLxXBxHj5ri63NPC3cjTpU6Os3T_nBTwZWhITNntSR1o5QuvSRJ&s',\n",
       "      'width': '310',\n",
       "      'height': '163'}],\n",
       "    'metatags': [{'og:image': 'https://btnmt.1cdn.vn/thumbs/1200x630/2022/07/27/chat-thai-nguy-hai.jpg',\n",
       "      'article:section': 'Tư vấn pháp luật',\n",
       "      'article:published_time': '7/27/2022 5:50:01 PM',\n",
       "      'og:type': 'website',\n",
       "      'og:site_name': 'baotainguyenmoitruong.vn',\n",
       "      'handheldfriendly': 'true',\n",
       "      'author': 'baotainguyenmoitruong.vn',\n",
       "      'og:title': 'Mức phạt hành vi chôn lấp chất thải nguy hại trái quy định',\n",
       "      'canonical': 'https://baotainguyenmoitruong.vn/muc-phat-hanh-vi-chon-lap-chat-thai-nguy-hai-trai-quy-dinh-342175.html',\n",
       "      'og:description': '(TN&MT) - Bạn đọc Phạm Trúc Linh (Hà Nội) hỏi: Qua truyền thông, tôi được biết, Chính phủ mới ban hành quy định xử phạt mới liên quan đến bảo vệ môi trường. Trong đó, đưa ra nhiều mức phạt nặng đối với hành vi vi phạm các quy định về bảo vệ môi trường của chủ nguồn thải chất thải nguy hại. Công ty chúng tôi có hoạt động liên quan đến chất thải nguy hại nên rất quan tâm đến vấn đề này. Xin hỏi, cụ thể quy định này ra sao?',\n",
       "      'viewport': 'width=device-width, initial-scale=1, shrink-to-fit=no',\n",
       "      'mobileoptimized': 'device-width',\n",
       "      'og:locale': 'vi_VN',\n",
       "      'og:url': 'https://baotainguyenmoitruong.vn/muc-phat-hanh-vi-chon-lap-chat-thai-nguy-hai-trai-quy-dinh-342175.html'}],\n",
       "    'cse_image': [{'src': 'https://btnmt.1cdn.vn/thumbs/1200x630/2022/07/27/chat-thai-nguy-hai.jpg'}]}},\n",
       "  {'kind': 'customsearch#result',\n",
       "   'title': 'Huyện Hoằng Hóa: Nỗ lực giải bài toán rác thải sinh hoạt, bảo vệ ...',\n",
       "   'htmlTitle': 'Huyện Hoằng Hóa: Nỗ lực giải bài toán <b>rác thải</b> sinh hoạt, bảo vệ ...',\n",
       "   'link': 'https://baothanhhoa.vn/huyen-hoang-hoa-no-luc-giai-bai-toan-rac-thai-sinh-hoat-bao-ve-moi-truong-94598.htm',\n",
       "   'displayLink': 'baothanhhoa.vn',\n",
       "   'snippet': 'Dec 20, 2018 ... Qua quá trình thi công, do địa chất khu vực không phù hợp cho việc chôn lấp rác thải, do đó UBND huyện Hoằng Hóa đã đề nghị UBND tỉnh cho phép\\xa0...',\n",
       "   'htmlSnippet': 'Dec 20, 2018 <b>...</b> Qua quá trình thi công, do địa <b>chất</b> khu vực không phù hợp cho việc <b>chôn lấp rác thải</b>, do <b>đó</b> UBND huyện Hoằng Hóa <b>đã</b> đề nghị UBND tỉnh <b>cho phép</b>&nbsp;...',\n",
       "   'formattedUrl': 'https://baothanhhoa.vn/huyen-hoang-hoa-no-luc-giai-bai-toan-rac-thai-sinh...',\n",
       "   'htmlFormattedUrl': 'https://baothanhhoa.vn/huyen-hoang-hoa-no-luc-giai-bai-toan-rac-thai-sinh...',\n",
       "   'pagemap': {'cse_thumbnail': [{'src': 'https://encrypted-tbn0.gstatic.com/images?q=tbn:ANd9GcQsmzWa-qi7qKLnZe3BhQVReR2oKPo4ELXrBH_4jIe7vS1SPavrsgqDtZ0&s',\n",
       "      'width': '310',\n",
       "      'height': '163'}],\n",
       "    'metatags': [{'og:image': 'https://baothanhhoa.vn/thumbnail/news/huyen-hoang-hoa-no-luc-giai-bai-toan-rac-thai-sinh-hoat-bao-ve-moi-truong-di1851d177d4203642t8774l7-8.jpg',\n",
       "      'og:type': 'article',\n",
       "      'og:image:width': '550',\n",
       "      'article:published_time': '2018-12-20 20:37',\n",
       "      'article:section': 'Môi trường',\n",
       "      'og:site_name': 'Báo Thanh Hóa',\n",
       "      'apple-mobile-web-app-title': 'Báo Thanh Hóa',\n",
       "      'og:title': 'Huyện Hoằng Hóa: Nỗ lực giải bài toán rác thải sinh hoạt, bảo vệ môi trường',\n",
       "      'og:image:height': '366',\n",
       "      'fb:pages': '303222926555456',\n",
       "      'og:description': 'Với sự phát triển nhanh chóng trong những năm gần đây, huyện Hoằng Hóa có khối lượng chất thải rắn sinh hoạt tăng đáng kể. Mặc dù chính quyền huyện Hoằng Hóa đã và đang nỗ lực đưa ra giải pháp bảo vệ môi trường (BVMT) cũng như tạo nhiều cơ chế, chính sách nhằm thu hút các nhà đầu tư công nghệ hiện đại vào xử lý rác thải sinh hoạt, nhưng để giải bài toán này không hề đơn giản.',\n",
       "      'article:author': 'https://facebook.com/baothanhhoa.vn',\n",
       "      'article:publisher': 'https://facebook.com/baothanhhoa.vn',\n",
       "      'fb:app_id': '377351146877300',\n",
       "      'article:modified_time': '2018-12-20 20:40',\n",
       "      'viewport': 'width=device-width, initial-scale=yes',\n",
       "      'mobileoptimized': '100',\n",
       "      'mobile-web-app-capable': 'yes',\n",
       "      'og:url': 'https://baothanhhoa.vn/huyen-hoang-hoa-no-luc-giai-bai-toan-rac-thai-sinh-hoat-bao-ve-moi-truong-94598.htm',\n",
       "      'apple-touch-fullscreen': 'yes',\n",
       "      'format-detection': 'telephone=no'}],\n",
       "    'cse_image': [{'src': 'https://baothanhhoa.vn/thumbnail/news/huyen-hoang-hoa-no-luc-giai-bai-toan-rac-thai-sinh-hoat-bao-ve-moi-truong-di1851d177d4203642t8774l7-8.jpg'}]}},\n",
       "  {'kind': 'customsearch#result',\n",
       "   'title': 'Tự ý đốt chất thải có thể bị xử phạt đến 1 triệu đồng',\n",
       "   'htmlTitle': 'Tự ý đốt <b>chất thải có</b> thể bị xử phạt đến 1 triệu đồng',\n",
       "   'link': 'https://baotainguyenmoitruong.vn/tu-y-dot-chat-thai-co-the-bi-xu-phat-den-1-trieu-dong-382581.html',\n",
       "   'displayLink': 'baotainguyenmoitruong.vn',\n",
       "   'snippet': 'Nov 1, 2024 ... (TN&MT) - Bạn đọc Nguyễn Minh Quân ở Gia Lộc, Hải Dương hỏi: Ở nhiều địa phương trong cả nước hiện đang xảy ra tình trạng đốt rác thải sinh\\xa0...',\n",
       "   'htmlSnippet': 'Nov 1, 2024 <b>...</b> (TN&amp;MT) - Bạn đọc Nguyễn Minh Quân ở Gia Lộc, <b>Hải</b> Dương hỏi: Ở nhiều địa phương trong cả nước hiện đang xảy <b>ra</b> tình trạng đốt <b>rác thải</b> sinh&nbsp;...',\n",
       "   'formattedUrl': 'https://baotainguyenmoitruong.vn/tu-y-dot-chat-thai-co-the-bi-xu-phat-den...',\n",
       "   'htmlFormattedUrl': 'https://baotainguyenmoitruong.vn/tu-y-dot-chat-thai-co-the-bi-xu-phat-den...',\n",
       "   'pagemap': {'cse_thumbnail': [{'src': 'https://encrypted-tbn0.gstatic.com/images?q=tbn:ANd9GcSEjBP2Q4uZOty9zeS21Apo-afI5kk9_WA7XYZnSQiwCY3ieIhhgN9X0UCR&s',\n",
       "      'width': '310',\n",
       "      'height': '163'}],\n",
       "    'metatags': [{'og:image': 'https://btnmt.1cdn.vn/thumbs/1200x630/2024/11/01/dot-rac.jpg',\n",
       "      'article:section': 'Tư vấn pháp luật',\n",
       "      'article:published_time': '11/1/2024 5:22:01 PM',\n",
       "      'og:type': 'website',\n",
       "      'og:site_name': 'baotainguyenmoitruong.vn',\n",
       "      'handheldfriendly': 'true',\n",
       "      'author': 'baotainguyenmoitruong.vn',\n",
       "      'og:title': 'Tự ý đốt chất thải có thể bị xử phạt đến 1 triệu đồng',\n",
       "      'canonical': 'https://baotainguyenmoitruong.vn/tu-y-dot-chat-thai-co-the-bi-xu-phat-den-1-trieu-dong-382581.html',\n",
       "      'og:description': '(TN&MT) - Bạn đọc Nguyễn Minh Quân ở Gia Lộc, Hải Dương hỏi: Ở nhiều địa phương trong cả nước hiện đang xảy ra tình trạng đốt rác thải sinh hoạt gây ô nhiễm môi trường... Khói thải từ việc đốt rác còn ảnh hưởng tới người dân sống xung quanh khu vực và ảnh hưởng tới người tham gia giao thông khiến tầm nhìn hạn chế, có thể gây ra tai nạn. Vậy theo quy định của pháp luật việc đốt rác thải bừa bãi sẽ bị xử lý như thế nào?',\n",
       "      'viewport': 'width=device-width, initial-scale=1, shrink-to-fit=no',\n",
       "      'mobileoptimized': 'device-width',\n",
       "      'og:locale': 'vi_VN',\n",
       "      'og:url': 'https://baotainguyenmoitruong.vn/tu-y-dot-chat-thai-co-the-bi-xu-phat-den-1-trieu-dong-382581.html'}],\n",
       "    'cse_image': [{'src': 'https://btnmt.1cdn.vn/thumbs/1200x630/2024/11/01/dot-rac.jpg'}]}},\n",
       "  {'kind': 'customsearch#result',\n",
       "   'title': '1 Bản án số: 40/2023/HSST Ngày 24/02/2023 Độc lập - Tự do ...',\n",
       "   'htmlTitle': '1 Bản án số: 40/2023/HSST Ngày 24/02/2023 Độc lập - Tự do ...',\n",
       "   'link': 'https://congbobanan.toaan.gov.vn/3ta1146058t1cvn/',\n",
       "   'displayLink': 'congbobanan.toaan.gov.vn',\n",
       "   'snippet': 'Feb 24, 2023 ... ... đã đổ, thải ra môi trường chất thải rắn thông thường trái pháp luật với trọng lượng là 150.062kg. Về hành vi của những người liên quan:.',\n",
       "   'htmlSnippet': 'Feb 24, 2023 <b>...</b> ... <b>đã đổ</b>, <b>thải ra môi trường chất thải rắn thông thường</b> trái pháp luật với trọng <b>lượng</b> là 150.062kg. Về <b>hành vi</b> của những <b>người</b> liên quan:.',\n",
       "   'formattedUrl': 'https://congbobanan.toaan.gov.vn/3ta1146058t1cvn/',\n",
       "   'htmlFormattedUrl': 'https://congbobanan.toaan.gov.vn/3ta1146058t1cvn/',\n",
       "   'pagemap': {'metatags': [{'moddate': \"D:20230324141642+07'00'\",\n",
       "      'creator': 'Microsoft® Word 2013',\n",
       "      'creationdate': \"D:20230324141642+07'00'\",\n",
       "      'author': 'Win 8.1 Version 2',\n",
       "      'producer': 'Microsoft® Word 2013'}]},\n",
       "   'mime': 'application/pdf',\n",
       "   'fileFormat': 'PDF/Adobe Acrobat'},\n",
       "  {'kind': 'customsearch#result',\n",
       "   'title': 'Bình Dương: Bắt chủ cơ sở chôn lấp 600 tấn chất thải rắn nguy hại',\n",
       "   'htmlTitle': 'Bình Dương: Bắt chủ cơ sở <b>chôn lấp</b> 600 tấn <b>chất thải rắn</b> nguy hại',\n",
       "   'link': 'https://kinhtedothi.vn/binh-duong-bat-chu-co-so-chon-lap-600-tan-chat-thai-ran-nguy-hai.html',\n",
       "   'displayLink': 'kinhtedothi.vn',\n",
       "   'snippet': 'Mar 24, 2023 ... ... cho biết đã khởi tố vụ án, khởi tố bị can và bắt tạm giam Tô Văn Hải (SN 1970, HKTT huyện Phú Giáo, Bình Dương) về hành vi gây ô nhiễm môi',\n",
       "   'htmlSnippet': 'Mar 24, 2023 <b>...</b> ... <b>cho</b> biết <b>đã</b> khởi tố vụ án, khởi tố bị can và bắt tạm giam <b>Tô Văn Hải</b> (SN 1970, HKTT huyện Phú <b>Giáo</b>, Bình Dương) về <b>hành vi</b> gây ô nhiễm <b>môi</b>',\n",
       "   'formattedUrl': 'https://kinhtedothi.vn/binh-duong-bat-chu-co-so-chon-lap-600-tan-chat-tha...',\n",
       "   'htmlFormattedUrl': 'https://kinhtedothi.vn/binh-duong-bat-chu-co-so-<b>cho</b>n-lap-600-tan-chat-tha...',\n",
       "   'pagemap': {'cse_thumbnail': [{'src': 'https://encrypted-tbn0.gstatic.com/images?q=tbn:ANd9GcTHo6pjxAUeZazX8kKjPGA1U_m-kAjbX60jMhHzXkuvE0MdTgJWRvbpDxfa&s',\n",
       "      'width': '290',\n",
       "      'height': '174'}],\n",
       "    'metatags': [{'image': 'https://resource.kinhtedothi.vn/2023/03/24/z4208637988077-03eae78817706e6984c955111dad80cc-2627.jpg?w=750&h=450&q=100',\n",
       "      'og:image': 'https://resource.kinhtedothi.vn/2023/03/24/z4208637988077-03eae78817706e6984c955111dad80cc-2627.jpg?w=750&h=450&q=100',\n",
       "      'og:image:width': '750',\n",
       "      'og:type': 'article',\n",
       "      'twitter:title': 'Bình Dương: Bắt chủ cơ sở chôn lấp 600 tấn chất thải rắn nguy hại',\n",
       "      'viewport': 'width=device-width, initial-scale=1',\n",
       "      'news_keywords': 'chôn lấp rác thải nguy hại bị bắt,Bình Dương,Môi trườn,ô nhiễm môi trường,Xử lý rác thải',\n",
       "      'twitter:description': 'Kinhtedothi - Ngày 24/3, Cơ quan Cảnh sát điều tra Công an tỉnh Bình Dương cho biết đã khởi tố vụ án, khởi tố bị can và bắt tạm giam Tô Văn Hải (SN 1970, HKTT huyện Phú Giáo, Bình Dương) về hành vi gây ô nhiễm môi trường.',\n",
       "      'og:title': 'Bình Dương: Bắt chủ cơ sở chôn lấp 600 tấn chất thải rắn nguy hại',\n",
       "      'og:image:height': '450',\n",
       "      'og:description': 'Kinhtedothi - Ngày 24/3, Cơ quan Cảnh sát điều tra Công an tỉnh Bình Dương cho biết đã khởi tố vụ án, khởi tố bị can và bắt tạm giam Tô Văn Hải (SN 1970, HKTT huyện Phú Giáo, Bình Dương) về hành vi gây ô nhiễm môi trường.',\n",
       "      'twitter:image': 'https://resource.kinhtedothi.vn/2023/03/24/z4208637988077-03eae78817706e6984c955111dad80cc-2627.jpg?w=750&h=450&q=100'}],\n",
       "    'cse_image': [{'src': 'https://resource.kinhtedothi.vn/2023/03/24/z4208637988077-03eae78817706e6984c955111dad80cc-2627.jpg?w=750&h=450&q=100'}]}}]}"
      ]
     },
     "execution_count": 15,
     "metadata": {},
     "output_type": "execute_result"
    }
   ],
   "source": [
    "results_json"
   ]
  },
  {
   "cell_type": "code",
   "execution_count": 17,
   "id": "6f9b3ab9",
   "metadata": {},
   "outputs": [
    {
     "data": {
      "text/plain": [
       "[{'title': 'Bình Dương: Bắt tạm giam đối tượng chôn lấp hơn 600 tấn chất thải ...',\n",
       "  'link': 'https://chinhsachcuocsong.vnanet.vn/binh-duong-bat-tam-giam-doi-tuong-chon-lap-hon-600-tan-chat-thai-ra-moi-truong/15147.html',\n",
       "  'snippet': 'Mar 24, 2023 ... Tô Văn Hải đã có hành vi cho phép người khác đổ, thải chất thải rắn thông thường ra môi trường ... Sau đó, Hải tiến hành chôn, lấp tổng khối lượng\\xa0...',\n",
       "  'query': 'Tô Văn Hải đã có hành vi cho phép người khác đổ, thải chất thải rắn thông thường ra môi trường Giáo). Sau đó, Hải tiến hành chôn, lấp tổng khối lượng 642.070 kg chất thải mà không được cơ quan nhà nước có thẩm quyền cho phép.',\n",
       "  'search_page': 1,\n",
       "  'approx_rank': 1},\n",
       " {'title': 'Bắt tạm giam đối tượng chôn lấp hơn 600 tấn chất thải ra môi trường',\n",
       "  'link': 'https://www.vietnamplus.vn/bat-tam-giam-doi-tuong-chon-lap-hon-600-tan-chat-thai-ra-moi-truong-post853193.vnp',\n",
       "  'snippet': 'Mar 24, 2023 ... Tô Văn Hải là người trực tiếp điều hành, quản lý Cơ sở nuôi trồng thủy sản Thăng Tiến đã có hành vi cho phép người khác đổ, thải chất thải rắn\\xa0...',\n",
       "  'query': 'Tô Văn Hải đã có hành vi cho phép người khác đổ, thải chất thải rắn thông thường ra môi trường Giáo). Sau đó, Hải tiến hành chôn, lấp tổng khối lượng 642.070 kg chất thải mà không được cơ quan nhà nước có thẩm quyền cho phép.',\n",
       "  'search_page': 1,\n",
       "  'approx_rank': 2},\n",
       " {'title': 'góc nhìn: rác thải sinh hoạt tại việt nam - thực trạng và giải pháp',\n",
       "  'link': 'https://quochoi.vn/tintuc/Pages/tin-hoat-dong-cua-quoc-hoi.aspx?ItemID=82916',\n",
       "  'snippet': 'Dec 6, 2023 ... Lượng khí thải chiếm tới 5% tổng lượng rác xử lý với nguy cơ chứa các chất gây ung thư như furan và dioxin, đang được thu gom nhưng kho chứa tro\\xa0...',\n",
       "  'query': 'Tô Văn Hải đã có hành vi cho phép người khác đổ, thải chất thải rắn thông thường ra môi trường Giáo). Sau đó, Hải tiến hành chôn, lấp tổng khối lượng 642.070 kg chất thải mà không được cơ quan nhà nước có thẩm quyền cho phép.',\n",
       "  'search_page': 1,\n",
       "  'approx_rank': 3},\n",
       " {'title': 'Luật Bảo vệ môi trường 2020 số 72/2020/QH14 mới nhất áp dụng ...',\n",
       "  'link': 'https://thuvienphapluat.vn/van-ban/Tai-nguyen-Moi-truong/Luat-so-72-2020-QH14-Bao-ve-moi-truong-2020-431147.aspx',\n",
       "  'snippet': 'Nov 17, 2020 ... ... chôn lấp chất thải rắn sinh hoạt có trách nhiệm sau đây: a) Ngay sau khi đóng bãi chôn lấp chất thải rắn sinh hoạt phải tiến hành cải tạo\\xa0...',\n",
       "  'query': 'Tô Văn Hải đã có hành vi cho phép người khác đổ, thải chất thải rắn thông thường ra môi trường Giáo). Sau đó, Hải tiến hành chôn, lấp tổng khối lượng 642.070 kg chất thải mà không được cơ quan nhà nước có thẩm quyền cho phép.',\n",
       "  'search_page': 1,\n",
       "  'approx_rank': 4},\n",
       " {'title': 'ĐÁNH GIÁ CÔNG TÁC QUẢN LÝ CHẤT THẢI RẮN SINH HOẠT VÀ',\n",
       "  'link': 'https://documents1.worldbank.org/curated/ru/504821559676898971/pdf/Solid-and-industrial-hazardous-waste-management-assessment-options-and-actions-areas.pdf',\n",
       "  'snippet': 'Các kết quả tìm hiểu, các giải thích và kết luận đưa ra trong báo cáo này không phản ánh quan điểm chính thức của ban Giám đốc điều hành Ngân hàng Thế giới hoặc\\xa0...',\n",
       "  'query': 'Tô Văn Hải đã có hành vi cho phép người khác đổ, thải chất thải rắn thông thường ra môi trường Giáo). Sau đó, Hải tiến hành chôn, lấp tổng khối lượng 642.070 kg chất thải mà không được cơ quan nhà nước có thẩm quyền cho phép.',\n",
       "  'search_page': 1,\n",
       "  'approx_rank': 5},\n",
       " {'title': 'Mức phạt đối với hành vi chôn lấp chất thải nguy hại trái quy định?',\n",
       "  'link': 'https://baotainguyenmoitruong.vn/muc-phat-hanh-vi-chon-lap-chat-thai-nguy-hai-trai-quy-dinh-342175.html',\n",
       "  'snippet': 'Jul 27, 2022 ... (TN&MT) - Bạn đọc Phạm Trúc Linh (Hà Nội) hỏi: Qua truyền thông, tôi được biết, Chính phủ mới ban hành quy định xử phạt mới liên quan đến\\xa0...',\n",
       "  'query': 'Tô Văn Hải đã có hành vi cho phép người khác đổ, thải chất thải rắn thông thường ra môi trường Giáo). Sau đó, Hải tiến hành chôn, lấp tổng khối lượng 642.070 kg chất thải mà không được cơ quan nhà nước có thẩm quyền cho phép.',\n",
       "  'search_page': 1,\n",
       "  'approx_rank': 6},\n",
       " {'title': 'Huyện Hoằng Hóa: Nỗ lực giải bài toán rác thải sinh hoạt, bảo vệ ...',\n",
       "  'link': 'https://baothanhhoa.vn/huyen-hoang-hoa-no-luc-giai-bai-toan-rac-thai-sinh-hoat-bao-ve-moi-truong-94598.htm',\n",
       "  'snippet': 'Dec 20, 2018 ... Qua quá trình thi công, do địa chất khu vực không phù hợp cho việc chôn lấp rác thải, do đó UBND huyện Hoằng Hóa đã đề nghị UBND tỉnh cho phép\\xa0...',\n",
       "  'query': 'Tô Văn Hải đã có hành vi cho phép người khác đổ, thải chất thải rắn thông thường ra môi trường Giáo). Sau đó, Hải tiến hành chôn, lấp tổng khối lượng 642.070 kg chất thải mà không được cơ quan nhà nước có thẩm quyền cho phép.',\n",
       "  'search_page': 1,\n",
       "  'approx_rank': 7},\n",
       " {'title': 'Tự ý đốt chất thải có thể bị xử phạt đến 1 triệu đồng',\n",
       "  'link': 'https://baotainguyenmoitruong.vn/tu-y-dot-chat-thai-co-the-bi-xu-phat-den-1-trieu-dong-382581.html',\n",
       "  'snippet': 'Nov 1, 2024 ... (TN&MT) - Bạn đọc Nguyễn Minh Quân ở Gia Lộc, Hải Dương hỏi: Ở nhiều địa phương trong cả nước hiện đang xảy ra tình trạng đốt rác thải sinh\\xa0...',\n",
       "  'query': 'Tô Văn Hải đã có hành vi cho phép người khác đổ, thải chất thải rắn thông thường ra môi trường Giáo). Sau đó, Hải tiến hành chôn, lấp tổng khối lượng 642.070 kg chất thải mà không được cơ quan nhà nước có thẩm quyền cho phép.',\n",
       "  'search_page': 1,\n",
       "  'approx_rank': 8},\n",
       " {'title': '1 Bản án số: 40/2023/HSST Ngày 24/02/2023 Độc lập - Tự do ...',\n",
       "  'link': 'https://congbobanan.toaan.gov.vn/3ta1146058t1cvn/',\n",
       "  'snippet': 'Feb 24, 2023 ... ... đã đổ, thải ra môi trường chất thải rắn thông thường trái pháp luật với trọng lượng là 150.062kg. Về hành vi của những người liên quan:.',\n",
       "  'query': 'Tô Văn Hải đã có hành vi cho phép người khác đổ, thải chất thải rắn thông thường ra môi trường Giáo). Sau đó, Hải tiến hành chôn, lấp tổng khối lượng 642.070 kg chất thải mà không được cơ quan nhà nước có thẩm quyền cho phép.',\n",
       "  'search_page': 1,\n",
       "  'approx_rank': 9},\n",
       " {'title': 'Bình Dương: Bắt chủ cơ sở chôn lấp 600 tấn chất thải rắn nguy hại',\n",
       "  'link': 'https://kinhtedothi.vn/binh-duong-bat-chu-co-so-chon-lap-600-tan-chat-thai-ran-nguy-hai.html',\n",
       "  'snippet': 'Mar 24, 2023 ... ... cho biết đã khởi tố vụ án, khởi tố bị can và bắt tạm giam Tô Văn Hải (SN 1970, HKTT huyện Phú Giáo, Bình Dương) về hành vi gây ô nhiễm môi',\n",
       "  'query': 'Tô Văn Hải đã có hành vi cho phép người khác đổ, thải chất thải rắn thông thường ra môi trường Giáo). Sau đó, Hải tiến hành chôn, lấp tổng khối lượng 642.070 kg chất thải mà không được cơ quan nhà nước có thẩm quyền cho phép.',\n",
       "  'search_page': 1,\n",
       "  'approx_rank': 10}]"
      ]
     },
     "execution_count": 17,
     "metadata": {},
     "output_type": "execute_result"
    }
   ],
   "source": [
    "search_results_list"
   ]
  },
  {
   "cell_type": "code",
   "execution_count": null,
   "id": "b1dcd54f",
   "metadata": {},
   "outputs": [
    {
     "name": "stderr",
     "output_type": "stream",
     "text": [
      "ERROR:root:Extraction error fetching https://chinhsachcuocsong.vnanet.vn/binh-duong-bat-tam-giam-doi-tuong-chon-lap-hon-600-tan-chat-thai-ra-moi-truong/15147.html: HTTPSConnectionPool(host='chinhsachcuocsong.vnanet.vn', port=443): Max retries exceeded with url: /binh-duong-bat-tam-giam-doi-tuong-chon-lap-hon-600-tan-chat-thai-ra-moi-truong/15147.html (Caused by SSLError(SSLError(1, '[SSL: UNSAFE_LEGACY_RENEGOTIATION_DISABLED] unsafe legacy renegotiation disabled (_ssl.c:1000)')))\n"
     ]
    },
    {
     "name": "stderr",
     "output_type": "stream",
     "text": [
      "WARNING:trafilatura.core:discarding data: None\n",
      "ERROR:root:Extraction error fetching https://congbobanan.toaan.gov.vn/3ta1146058t1cvn/: HTTPSConnectionPool(host='congbobanan.toaan.gov.vn', port=443): Max retries exceeded with url: /3ta1146058t1cvn/ (Caused by SSLError(SSLCertVerificationError(1, '[SSL: CERTIFICATE_VERIFY_FAILED] certificate verify failed: unable to get local issuer certificate (_ssl.c:1000)')))\n"
     ]
    }
   ],
   "source": [
    "file_mode = \"w\"\n",
    "\n",
    "with open(config.DEFAULT_SEARCH_OUTPUT_FILENAME, file_mode, encoding='utf-8') as search_outfile, \\\n",
    "     open(config.DEFAULT_EXTRACTED_OUTPUT_FILENAME, file_mode, encoding='utf-8') as extracted_outfile:\n",
    "\n",
    "    search_results_list = process_search_results(results_json)\n",
    "    if search_results_list:\n",
    "        logging.debug(\"Processing %d results from search page %d for query '%s'\",\n",
    "                        len(search_results_list), 1, query)\n",
    "\n",
    "        for result_index, search_item in enumerate(search_results_list):\n",
    "            current_rank = 1 + result_index\n",
    "\n",
    "            # 1. Save Raw Result using the imported function\n",
    "            search_item['query'] = query\n",
    "            search_item['search_page'] = 1\n",
    "            search_item['approx_rank'] = current_rank\n",
    "            # Use imported function here\n",
    "            if save_jsonl_record(search_outfile, search_item):\n",
    "                counters[\"raw_saved\"] += 1\n",
    "\n",
    "            # 2. Extract Text\n",
    "            target_url = search_item['link']\n",
    "            counters[\"urls_processed\"] += 1\n",
    "            extracted_content = extract_main_text_requests(target_url, timeout=config.DEFAULT_EXTRACTION_TIMEOUT)\n",
    "            if extracted_content is not None:\n",
    "                counters[\"extractions_success\"] += 1\n",
    "\n",
    "            # 3. Save Extracted Result using the imported function\n",
    "            final_record = {\n",
    "                \"query\": query, \"search_page\": 1, \"approx_rank\": current_rank,\n",
    "                \"url\": target_url, \"title\": search_item.get('title', 'N/A'),\n",
    "                \"extracted_text\": extracted_content\n",
    "            }\n",
    "            # Use imported function here\n",
    "            save_jsonl_record(extracted_outfile, final_record)\n",
    "\n",
    "        if len(search_results_list) < config.DEFAULT_CSE_NUM_RESULTS:\n",
    "            logging.info(\"Received fewer results (%d) than requested (%d) for query '%s', page %d; stopping page fetch.\", len(search_results_list), config.DEFAULT_CSE_NUM_RESULTS, query, 1)\n",
    "            stop_fetching_pages = True\n",
    "    else:\n",
    "        logging.info(\"No valid URLs found in results for query '%s', page %d. Stopping page fetch.\", query, 1)\n",
    "        stop_fetching_pages = True"
   ]
  },
  {
   "cell_type": "code",
   "execution_count": null,
   "id": "bbb14288",
   "metadata": {},
   "outputs": [],
   "source": []
  }
 ],
 "metadata": {
  "kernelspec": {
   "display_name": ".venv",
   "language": "python",
   "name": "python3"
  },
  "language_info": {
   "codemirror_mode": {
    "name": "ipython",
    "version": 3
   },
   "file_extension": ".py",
   "mimetype": "text/x-python",
   "name": "python",
   "nbconvert_exporter": "python",
   "pygments_lexer": "ipython3",
   "version": "3.12.6"
  }
 },
 "nbformat": 4,
 "nbformat_minor": 5
}
