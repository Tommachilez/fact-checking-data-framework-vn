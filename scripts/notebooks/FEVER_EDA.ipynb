{
 "cells": [
  {
   "cell_type": "code",
   "execution_count": 1,
   "id": "c0df2896",
   "metadata": {},
   "outputs": [],
   "source": [
    "import json\n",
    "import pandas as pd\n",
    "\n",
    "def read_jsonl_to_dataframe(file_path):\n",
    "    with open(file_path, 'r') as file:\n",
    "        data = [json.loads(line) for line in file]\n",
    "    return pd.DataFrame(data)"
   ]
  },
  {
   "cell_type": "code",
   "execution_count": 9,
   "id": "3c4061aa",
   "metadata": {},
   "outputs": [
    {
     "data": {
      "application/vnd.microsoft.datawrangler.viewer.v0+json": {
       "columns": [
        {
         "name": "index",
         "rawType": "int64",
         "type": "integer"
        },
        {
         "name": "id",
         "rawType": "int64",
         "type": "integer"
        },
        {
         "name": "verifiable",
         "rawType": "object",
         "type": "string"
        },
        {
         "name": "label",
         "rawType": "object",
         "type": "string"
        },
        {
         "name": "claim",
         "rawType": "object",
         "type": "string"
        },
        {
         "name": "evidence",
         "rawType": "object",
         "type": "unknown"
        }
       ],
       "conversionMethod": "pd.DataFrame",
       "ref": "86cdac61-62f9-4ae5-ac70-04352e099b6a",
       "rows": [
        [
         "0",
         "75397",
         "VERIFIABLE",
         "SUPPORTS",
         "Nikolaj Coster-Waldau worked with the Fox Broadcasting Company.",
         "[[[92206, 104971, 'Nikolaj_Coster-Waldau', 7], [92206, 104971, 'Fox_Broadcasting_Company', 0]]]"
        ],
        [
         "1",
         "150448",
         "VERIFIABLE",
         "SUPPORTS",
         "Roman Atwood is a content creator.",
         "[[[174271, 187498, 'Roman_Atwood', 1]], [[174271, 187499, 'Roman_Atwood', 3]]]"
        ],
        [
         "2",
         "214861",
         "VERIFIABLE",
         "SUPPORTS",
         "History of art includes architecture, dance, sculpture, music, painting, poetry literature, theatre, narrative, film, photography and graphic arts.",
         "[[[255136, 254645, 'History_of_art', 2]]]"
        ],
        [
         "3",
         "156709",
         "VERIFIABLE",
         "REFUTES",
         "Adrienne Bailon is an accountant.",
         "[[[180804, 193183, 'Adrienne_Bailon', 0]]]"
        ],
        [
         "4",
         "83235",
         "NOT VERIFIABLE",
         "NOT ENOUGH INFO",
         "System of a Down briefly disbanded in limbo.",
         "[[[100277, None, None, None]]]"
        ]
       ],
       "shape": {
        "columns": 5,
        "rows": 5
       }
      },
      "text/html": [
       "<div>\n",
       "<style scoped>\n",
       "    .dataframe tbody tr th:only-of-type {\n",
       "        vertical-align: middle;\n",
       "    }\n",
       "\n",
       "    .dataframe tbody tr th {\n",
       "        vertical-align: top;\n",
       "    }\n",
       "\n",
       "    .dataframe thead th {\n",
       "        text-align: right;\n",
       "    }\n",
       "</style>\n",
       "<table border=\"1\" class=\"dataframe\">\n",
       "  <thead>\n",
       "    <tr style=\"text-align: right;\">\n",
       "      <th></th>\n",
       "      <th>id</th>\n",
       "      <th>verifiable</th>\n",
       "      <th>label</th>\n",
       "      <th>claim</th>\n",
       "      <th>evidence</th>\n",
       "    </tr>\n",
       "  </thead>\n",
       "  <tbody>\n",
       "    <tr>\n",
       "      <th>0</th>\n",
       "      <td>75397</td>\n",
       "      <td>VERIFIABLE</td>\n",
       "      <td>SUPPORTS</td>\n",
       "      <td>Nikolaj Coster-Waldau worked with the Fox Broa...</td>\n",
       "      <td>[[[92206, 104971, Nikolaj_Coster-Waldau, 7], [...</td>\n",
       "    </tr>\n",
       "    <tr>\n",
       "      <th>1</th>\n",
       "      <td>150448</td>\n",
       "      <td>VERIFIABLE</td>\n",
       "      <td>SUPPORTS</td>\n",
       "      <td>Roman Atwood is a content creator.</td>\n",
       "      <td>[[[174271, 187498, Roman_Atwood, 1]], [[174271...</td>\n",
       "    </tr>\n",
       "    <tr>\n",
       "      <th>2</th>\n",
       "      <td>214861</td>\n",
       "      <td>VERIFIABLE</td>\n",
       "      <td>SUPPORTS</td>\n",
       "      <td>History of art includes architecture, dance, s...</td>\n",
       "      <td>[[[255136, 254645, History_of_art, 2]]]</td>\n",
       "    </tr>\n",
       "    <tr>\n",
       "      <th>3</th>\n",
       "      <td>156709</td>\n",
       "      <td>VERIFIABLE</td>\n",
       "      <td>REFUTES</td>\n",
       "      <td>Adrienne Bailon is an accountant.</td>\n",
       "      <td>[[[180804, 193183, Adrienne_Bailon, 0]]]</td>\n",
       "    </tr>\n",
       "    <tr>\n",
       "      <th>4</th>\n",
       "      <td>83235</td>\n",
       "      <td>NOT VERIFIABLE</td>\n",
       "      <td>NOT ENOUGH INFO</td>\n",
       "      <td>System of a Down briefly disbanded in limbo.</td>\n",
       "      <td>[[[100277, None, None, None]]]</td>\n",
       "    </tr>\n",
       "  </tbody>\n",
       "</table>\n",
       "</div>"
      ],
      "text/plain": [
       "       id      verifiable            label  \\\n",
       "0   75397      VERIFIABLE         SUPPORTS   \n",
       "1  150448      VERIFIABLE         SUPPORTS   \n",
       "2  214861      VERIFIABLE         SUPPORTS   \n",
       "3  156709      VERIFIABLE          REFUTES   \n",
       "4   83235  NOT VERIFIABLE  NOT ENOUGH INFO   \n",
       "\n",
       "                                               claim  \\\n",
       "0  Nikolaj Coster-Waldau worked with the Fox Broa...   \n",
       "1                 Roman Atwood is a content creator.   \n",
       "2  History of art includes architecture, dance, s...   \n",
       "3                  Adrienne Bailon is an accountant.   \n",
       "4       System of a Down briefly disbanded in limbo.   \n",
       "\n",
       "                                            evidence  \n",
       "0  [[[92206, 104971, Nikolaj_Coster-Waldau, 7], [...  \n",
       "1  [[[174271, 187498, Roman_Atwood, 1]], [[174271...  \n",
       "2            [[[255136, 254645, History_of_art, 2]]]  \n",
       "3           [[[180804, 193183, Adrienne_Bailon, 0]]]  \n",
       "4                     [[[100277, None, None, None]]]  "
      ]
     },
     "execution_count": 9,
     "metadata": {},
     "output_type": "execute_result"
    }
   ],
   "source": [
    "train_df = read_jsonl_to_dataframe('../ref_resources/data_related/FEVER/train.jsonl')\n",
    "train_df.head()"
   ]
  },
  {
   "cell_type": "code",
   "execution_count": 4,
   "id": "5bae0f82",
   "metadata": {},
   "outputs": [
    {
     "data": {
      "application/vnd.microsoft.datawrangler.viewer.v0+json": {
       "columns": [
        {
         "name": "index",
         "rawType": "int64",
         "type": "integer"
        },
        {
         "name": "id",
         "rawType": "int64",
         "type": "integer"
        },
        {
         "name": "verifiable",
         "rawType": "object",
         "type": "string"
        },
        {
         "name": "label",
         "rawType": "object",
         "type": "string"
        },
        {
         "name": "claim",
         "rawType": "object",
         "type": "string"
        },
        {
         "name": "evidence",
         "rawType": "object",
         "type": "unknown"
        }
       ],
       "conversionMethod": "pd.DataFrame",
       "ref": "ed502914-f064-47b7-b71c-e2c4101ea4e0",
       "rows": [
        [
         "0",
         "91198",
         "NOT VERIFIABLE",
         "NOT ENOUGH INFO",
         "Colin Kaepernick became a starting quarterback during the 49ers 63rd season in the National Football League.",
         "[[[108548, None, None, None]]]"
        ],
        [
         "1",
         "194462",
         "NOT VERIFIABLE",
         "NOT ENOUGH INFO",
         "Tilda Swinton is a vegan.",
         "[[[227768, None, None, None]]]"
        ],
        [
         "2",
         "137334",
         "VERIFIABLE",
         "SUPPORTS",
         "Fox 2000 Pictures released the film Soul Food.",
         "[[[289914, 283015, 'Soul_Food_-LRB-film-RRB-', 0]], [[291259, 284217, 'Soul_Food_-LRB-film-RRB-', 0]], [[293412, 285960, 'Soul_Food_-LRB-film-RRB-', 0]], [[337212, 322620, 'Soul_Food_-LRB-film-RRB-', 0]], [[337214, 322622, 'Soul_Food_-LRB-film-RRB-', 0]]]"
        ],
        [
         "3",
         "166626",
         "NOT VERIFIABLE",
         "NOT ENOUGH INFO",
         "Anne Rice was born in New Jersey.",
         "[[[191656, None, None, None], [191657, None, None, None]]]"
        ],
        [
         "4",
         "111897",
         "VERIFIABLE",
         "REFUTES",
         "Telemundo is a English-language television network.",
         "[[[131371, 146144, 'Telemundo', 0]], [[131371, 146148, 'Telemundo', 1]], [[131371, 146150, 'Telemundo', 4], [131371, 146150, 'Hispanic_and_Latino_Americans', 0]], [[131371, 146151, 'Telemundo', 5]]]"
        ]
       ],
       "shape": {
        "columns": 5,
        "rows": 5
       }
      },
      "text/html": [
       "<div>\n",
       "<style scoped>\n",
       "    .dataframe tbody tr th:only-of-type {\n",
       "        vertical-align: middle;\n",
       "    }\n",
       "\n",
       "    .dataframe tbody tr th {\n",
       "        vertical-align: top;\n",
       "    }\n",
       "\n",
       "    .dataframe thead th {\n",
       "        text-align: right;\n",
       "    }\n",
       "</style>\n",
       "<table border=\"1\" class=\"dataframe\">\n",
       "  <thead>\n",
       "    <tr style=\"text-align: right;\">\n",
       "      <th></th>\n",
       "      <th>id</th>\n",
       "      <th>verifiable</th>\n",
       "      <th>label</th>\n",
       "      <th>claim</th>\n",
       "      <th>evidence</th>\n",
       "    </tr>\n",
       "  </thead>\n",
       "  <tbody>\n",
       "    <tr>\n",
       "      <th>0</th>\n",
       "      <td>91198</td>\n",
       "      <td>NOT VERIFIABLE</td>\n",
       "      <td>NOT ENOUGH INFO</td>\n",
       "      <td>Colin Kaepernick became a starting quarterback...</td>\n",
       "      <td>[[[108548, None, None, None]]]</td>\n",
       "    </tr>\n",
       "    <tr>\n",
       "      <th>1</th>\n",
       "      <td>194462</td>\n",
       "      <td>NOT VERIFIABLE</td>\n",
       "      <td>NOT ENOUGH INFO</td>\n",
       "      <td>Tilda Swinton is a vegan.</td>\n",
       "      <td>[[[227768, None, None, None]]]</td>\n",
       "    </tr>\n",
       "    <tr>\n",
       "      <th>2</th>\n",
       "      <td>137334</td>\n",
       "      <td>VERIFIABLE</td>\n",
       "      <td>SUPPORTS</td>\n",
       "      <td>Fox 2000 Pictures released the film Soul Food.</td>\n",
       "      <td>[[[289914, 283015, Soul_Food_-LRB-film-RRB-, 0...</td>\n",
       "    </tr>\n",
       "    <tr>\n",
       "      <th>3</th>\n",
       "      <td>166626</td>\n",
       "      <td>NOT VERIFIABLE</td>\n",
       "      <td>NOT ENOUGH INFO</td>\n",
       "      <td>Anne Rice was born in New Jersey.</td>\n",
       "      <td>[[[191656, None, None, None], [191657, None, N...</td>\n",
       "    </tr>\n",
       "    <tr>\n",
       "      <th>4</th>\n",
       "      <td>111897</td>\n",
       "      <td>VERIFIABLE</td>\n",
       "      <td>REFUTES</td>\n",
       "      <td>Telemundo is a English-language television net...</td>\n",
       "      <td>[[[131371, 146144, Telemundo, 0]], [[131371, 1...</td>\n",
       "    </tr>\n",
       "  </tbody>\n",
       "</table>\n",
       "</div>"
      ],
      "text/plain": [
       "       id      verifiable            label  \\\n",
       "0   91198  NOT VERIFIABLE  NOT ENOUGH INFO   \n",
       "1  194462  NOT VERIFIABLE  NOT ENOUGH INFO   \n",
       "2  137334      VERIFIABLE         SUPPORTS   \n",
       "3  166626  NOT VERIFIABLE  NOT ENOUGH INFO   \n",
       "4  111897      VERIFIABLE          REFUTES   \n",
       "\n",
       "                                               claim  \\\n",
       "0  Colin Kaepernick became a starting quarterback...   \n",
       "1                          Tilda Swinton is a vegan.   \n",
       "2     Fox 2000 Pictures released the film Soul Food.   \n",
       "3                  Anne Rice was born in New Jersey.   \n",
       "4  Telemundo is a English-language television net...   \n",
       "\n",
       "                                            evidence  \n",
       "0                     [[[108548, None, None, None]]]  \n",
       "1                     [[[227768, None, None, None]]]  \n",
       "2  [[[289914, 283015, Soul_Food_-LRB-film-RRB-, 0...  \n",
       "3  [[[191656, None, None, None], [191657, None, N...  \n",
       "4  [[[131371, 146144, Telemundo, 0]], [[131371, 1...  "
      ]
     },
     "execution_count": 4,
     "metadata": {},
     "output_type": "execute_result"
    }
   ],
   "source": [
    "dev_df = read_jsonl_to_dataframe('../ref_resources/data_related/FEVER/paper_dev.jsonl')\n",
    "dev_df.head()"
   ]
  },
  {
   "cell_type": "code",
   "execution_count": 5,
   "id": "16abfa2e",
   "metadata": {},
   "outputs": [
    {
     "data": {
      "application/vnd.microsoft.datawrangler.viewer.v0+json": {
       "columns": [
        {
         "name": "index",
         "rawType": "int64",
         "type": "integer"
        },
        {
         "name": "id",
         "rawType": "int64",
         "type": "integer"
        },
        {
         "name": "verifiable",
         "rawType": "object",
         "type": "string"
        },
        {
         "name": "label",
         "rawType": "object",
         "type": "string"
        },
        {
         "name": "claim",
         "rawType": "object",
         "type": "string"
        },
        {
         "name": "evidence",
         "rawType": "object",
         "type": "unknown"
        }
       ],
       "conversionMethod": "pd.DataFrame",
       "ref": "81980745-09ac-437c-8a02-c82970fd01a0",
       "rows": [
        [
         "0",
         "113501",
         "NOT VERIFIABLE",
         "NOT ENOUGH INFO",
         "Grease had bad reviews.",
         "[[[133128, None, None, None]]]"
        ],
        [
         "1",
         "163803",
         "VERIFIABLE",
         "SUPPORTS",
         "Ukrainian Soviet Socialist Republic was a founding participant of the UN.",
         "[[[296950, 288668, 'Ukrainian_Soviet_Socialist_Republic', 7]], [[298602, 290067, 'Ukrainian_Soviet_Socialist_Republic', 7], [298602, 290067, 'United_Nations', 0]], [[300696, 291816, 'Ukrainian_Soviet_Socialist_Republic', 7]], [[344347, 327887, 'Ukrainian_Soviet_Socialist_Republic', 7]], [[344994, 328433, 'Ukrainian_Soviet_Socialist_Republic', 7]], [[344997, 328435, 'Ukrainian_Soviet_Socialist_Republic', 7]]]"
        ],
        [
         "2",
         "70041",
         "VERIFIABLE",
         "SUPPORTS",
         "2 Hearts is a musical composition by Minogue.",
         "[[[225394, 230056, '2_Hearts_-LRB-Kylie_Minogue_song-RRB-', 0]], [[317953, 306972, '2_Hearts_-LRB-Kylie_Minogue_song-RRB-', 0]], [[319638, 308345, '2_Hearts_-LRB-Kylie_Minogue_song-RRB-', 0]], [[319643, 308348, '2_Hearts_-LRB-Kylie_Minogue_song-RRB-', 0]]]"
        ],
        [
         "3",
         "202314",
         "VERIFIABLE",
         "REFUTES",
         "The New Jersey Turnpike has zero shoulders.",
         "[[[238335, 240393, 'New_Jersey_Turnpike', 15]]]"
        ],
        [
         "4",
         "57085",
         "NOT VERIFIABLE",
         "NOT ENOUGH INFO",
         "Legendary Entertainment is the owner of Wanda Cinemas.",
         "[[[178035, None, None, None], [182093, None, None, None], [314120, None, None, None], [314126, None, None, None], [314131, None, None, None]]]"
        ]
       ],
       "shape": {
        "columns": 5,
        "rows": 5
       }
      },
      "text/html": [
       "<div>\n",
       "<style scoped>\n",
       "    .dataframe tbody tr th:only-of-type {\n",
       "        vertical-align: middle;\n",
       "    }\n",
       "\n",
       "    .dataframe tbody tr th {\n",
       "        vertical-align: top;\n",
       "    }\n",
       "\n",
       "    .dataframe thead th {\n",
       "        text-align: right;\n",
       "    }\n",
       "</style>\n",
       "<table border=\"1\" class=\"dataframe\">\n",
       "  <thead>\n",
       "    <tr style=\"text-align: right;\">\n",
       "      <th></th>\n",
       "      <th>id</th>\n",
       "      <th>verifiable</th>\n",
       "      <th>label</th>\n",
       "      <th>claim</th>\n",
       "      <th>evidence</th>\n",
       "    </tr>\n",
       "  </thead>\n",
       "  <tbody>\n",
       "    <tr>\n",
       "      <th>0</th>\n",
       "      <td>113501</td>\n",
       "      <td>NOT VERIFIABLE</td>\n",
       "      <td>NOT ENOUGH INFO</td>\n",
       "      <td>Grease had bad reviews.</td>\n",
       "      <td>[[[133128, None, None, None]]]</td>\n",
       "    </tr>\n",
       "    <tr>\n",
       "      <th>1</th>\n",
       "      <td>163803</td>\n",
       "      <td>VERIFIABLE</td>\n",
       "      <td>SUPPORTS</td>\n",
       "      <td>Ukrainian Soviet Socialist Republic was a foun...</td>\n",
       "      <td>[[[296950, 288668, Ukrainian_Soviet_Socialist_...</td>\n",
       "    </tr>\n",
       "    <tr>\n",
       "      <th>2</th>\n",
       "      <td>70041</td>\n",
       "      <td>VERIFIABLE</td>\n",
       "      <td>SUPPORTS</td>\n",
       "      <td>2 Hearts is a musical composition by Minogue.</td>\n",
       "      <td>[[[225394, 230056, 2_Hearts_-LRB-Kylie_Minogue...</td>\n",
       "    </tr>\n",
       "    <tr>\n",
       "      <th>3</th>\n",
       "      <td>202314</td>\n",
       "      <td>VERIFIABLE</td>\n",
       "      <td>REFUTES</td>\n",
       "      <td>The New Jersey Turnpike has zero shoulders.</td>\n",
       "      <td>[[[238335, 240393, New_Jersey_Turnpike, 15]]]</td>\n",
       "    </tr>\n",
       "    <tr>\n",
       "      <th>4</th>\n",
       "      <td>57085</td>\n",
       "      <td>NOT VERIFIABLE</td>\n",
       "      <td>NOT ENOUGH INFO</td>\n",
       "      <td>Legendary Entertainment is the owner of Wanda ...</td>\n",
       "      <td>[[[178035, None, None, None], [182093, None, N...</td>\n",
       "    </tr>\n",
       "  </tbody>\n",
       "</table>\n",
       "</div>"
      ],
      "text/plain": [
       "       id      verifiable            label  \\\n",
       "0  113501  NOT VERIFIABLE  NOT ENOUGH INFO   \n",
       "1  163803      VERIFIABLE         SUPPORTS   \n",
       "2   70041      VERIFIABLE         SUPPORTS   \n",
       "3  202314      VERIFIABLE          REFUTES   \n",
       "4   57085  NOT VERIFIABLE  NOT ENOUGH INFO   \n",
       "\n",
       "                                               claim  \\\n",
       "0                            Grease had bad reviews.   \n",
       "1  Ukrainian Soviet Socialist Republic was a foun...   \n",
       "2      2 Hearts is a musical composition by Minogue.   \n",
       "3        The New Jersey Turnpike has zero shoulders.   \n",
       "4  Legendary Entertainment is the owner of Wanda ...   \n",
       "\n",
       "                                            evidence  \n",
       "0                     [[[133128, None, None, None]]]  \n",
       "1  [[[296950, 288668, Ukrainian_Soviet_Socialist_...  \n",
       "2  [[[225394, 230056, 2_Hearts_-LRB-Kylie_Minogue...  \n",
       "3      [[[238335, 240393, New_Jersey_Turnpike, 15]]]  \n",
       "4  [[[178035, None, None, None], [182093, None, N...  "
      ]
     },
     "execution_count": 5,
     "metadata": {},
     "output_type": "execute_result"
    }
   ],
   "source": [
    "test_df = read_jsonl_to_dataframe('../ref_resources/data_related/FEVER/paper_test.jsonl')\n",
    "test_df.head()"
   ]
  },
  {
   "cell_type": "code",
   "execution_count": 12,
   "id": "303b7a84",
   "metadata": {},
   "outputs": [
    {
     "data": {
      "application/vnd.microsoft.datawrangler.viewer.v0+json": {
       "columns": [
        {
         "name": "index",
         "rawType": "int64",
         "type": "integer"
        },
        {
         "name": "id",
         "rawType": "int64",
         "type": "integer"
        },
        {
         "name": "claim",
         "rawType": "object",
         "type": "string"
        }
       ],
       "conversionMethod": "pd.DataFrame",
       "ref": "b723eec9-3514-443f-967d-d0c3216789fe",
       "rows": [
        [
         "0",
         "89296",
         "Henry Spencer is played by a Greek actor."
        ],
        [
         "1",
         "78554",
         "John Ritter died in October."
        ],
        [
         "2",
         "83809",
         "13 Reasons Why is the only television series of 2012 in the drama-mystery genre."
        ],
        [
         "3",
         "49758",
         "Playboy is a magazine."
        ],
        [
         "4",
         "22973",
         "Alternative metal is the genre in which Alice in Chains usually performs."
        ]
       ],
       "shape": {
        "columns": 2,
        "rows": 5
       }
      },
      "text/html": [
       "<div>\n",
       "<style scoped>\n",
       "    .dataframe tbody tr th:only-of-type {\n",
       "        vertical-align: middle;\n",
       "    }\n",
       "\n",
       "    .dataframe tbody tr th {\n",
       "        vertical-align: top;\n",
       "    }\n",
       "\n",
       "    .dataframe thead th {\n",
       "        text-align: right;\n",
       "    }\n",
       "</style>\n",
       "<table border=\"1\" class=\"dataframe\">\n",
       "  <thead>\n",
       "    <tr style=\"text-align: right;\">\n",
       "      <th></th>\n",
       "      <th>id</th>\n",
       "      <th>claim</th>\n",
       "    </tr>\n",
       "  </thead>\n",
       "  <tbody>\n",
       "    <tr>\n",
       "      <th>0</th>\n",
       "      <td>89296</td>\n",
       "      <td>Henry Spencer is played by a Greek actor.</td>\n",
       "    </tr>\n",
       "    <tr>\n",
       "      <th>1</th>\n",
       "      <td>78554</td>\n",
       "      <td>John Ritter died in October.</td>\n",
       "    </tr>\n",
       "    <tr>\n",
       "      <th>2</th>\n",
       "      <td>83809</td>\n",
       "      <td>13 Reasons Why is the only television series o...</td>\n",
       "    </tr>\n",
       "    <tr>\n",
       "      <th>3</th>\n",
       "      <td>49758</td>\n",
       "      <td>Playboy is a magazine.</td>\n",
       "    </tr>\n",
       "    <tr>\n",
       "      <th>4</th>\n",
       "      <td>22973</td>\n",
       "      <td>Alternative metal is the genre in which Alice ...</td>\n",
       "    </tr>\n",
       "  </tbody>\n",
       "</table>\n",
       "</div>"
      ],
      "text/plain": [
       "      id                                              claim\n",
       "0  89296          Henry Spencer is played by a Greek actor.\n",
       "1  78554                       John Ritter died in October.\n",
       "2  83809  13 Reasons Why is the only television series o...\n",
       "3  49758                             Playboy is a magazine.\n",
       "4  22973  Alternative metal is the genre in which Alice ..."
      ]
     },
     "execution_count": 12,
     "metadata": {},
     "output_type": "execute_result"
    }
   ],
   "source": [
    "shared_test_df = read_jsonl_to_dataframe('../ref_resources/data_related/FEVER/shared_task_test.jsonl')\n",
    "shared_test_df.head()"
   ]
  },
  {
   "cell_type": "code",
   "execution_count": 13,
   "id": "12a88bfa",
   "metadata": {},
   "outputs": [
    {
     "data": {
      "application/vnd.microsoft.datawrangler.viewer.v0+json": {
       "columns": [
        {
         "name": "index",
         "rawType": "int64",
         "type": "integer"
        },
        {
         "name": "id",
         "rawType": "int64",
         "type": "integer"
        },
        {
         "name": "claim",
         "rawType": "object",
         "type": "string"
        }
       ],
       "conversionMethod": "pd.DataFrame",
       "ref": "dd9d5095-1158-44fd-8578-43c16b8a25e1",
       "rows": [
        [
         "0",
         "91198",
         "Colin Kaepernick became a starting quarterback during the 49ers 63rd season in the National Football League."
        ],
        [
         "1",
         "194462",
         "Tilda Swinton is a vegan."
        ],
        [
         "2",
         "137334",
         "Fox 2000 Pictures released the film Soul Food."
        ],
        [
         "3",
         "166626",
         "Anne Rice was born in New Jersey."
        ],
        [
         "4",
         "111897",
         "Telemundo is a English-language television network."
        ]
       ],
       "shape": {
        "columns": 2,
        "rows": 5
       }
      },
      "text/html": [
       "<div>\n",
       "<style scoped>\n",
       "    .dataframe tbody tr th:only-of-type {\n",
       "        vertical-align: middle;\n",
       "    }\n",
       "\n",
       "    .dataframe tbody tr th {\n",
       "        vertical-align: top;\n",
       "    }\n",
       "\n",
       "    .dataframe thead th {\n",
       "        text-align: right;\n",
       "    }\n",
       "</style>\n",
       "<table border=\"1\" class=\"dataframe\">\n",
       "  <thead>\n",
       "    <tr style=\"text-align: right;\">\n",
       "      <th></th>\n",
       "      <th>id</th>\n",
       "      <th>claim</th>\n",
       "    </tr>\n",
       "  </thead>\n",
       "  <tbody>\n",
       "    <tr>\n",
       "      <th>0</th>\n",
       "      <td>91198</td>\n",
       "      <td>Colin Kaepernick became a starting quarterback...</td>\n",
       "    </tr>\n",
       "    <tr>\n",
       "      <th>1</th>\n",
       "      <td>194462</td>\n",
       "      <td>Tilda Swinton is a vegan.</td>\n",
       "    </tr>\n",
       "    <tr>\n",
       "      <th>2</th>\n",
       "      <td>137334</td>\n",
       "      <td>Fox 2000 Pictures released the film Soul Food.</td>\n",
       "    </tr>\n",
       "    <tr>\n",
       "      <th>3</th>\n",
       "      <td>166626</td>\n",
       "      <td>Anne Rice was born in New Jersey.</td>\n",
       "    </tr>\n",
       "    <tr>\n",
       "      <th>4</th>\n",
       "      <td>111897</td>\n",
       "      <td>Telemundo is a English-language television net...</td>\n",
       "    </tr>\n",
       "  </tbody>\n",
       "</table>\n",
       "</div>"
      ],
      "text/plain": [
       "       id                                              claim\n",
       "0   91198  Colin Kaepernick became a starting quarterback...\n",
       "1  194462                          Tilda Swinton is a vegan.\n",
       "2  137334     Fox 2000 Pictures released the film Soul Food.\n",
       "3  166626                  Anne Rice was born in New Jersey.\n",
       "4  111897  Telemundo is a English-language television net..."
      ]
     },
     "execution_count": 13,
     "metadata": {},
     "output_type": "execute_result"
    }
   ],
   "source": [
    "public_shared_dev_df = read_jsonl_to_dataframe('../ref_resources/data_related/FEVER/shared_task_dev_public.jsonl')\n",
    "public_shared_dev_df.head()"
   ]
  },
  {
   "cell_type": "code",
   "execution_count": 6,
   "id": "30799f82",
   "metadata": {},
   "outputs": [
    {
     "name": "stdout",
     "output_type": "stream",
     "text": [
      "{\n",
      "    \"id\": 113501,\n",
      "    \"verifiable\": \"NOT VERIFIABLE\",\n",
      "    \"label\": \"NOT ENOUGH INFO\",\n",
      "    \"claim\": \"Grease had bad reviews.\",\n",
      "    \"evidence\": [\n",
      "        [\n",
      "            [\n",
      "                133128,\n",
      "                null,\n",
      "                null,\n",
      "                null\n",
      "            ]\n",
      "        ]\n",
      "    ]\n",
      "}\n"
     ]
    }
   ],
   "source": [
    "# Generate a JSON object with exemplary values for each column\n",
    "example_row = test_df.iloc[0].to_dict()  # Get the first row as an example\n",
    "json_object = json.dumps(example_row, indent=4, ensure_ascii=False)\n",
    "print(json_object)"
   ]
  },
  {
   "cell_type": "code",
   "execution_count": 11,
   "id": "b32d67a2",
   "metadata": {},
   "outputs": [
    {
     "name": "stdout",
     "output_type": "stream",
     "text": [
      "{\n",
      "    \"id\": 202314,\n",
      "    \"verifiable\": \"VERIFIABLE\",\n",
      "    \"label\": \"REFUTES\",\n",
      "    \"claim\": \"The New Jersey Turnpike has zero shoulders.\",\n",
      "    \"evidence\": [\n",
      "        [\n",
      "            [\n",
      "                238335,\n",
      "                240393,\n",
      "                \"New_Jersey_Turnpike\",\n",
      "                15\n",
      "            ]\n",
      "        ]\n",
      "    ]\n",
      "}\n"
     ]
    }
   ],
   "source": [
    "# Generate a JSON object with exemplary values for each column\n",
    "example_row = test_df.iloc[3].to_dict()  # Get the first row as an example\n",
    "json_object = json.dumps(example_row, indent=4, ensure_ascii=False)\n",
    "print(json_object)"
   ]
  },
  {
   "cell_type": "code",
   "execution_count": 10,
   "id": "fa7ded87",
   "metadata": {},
   "outputs": [
    {
     "name": "stdout",
     "output_type": "stream",
     "text": [
      "{\n",
      "    \"id\": 75397,\n",
      "    \"verifiable\": \"VERIFIABLE\",\n",
      "    \"label\": \"SUPPORTS\",\n",
      "    \"claim\": \"Nikolaj Coster-Waldau worked with the Fox Broadcasting Company.\",\n",
      "    \"evidence\": [\n",
      "        [\n",
      "            [\n",
      "                92206,\n",
      "                104971,\n",
      "                \"Nikolaj_Coster-Waldau\",\n",
      "                7\n",
      "            ],\n",
      "            [\n",
      "                92206,\n",
      "                104971,\n",
      "                \"Fox_Broadcasting_Company\",\n",
      "                0\n",
      "            ]\n",
      "        ]\n",
      "    ]\n",
      "}\n"
     ]
    }
   ],
   "source": [
    "# Generate a JSON object with exemplary values for each column\n",
    "example_row = train_df.iloc[0].to_dict()  # Get the first row as an example\n",
    "json_object = json.dumps(example_row, indent=4, ensure_ascii=False)\n",
    "print(json_object)"
   ]
  },
  {
   "cell_type": "code",
   "execution_count": null,
   "id": "dd00d42d",
   "metadata": {},
   "outputs": [],
   "source": []
  }
 ],
 "metadata": {
  "kernelspec": {
   "display_name": ".venv",
   "language": "python",
   "name": "python3"
  },
  "language_info": {
   "codemirror_mode": {
    "name": "ipython",
    "version": 3
   },
   "file_extension": ".py",
   "mimetype": "text/x-python",
   "name": "python",
   "nbconvert_exporter": "python",
   "pygments_lexer": "ipython3",
   "version": "3.12.6"
  }
 },
 "nbformat": 4,
 "nbformat_minor": 5
}
